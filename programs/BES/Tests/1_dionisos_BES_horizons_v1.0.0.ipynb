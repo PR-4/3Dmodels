{
 "cells": [
  {
   "cell_type": "code",
   "execution_count": 1,
   "metadata": {},
   "outputs": [
    {
     "name": "stdout",
     "output_type": "stream",
     "text": [
      "Not subsurface compatibility available\n"
     ]
    },
    {
     "name": "stderr",
     "output_type": "stream",
     "text": [
      "WARNING (theano.tensor.blas): Using NumPy C-API based implementation for BLAS functions.\n"
     ]
    }
   ],
   "source": [
    "# Dependencies\n",
    "import gempy as gp\n",
    "import numpy as np\n",
    "import pandas as pd\n",
    "import matplotlib.pyplot as plt\n",
    "from gempy.assets import topology as tp\n",
    "\n",
    "import warnings\n",
    "warnings.filterwarnings(\"ignore\")\n",
    "\n",
    "pd.set_option('precision', 2)\n",
    "\n",
    "# Creating model object and indicating path\n",
    "data_path = '../../../input/BES/dionisos_horizons_v1.0.0/'\n",
    "geo_model = gp.create_model('Dionisos_Horizons_BES_v1.0.0')"
   ]
  },
  {
   "cell_type": "code",
   "execution_count": 2,
   "metadata": {},
   "outputs": [
    {
     "data": {
      "text/plain": [
       "'%time\\n# Loading model, the extension, the resolution and importing the data \\ngp.init_data(\\n    geo_model,\\n    extent=[0, 175000, 0, 150000, -10450, 0],\\n    resolution=[100, 100, 100],\\n    path_i=data_path + \"surface_points_downscaled.csv\",\\n    path_o=data_path + \"orientations_points.csv\",\\n    )\\n\\n# Setting series for formations\\ngp.map_stack_to_surfaces(\\n    geo_model,\\n    {\"Strat_Series\": (\\n        \\'top_formation\\',\\n        \\'mid_formation\\',\\n        \\'base_formation\\',\\n        ),\\n     \"Basement_series\": (\\n         \\'basement\\',\\n         ),\\n     }\\n    )\\n\\n# Interpolating the data\\ngp.set_interpolator(\\n    geo_model, \\n    output=[\\'geology\\'], \\n    compile_theano=True, \\n    theano_optimizer=\\'fast_run\\', # fast_compile, fast_run\\n    dtype=\"float64\",  # for model stability\\n    verbose=[]\\n    )\\n\\n# Compupting the model\\ngp.compute_model(\\n    geo_model, \\n    compute_mesh=True,\\n    )\\n\\n# Creating voxel numbers\\ntopo_init = tp.compute_topology(\\n    geo_model, \\n    direction=\"x\",\\n    voxel_threshold=1\\n)  #, direction=\"Y\", cell_number=15)\\nedges_init, centroids_init = tp.clean_unconformity_topology(\\n    geo_model, \\n    1, \\n    topo_init[0], \\n    topo_init[1]\\n)'"
      ]
     },
     "execution_count": 2,
     "metadata": {},
     "output_type": "execute_result"
    }
   ],
   "source": [
    "'''%time\n",
    "# Loading model, the extension, the resolution and importing the data \n",
    "gp.init_data(\n",
    "    geo_model,\n",
    "    extent=[0, 175000, 0, 150000, -10450, 0],\n",
    "    resolution=[100, 100, 100],\n",
    "    path_i=data_path + \"surface_points_downscaled.csv\",\n",
    "    path_o=data_path + \"orientations_points.csv\",\n",
    "    )\n",
    "\n",
    "# Setting series for formations\n",
    "gp.map_stack_to_surfaces(\n",
    "    geo_model,\n",
    "    {\"Strat_Series\": (\n",
    "        'top_formation',\n",
    "        'mid_formation',\n",
    "        'base_formation',\n",
    "        ),\n",
    "     \"Basement_series\": (\n",
    "         'basement',\n",
    "         ),\n",
    "     }\n",
    "    )\n",
    "\n",
    "# Interpolating the data\n",
    "gp.set_interpolator(\n",
    "    geo_model, \n",
    "    output=['geology'], \n",
    "    compile_theano=True, \n",
    "    theano_optimizer='fast_run', # fast_compile, fast_run\n",
    "    dtype=\"float64\",  # for model stability\n",
    "    verbose=[]\n",
    "    )\n",
    "\n",
    "# Compupting the model\n",
    "gp.compute_model(\n",
    "    geo_model, \n",
    "    compute_mesh=True,\n",
    "    )\n",
    "\n",
    "# Creating voxel numbers\n",
    "topo_init = tp.compute_topology(\n",
    "    geo_model, \n",
    "    direction=\"x\",\n",
    "    voxel_threshold=1\n",
    ")  #, direction=\"Y\", cell_number=15)\n",
    "edges_init, centroids_init = tp.clean_unconformity_topology(\n",
    "    geo_model, \n",
    "    1, \n",
    "    topo_init[0], \n",
    "    topo_init[1]\n",
    ")'''"
   ]
  },
  {
   "cell_type": "code",
   "execution_count": 3,
   "metadata": {},
   "outputs": [
    {
     "data": {
      "text/plain": [
       "'# 2D Plot\\ngp.plot_2d(\\n    geo_model, \\n    direction=\"y\", \\n    show_data=False, \\n    show_lith=True, \\n    ve=1,\\n    )\\ngp.plot_2d(\\n    geo_model, \\n    direction=\"x\", \\n    show_data=False, \\n    show_lith=True, \\n    ve=2, \\n    legend=True,\\n    )\\n\\n# Plot voxel numbers\\ngp.plot.plot_topology(\\n    geo_model, \\n    edges_init, \\n    centroids_init\\n    )\\n\\n# 3D Plot\\ngpv = gp.plot_3d(\\n    geo_model, \\n    image=False, \\n    plotter_type=\\'basic\\', \\n    show_data=False\\n    )'"
      ]
     },
     "execution_count": 3,
     "metadata": {},
     "output_type": "execute_result"
    }
   ],
   "source": [
    "'''# 2D Plot\n",
    "gp.plot_2d(\n",
    "    geo_model, \n",
    "    direction=\"y\", \n",
    "    show_data=False, \n",
    "    show_lith=True, \n",
    "    ve=1,\n",
    "    )\n",
    "gp.plot_2d(\n",
    "    geo_model, \n",
    "    direction=\"x\", \n",
    "    show_data=False, \n",
    "    show_lith=True, \n",
    "    ve=2, \n",
    "    legend=True,\n",
    "    )\n",
    "\n",
    "# Plot voxel numbers\n",
    "gp.plot.plot_topology(\n",
    "    geo_model, \n",
    "    edges_init, \n",
    "    centroids_init\n",
    "    )\n",
    "\n",
    "# 3D Plot\n",
    "gpv = gp.plot_3d(\n",
    "    geo_model, \n",
    "    image=False, \n",
    "    plotter_type='basic', \n",
    "    show_data=False\n",
    "    )'''"
   ]
  },
  {
   "cell_type": "code",
   "execution_count": 4,
   "metadata": {},
   "outputs": [
    {
     "data": {
      "text/plain": [
       "'# Saving model\\ngp.save_model(\\n    geo_model, \\n    path=\"../../../output/\", \\n    compress=True,\\n    )'"
      ]
     },
     "execution_count": 4,
     "metadata": {},
     "output_type": "execute_result"
    }
   ],
   "source": [
    "'''# Saving model\n",
    "gp.save_model(\n",
    "    geo_model, \n",
    "    path=\"../../../output/\", \n",
    "    compress=True,\n",
    "    )'''"
   ]
  },
  {
   "cell_type": "markdown",
   "metadata": {},
   "source": [
    "## Step by step"
   ]
  },
  {
   "cell_type": "code",
   "execution_count": 5,
   "metadata": {},
   "outputs": [
    {
     "name": "stdout",
     "output_type": "stream",
     "text": [
      "Active grids: ['regular']\n"
     ]
    },
    {
     "data": {
      "text/plain": [
       "Dionisos_Horizons_BES_v1.0.0  2023-08-09 15:59"
      ]
     },
     "execution_count": 5,
     "metadata": {},
     "output_type": "execute_result"
    }
   ],
   "source": [
    "# Loading model, the extension, the resolution and importing the data \n",
    "gp.init_data(\n",
    "    geo_model,\n",
    "    extent=[0, 175000, 0, 150000, -10450, 0],\n",
    "    resolution=[50, 50, 50],\n",
    "    path_i=data_path + \"surface_points_horizons.csv\",\n",
    "    path_o=data_path + \"orientations_points_horizons.csv\",\n",
    "    )"
   ]
  },
  {
   "cell_type": "code",
   "execution_count": 6,
   "metadata": {},
   "outputs": [
    {
     "data": {
      "text/html": [
       "<style type=\"text/css\">\n",
       "#T_22c3a_row0_col3 {\n",
       "  background-color: #015482;\n",
       "}\n",
       "#T_22c3a_row1_col3 {\n",
       "  background-color: #9f0052;\n",
       "}\n",
       "#T_22c3a_row2_col3 {\n",
       "  background-color: #ffbe00;\n",
       "}\n",
       "#T_22c3a_row3_col3 {\n",
       "  background-color: #728f02;\n",
       "}\n",
       "#T_22c3a_row4_col3 {\n",
       "  background-color: #443988;\n",
       "}\n",
       "</style>\n",
       "<table id=\"T_22c3a_\">\n",
       "  <thead>\n",
       "    <tr>\n",
       "      <th class=\"blank level0\" >&nbsp;</th>\n",
       "      <th class=\"col_heading level0 col0\" >surface</th>\n",
       "      <th class=\"col_heading level0 col1\" >series</th>\n",
       "      <th class=\"col_heading level0 col2\" >order_surfaces</th>\n",
       "      <th class=\"col_heading level0 col3\" >color</th>\n",
       "      <th class=\"col_heading level0 col4\" >id</th>\n",
       "    </tr>\n",
       "  </thead>\n",
       "  <tbody>\n",
       "    <tr>\n",
       "      <th id=\"T_22c3a_level0_row0\" class=\"row_heading level0 row0\" >0</th>\n",
       "      <td id=\"T_22c3a_row0_col0\" class=\"data row0 col0\" >Horizon_1</td>\n",
       "      <td id=\"T_22c3a_row0_col1\" class=\"data row0 col1\" >Default series</td>\n",
       "      <td id=\"T_22c3a_row0_col2\" class=\"data row0 col2\" >1</td>\n",
       "      <td id=\"T_22c3a_row0_col3\" class=\"data row0 col3\" >#015482</td>\n",
       "      <td id=\"T_22c3a_row0_col4\" class=\"data row0 col4\" >1</td>\n",
       "    </tr>\n",
       "    <tr>\n",
       "      <th id=\"T_22c3a_level0_row1\" class=\"row_heading level0 row1\" >1</th>\n",
       "      <td id=\"T_22c3a_row1_col0\" class=\"data row1 col0\" >Horizon_2</td>\n",
       "      <td id=\"T_22c3a_row1_col1\" class=\"data row1 col1\" >Default series</td>\n",
       "      <td id=\"T_22c3a_row1_col2\" class=\"data row1 col2\" >2</td>\n",
       "      <td id=\"T_22c3a_row1_col3\" class=\"data row1 col3\" >#9f0052</td>\n",
       "      <td id=\"T_22c3a_row1_col4\" class=\"data row1 col4\" >2</td>\n",
       "    </tr>\n",
       "    <tr>\n",
       "      <th id=\"T_22c3a_level0_row2\" class=\"row_heading level0 row2\" >2</th>\n",
       "      <td id=\"T_22c3a_row2_col0\" class=\"data row2 col0\" >Horizon_15</td>\n",
       "      <td id=\"T_22c3a_row2_col1\" class=\"data row2 col1\" >Default series</td>\n",
       "      <td id=\"T_22c3a_row2_col2\" class=\"data row2 col2\" >3</td>\n",
       "      <td id=\"T_22c3a_row2_col3\" class=\"data row2 col3\" >#ffbe00</td>\n",
       "      <td id=\"T_22c3a_row2_col4\" class=\"data row2 col4\" >3</td>\n",
       "    </tr>\n",
       "    <tr>\n",
       "      <th id=\"T_22c3a_level0_row3\" class=\"row_heading level0 row3\" >3</th>\n",
       "      <td id=\"T_22c3a_row3_col0\" class=\"data row3 col0\" >Horizon_27</td>\n",
       "      <td id=\"T_22c3a_row3_col1\" class=\"data row3 col1\" >Default series</td>\n",
       "      <td id=\"T_22c3a_row3_col2\" class=\"data row3 col2\" >4</td>\n",
       "      <td id=\"T_22c3a_row3_col3\" class=\"data row3 col3\" >#728f02</td>\n",
       "      <td id=\"T_22c3a_row3_col4\" class=\"data row3 col4\" >4</td>\n",
       "    </tr>\n",
       "    <tr>\n",
       "      <th id=\"T_22c3a_level0_row4\" class=\"row_heading level0 row4\" >4</th>\n",
       "      <td id=\"T_22c3a_row4_col0\" class=\"data row4 col0\" >basement</td>\n",
       "      <td id=\"T_22c3a_row4_col1\" class=\"data row4 col1\" >Basement</td>\n",
       "      <td id=\"T_22c3a_row4_col2\" class=\"data row4 col2\" >1</td>\n",
       "      <td id=\"T_22c3a_row4_col3\" class=\"data row4 col3\" >#443988</td>\n",
       "      <td id=\"T_22c3a_row4_col4\" class=\"data row4 col4\" >5</td>\n",
       "    </tr>\n",
       "  </tbody>\n",
       "</table>\n"
      ],
      "text/plain": [
       "      surface          series  order_surfaces    color  id\n",
       "0   Horizon_1  Default series               1  #015482   1\n",
       "1   Horizon_2  Default series               2  #9f0052   2\n",
       "2  Horizon_15  Default series               3  #ffbe00   3\n",
       "3  Horizon_27  Default series               4  #728f02   4\n",
       "4    basement        Basement               1  #443988   5"
      ]
     },
     "execution_count": 6,
     "metadata": {},
     "output_type": "execute_result"
    }
   ],
   "source": [
    "gp.get_data(\n",
    "    geo_model, \n",
    "    'surfaces',\n",
    "    )"
   ]
  },
  {
   "cell_type": "code",
   "execution_count": 7,
   "metadata": {},
   "outputs": [
    {
     "data": {
      "text/html": [
       "<style type=\"text/css\">\n",
       "#T_13eda_row0_col3 {\n",
       "  background-color: #015482;\n",
       "}\n",
       "#T_13eda_row1_col3 {\n",
       "  background-color: #9f0052;\n",
       "}\n",
       "#T_13eda_row2_col3 {\n",
       "  background-color: #ffbe00;\n",
       "}\n",
       "#T_13eda_row3_col3 {\n",
       "  background-color: #728f02;\n",
       "}\n",
       "#T_13eda_row4_col3 {\n",
       "  background-color: #443988;\n",
       "}\n",
       "</style>\n",
       "<table id=\"T_13eda_\">\n",
       "  <thead>\n",
       "    <tr>\n",
       "      <th class=\"blank level0\" >&nbsp;</th>\n",
       "      <th class=\"col_heading level0 col0\" >surface</th>\n",
       "      <th class=\"col_heading level0 col1\" >series</th>\n",
       "      <th class=\"col_heading level0 col2\" >order_surfaces</th>\n",
       "      <th class=\"col_heading level0 col3\" >color</th>\n",
       "      <th class=\"col_heading level0 col4\" >id</th>\n",
       "    </tr>\n",
       "  </thead>\n",
       "  <tbody>\n",
       "    <tr>\n",
       "      <th id=\"T_13eda_level0_row0\" class=\"row_heading level0 row0\" >0</th>\n",
       "      <td id=\"T_13eda_row0_col0\" class=\"data row0 col0\" >Horizon_1</td>\n",
       "      <td id=\"T_13eda_row0_col1\" class=\"data row0 col1\" >Strat_Series</td>\n",
       "      <td id=\"T_13eda_row0_col2\" class=\"data row0 col2\" >1</td>\n",
       "      <td id=\"T_13eda_row0_col3\" class=\"data row0 col3\" >#015482</td>\n",
       "      <td id=\"T_13eda_row0_col4\" class=\"data row0 col4\" >1</td>\n",
       "    </tr>\n",
       "    <tr>\n",
       "      <th id=\"T_13eda_level0_row1\" class=\"row_heading level0 row1\" >1</th>\n",
       "      <td id=\"T_13eda_row1_col0\" class=\"data row1 col0\" >Horizon_2</td>\n",
       "      <td id=\"T_13eda_row1_col1\" class=\"data row1 col1\" >Strat_Series</td>\n",
       "      <td id=\"T_13eda_row1_col2\" class=\"data row1 col2\" >2</td>\n",
       "      <td id=\"T_13eda_row1_col3\" class=\"data row1 col3\" >#9f0052</td>\n",
       "      <td id=\"T_13eda_row1_col4\" class=\"data row1 col4\" >2</td>\n",
       "    </tr>\n",
       "    <tr>\n",
       "      <th id=\"T_13eda_level0_row2\" class=\"row_heading level0 row2\" >2</th>\n",
       "      <td id=\"T_13eda_row2_col0\" class=\"data row2 col0\" >Horizon_15</td>\n",
       "      <td id=\"T_13eda_row2_col1\" class=\"data row2 col1\" >Strat_Series</td>\n",
       "      <td id=\"T_13eda_row2_col2\" class=\"data row2 col2\" >3</td>\n",
       "      <td id=\"T_13eda_row2_col3\" class=\"data row2 col3\" >#ffbe00</td>\n",
       "      <td id=\"T_13eda_row2_col4\" class=\"data row2 col4\" >3</td>\n",
       "    </tr>\n",
       "    <tr>\n",
       "      <th id=\"T_13eda_level0_row3\" class=\"row_heading level0 row3\" >3</th>\n",
       "      <td id=\"T_13eda_row3_col0\" class=\"data row3 col0\" >Horizon_27</td>\n",
       "      <td id=\"T_13eda_row3_col1\" class=\"data row3 col1\" >Strat_Series</td>\n",
       "      <td id=\"T_13eda_row3_col2\" class=\"data row3 col2\" >4</td>\n",
       "      <td id=\"T_13eda_row3_col3\" class=\"data row3 col3\" >#728f02</td>\n",
       "      <td id=\"T_13eda_row3_col4\" class=\"data row3 col4\" >4</td>\n",
       "    </tr>\n",
       "    <tr>\n",
       "      <th id=\"T_13eda_level0_row4\" class=\"row_heading level0 row4\" >4</th>\n",
       "      <td id=\"T_13eda_row4_col0\" class=\"data row4 col0\" >basement</td>\n",
       "      <td id=\"T_13eda_row4_col1\" class=\"data row4 col1\" >Basement_series</td>\n",
       "      <td id=\"T_13eda_row4_col2\" class=\"data row4 col2\" >1</td>\n",
       "      <td id=\"T_13eda_row4_col3\" class=\"data row4 col3\" >#443988</td>\n",
       "      <td id=\"T_13eda_row4_col4\" class=\"data row4 col4\" >5</td>\n",
       "    </tr>\n",
       "  </tbody>\n",
       "</table>\n"
      ],
      "text/plain": [
       "      surface           series  order_surfaces    color  id\n",
       "0   Horizon_1     Strat_Series               1  #015482   1\n",
       "1   Horizon_2     Strat_Series               2  #9f0052   2\n",
       "2  Horizon_15     Strat_Series               3  #ffbe00   3\n",
       "3  Horizon_27     Strat_Series               4  #728f02   4\n",
       "4    basement  Basement_series               1  #443988   5"
      ]
     },
     "execution_count": 7,
     "metadata": {},
     "output_type": "execute_result"
    }
   ],
   "source": [
    "# Ordenando as surfaces (Estratigrafia (topo para base)) 1\n",
    "gp.map_stack_to_surfaces(\n",
    "    geo_model,\n",
    "    {\"Strat_Series\": (\n",
    "        'Horizon_1',\n",
    "        'Horizon_2',\n",
    "        'Horizon_15',\n",
    "        'Horizon_27',\n",
    "        ),\n",
    "     \"Basement_series\": (\n",
    "         'basement',\n",
    "         ),\n",
    "     }\n",
    "    )"
   ]
  },
  {
   "cell_type": "code",
   "execution_count": 8,
   "metadata": {},
   "outputs": [
    {
     "data": {
      "text/html": [
       "<div>\n",
       "<style scoped>\n",
       "    .dataframe tbody tr th:only-of-type {\n",
       "        vertical-align: middle;\n",
       "    }\n",
       "\n",
       "    .dataframe tbody tr th {\n",
       "        vertical-align: top;\n",
       "    }\n",
       "\n",
       "    .dataframe thead th {\n",
       "        text-align: right;\n",
       "    }\n",
       "</style>\n",
       "<table border=\"1\" class=\"dataframe\">\n",
       "  <thead>\n",
       "    <tr style=\"text-align: right;\">\n",
       "      <th></th>\n",
       "      <th></th>\n",
       "      <th>X</th>\n",
       "      <th>Y</th>\n",
       "      <th>Z</th>\n",
       "      <th>smooth</th>\n",
       "      <th>surface</th>\n",
       "      <th>G_x</th>\n",
       "      <th>G_y</th>\n",
       "      <th>G_z</th>\n",
       "    </tr>\n",
       "  </thead>\n",
       "  <tbody>\n",
       "    <tr>\n",
       "      <th rowspan=\"10\" valign=\"top\">surface_points</th>\n",
       "      <th>0</th>\n",
       "      <td>0.0</td>\n",
       "      <td>0.0</td>\n",
       "      <td>-1503</td>\n",
       "      <td>2.00e-06</td>\n",
       "      <td>Horizon_1</td>\n",
       "      <td>NaN</td>\n",
       "      <td>NaN</td>\n",
       "      <td>NaN</td>\n",
       "    </tr>\n",
       "    <tr>\n",
       "      <th>1</th>\n",
       "      <td>5000.0</td>\n",
       "      <td>0.0</td>\n",
       "      <td>-1574</td>\n",
       "      <td>2.00e-06</td>\n",
       "      <td>Horizon_1</td>\n",
       "      <td>NaN</td>\n",
       "      <td>NaN</td>\n",
       "      <td>NaN</td>\n",
       "    </tr>\n",
       "    <tr>\n",
       "      <th>2</th>\n",
       "      <td>5000.0</td>\n",
       "      <td>0.0</td>\n",
       "      <td>-1574</td>\n",
       "      <td>2.00e-06</td>\n",
       "      <td>Horizon_1</td>\n",
       "      <td>NaN</td>\n",
       "      <td>NaN</td>\n",
       "      <td>NaN</td>\n",
       "    </tr>\n",
       "    <tr>\n",
       "      <th>3</th>\n",
       "      <td>10000.0</td>\n",
       "      <td>0.0</td>\n",
       "      <td>-1645</td>\n",
       "      <td>2.00e-06</td>\n",
       "      <td>Horizon_1</td>\n",
       "      <td>NaN</td>\n",
       "      <td>NaN</td>\n",
       "      <td>NaN</td>\n",
       "    </tr>\n",
       "    <tr>\n",
       "      <th>4</th>\n",
       "      <td>10000.0</td>\n",
       "      <td>0.0</td>\n",
       "      <td>-1645</td>\n",
       "      <td>2.00e-06</td>\n",
       "      <td>Horizon_1</td>\n",
       "      <td>NaN</td>\n",
       "      <td>NaN</td>\n",
       "      <td>NaN</td>\n",
       "    </tr>\n",
       "    <tr>\n",
       "      <th>...</th>\n",
       "      <td>...</td>\n",
       "      <td>...</td>\n",
       "      <td>...</td>\n",
       "      <td>...</td>\n",
       "      <td>...</td>\n",
       "      <td>...</td>\n",
       "      <td>...</td>\n",
       "      <td>...</td>\n",
       "    </tr>\n",
       "    <tr>\n",
       "      <th>16796</th>\n",
       "      <td>165000.0</td>\n",
       "      <td>150000.0</td>\n",
       "      <td>-8849</td>\n",
       "      <td>2.00e-06</td>\n",
       "      <td>Horizon_27</td>\n",
       "      <td>NaN</td>\n",
       "      <td>NaN</td>\n",
       "      <td>NaN</td>\n",
       "    </tr>\n",
       "    <tr>\n",
       "      <th>16797</th>\n",
       "      <td>170000.0</td>\n",
       "      <td>150000.0</td>\n",
       "      <td>-8979</td>\n",
       "      <td>2.00e-06</td>\n",
       "      <td>Horizon_27</td>\n",
       "      <td>NaN</td>\n",
       "      <td>NaN</td>\n",
       "      <td>NaN</td>\n",
       "    </tr>\n",
       "    <tr>\n",
       "      <th>16798</th>\n",
       "      <td>170000.0</td>\n",
       "      <td>150000.0</td>\n",
       "      <td>-8979</td>\n",
       "      <td>2.00e-06</td>\n",
       "      <td>Horizon_27</td>\n",
       "      <td>NaN</td>\n",
       "      <td>NaN</td>\n",
       "      <td>NaN</td>\n",
       "    </tr>\n",
       "    <tr>\n",
       "      <th>16799</th>\n",
       "      <td>175000.0</td>\n",
       "      <td>150000.0</td>\n",
       "      <td>-9002</td>\n",
       "      <td>2.00e-06</td>\n",
       "      <td>Horizon_27</td>\n",
       "      <td>NaN</td>\n",
       "      <td>NaN</td>\n",
       "      <td>NaN</td>\n",
       "    </tr>\n",
       "    <tr>\n",
       "      <th>orientations</th>\n",
       "      <th>0</th>\n",
       "      <td>87500.0</td>\n",
       "      <td>75000.0</td>\n",
       "      <td>-2262</td>\n",
       "      <td>1.00e-02</td>\n",
       "      <td>Horizon_1</td>\n",
       "      <td>1.00e-12</td>\n",
       "      <td>1.00e-12</td>\n",
       "      <td>1.0</td>\n",
       "    </tr>\n",
       "  </tbody>\n",
       "</table>\n",
       "<p>16801 rows × 8 columns</p>\n",
       "</div>"
      ],
      "text/plain": [
       "                             X         Y     Z    smooth     surface  \\\n",
       "surface_points 0           0.0       0.0 -1503  2.00e-06   Horizon_1   \n",
       "               1        5000.0       0.0 -1574  2.00e-06   Horizon_1   \n",
       "               2        5000.0       0.0 -1574  2.00e-06   Horizon_1   \n",
       "               3       10000.0       0.0 -1645  2.00e-06   Horizon_1   \n",
       "               4       10000.0       0.0 -1645  2.00e-06   Horizon_1   \n",
       "...                        ...       ...   ...       ...         ...   \n",
       "               16796  165000.0  150000.0 -8849  2.00e-06  Horizon_27   \n",
       "               16797  170000.0  150000.0 -8979  2.00e-06  Horizon_27   \n",
       "               16798  170000.0  150000.0 -8979  2.00e-06  Horizon_27   \n",
       "               16799  175000.0  150000.0 -9002  2.00e-06  Horizon_27   \n",
       "orientations   0       87500.0   75000.0 -2262  1.00e-02   Horizon_1   \n",
       "\n",
       "                           G_x       G_y  G_z  \n",
       "surface_points 0           NaN       NaN  NaN  \n",
       "               1           NaN       NaN  NaN  \n",
       "               2           NaN       NaN  NaN  \n",
       "               3           NaN       NaN  NaN  \n",
       "               4           NaN       NaN  NaN  \n",
       "...                        ...       ...  ...  \n",
       "               16796       NaN       NaN  NaN  \n",
       "               16797       NaN       NaN  NaN  \n",
       "               16798       NaN       NaN  NaN  \n",
       "               16799       NaN       NaN  NaN  \n",
       "orientations   0      1.00e-12  1.00e-12  1.0  \n",
       "\n",
       "[16801 rows x 8 columns]"
      ]
     },
     "execution_count": 8,
     "metadata": {},
     "output_type": "execute_result"
    }
   ],
   "source": [
    "geo_model.get_data()"
   ]
  },
  {
   "cell_type": "code",
   "execution_count": null,
   "metadata": {},
   "outputs": [],
   "source": [
    "# Seção transversal do modelo\n",
    "gp.plot_2d(geo_model, direction=\"y\", show_data=True, show_lith=True, ve=1, legend=False)\n",
    "gp.plot_2d(geo_model, direction=\"x\", show_data=True, show_lith=True, ve=1, legend=False)\n",
    "#gp.plot_2d(geo_model, direction=\"z\", show_data=True, show_lith=True, ve=1, legend=False)"
   ]
  },
  {
   "cell_type": "code",
   "execution_count": null,
   "metadata": {},
   "outputs": [],
   "source": [
    "#geo_model.set_default_orientation()"
   ]
  },
  {
   "cell_type": "code",
   "execution_count": null,
   "metadata": {},
   "outputs": [],
   "source": [
    "# Ver os dados em 3D\n",
    "gpv = gp.plot_3d(\n",
    "    geo_model, \n",
    "    plotter_type='basic', \n",
    "    image=False, \n",
    "    show_data=True, \n",
    "    show_surfaces=True, \n",
    "    show_scalar=True, \n",
    "    show_boundaries=True\n",
    "    )"
   ]
  },
  {
   "cell_type": "code",
   "execution_count": 8,
   "metadata": {},
   "outputs": [
    {
     "name": "stdout",
     "output_type": "stream",
     "text": [
      "Setting kriging parameters to their default values.\n",
      "Compiling theano function...\n",
      "Level of Optimization:  fast_run\n",
      "Device:  cpu\n",
      "Precision:  float64\n",
      "Number of faults:  0\n",
      "Compilation Done!\n",
      "Kriging values: \n",
      "                        values\n",
      "range               230725.38\n",
      "$C_o$            1267481011.9\n",
      "drift equations        [3, 3]\n",
      "Wall time: 22.7 s\n"
     ]
    },
    {
     "data": {
      "text/plain": [
       "<gempy.core.interpolator.InterpolatorModel at 0x1959d057488>"
      ]
     },
     "execution_count": 8,
     "metadata": {},
     "output_type": "execute_result"
    }
   ],
   "source": [
    "%%time\n",
    "gp.set_interpolator(\n",
    "    geo_model, \n",
    "    output=['geology'], \n",
    "    compile_theano=True, \n",
    "    theano_optimizer='fast_run', # fast_compile, fast_run\n",
    "    dtype=\"float64\",  # for model stability\n",
    "    verbose=[]\n",
    ")"
   ]
  },
  {
   "cell_type": "code",
   "execution_count": 9,
   "metadata": {},
   "outputs": [
    {
     "name": "stdout",
     "output_type": "stream",
     "text": [
      "Wall time: 13min 4s\n"
     ]
    },
    {
     "data": {
      "text/plain": [
       "\n",
       "Lithology ids \n",
       "  [1.030369   1.01012815 1.003389   ... 2.18436088 2.14534333 2.10463133] "
      ]
     },
     "execution_count": 9,
     "metadata": {},
     "output_type": "execute_result"
    }
   ],
   "source": [
    "%%time\n",
    "gp.compute_model(\n",
    "    geo_model, \n",
    "    compute_mesh=True,\n",
    "    )"
   ]
  },
  {
   "cell_type": "code",
   "execution_count": 10,
   "metadata": {},
   "outputs": [
    {
     "data": {
      "text/plain": [
       "<gempy.plot.visualization_2d.Plot2D at 0x195a258f748>"
      ]
     },
     "execution_count": 10,
     "metadata": {},
     "output_type": "execute_result"
    },
    {
     "data": {
      "image/png": "[encoded data removed]",
      "text/plain": [
       "<Figure size 1040x715 with 1 Axes>"
      ]
     },
     "metadata": {},
     "output_type": "display_data"
    },
    {
     "data": {
      "image/png": "[encoded data removed]",
      "text/plain": [
       "<Figure size 1040x715 with 1 Axes>"
      ]
     },
     "metadata": {},
     "output_type": "display_data"
    }
   ],
   "source": [
    "# Seção transversal do modelo\n",
    "gp.plot_2d(\n",
    "    geo_model, \n",
    "    direction=\"y\", \n",
    "    show_data=False, \n",
    "    show_lith=True, \n",
    "    ve=1,\n",
    "    )\n",
    "gp.plot_2d(\n",
    "    geo_model, \n",
    "    direction=\"x\", \n",
    "    show_data=False, \n",
    "    show_lith=True, \n",
    "    ve=2, \n",
    "    legend=True,\n",
    "    )"
   ]
  },
  {
   "cell_type": "code",
   "execution_count": null,
   "metadata": {},
   "outputs": [],
   "source": [
    "topo_init = tp.compute_topology(\n",
    "    geo_model, \n",
    "    direction=\"x\",\n",
    "    voxel_threshold=1\n",
    ")  #, direction=\"Y\", cell_number=15)\n",
    "edges_init, centroids_init = tp.clean_unconformity_topology(\n",
    "    geo_model, \n",
    "    1, \n",
    "    topo_init[0], \n",
    "    topo_init[1]\n",
    ")"
   ]
  },
  {
   "cell_type": "code",
   "execution_count": null,
   "metadata": {},
   "outputs": [],
   "source": [
    "# Seção transversal do modelo\n",
    "gp.plot_2d(\n",
    "    geo_model, \n",
    "    direction=\"y\", \n",
    "    show_data=False, \n",
    "    show_lith=True, \n",
    "    ve=1,\n",
    "    )\n",
    "gp.plot_2d(\n",
    "    geo_model, \n",
    "    direction=\"x\", \n",
    "    show_data=False, \n",
    "    show_lith=True, \n",
    "    ve=2, \n",
    "    legend=True,\n",
    "    )"
   ]
  },
  {
   "cell_type": "code",
   "execution_count": null,
   "metadata": {},
   "outputs": [],
   "source": [
    "# Seção transversal do modelo\n",
    "gp.plot_2d(\n",
    "    geo_model, \n",
    "    direction=\"y\", \n",
    "    show_data=False, \n",
    "    show_lith=True, \n",
    "    ve=1,\n",
    "    )\n",
    "gp.plot.plot_topology(\n",
    "    geo_model, \n",
    "    edges_init, \n",
    "    centroids_init\n",
    "    )"
   ]
  },
  {
   "cell_type": "code",
   "execution_count": 11,
   "metadata": {},
   "outputs": [],
   "source": [
    "# Ver os dados em 3D\n",
    "gpv = gp.plot_3d(\n",
    "    geo_model, \n",
    "    image=False, \n",
    "    plotter_type='basic', \n",
    "    show_data=False\n",
    "    )"
   ]
  },
  {
   "cell_type": "code",
   "execution_count": null,
   "metadata": {},
   "outputs": [],
   "source": [
    "# Salvar o modelo gerado em zip (contem todos os files relevantes para refazer o modelo)\n",
    "gp.save_model(\n",
    "    geo_model, \n",
    "    path=\"../../../output/\", \n",
    "    compress=True,\n",
    "    )"
   ]
  }
 ],
 "metadata": {
  "kernelspec": {
   "display_name": "gempy",
   "language": "python",
   "name": "python3"
  },
  "language_info": {
   "codemirror_mode": {
    "name": "ipython",
    "version": 3
   },
   "file_extension": ".py",
   "mimetype": "text/x-python",
   "name": "python",
   "nbconvert_exporter": "python",
   "pygments_lexer": "ipython3",
   "version": "3.7.12"
  },
  "orig_nbformat": 4
 },
 "nbformat": 4,
 "nbformat_minor": 2
}
