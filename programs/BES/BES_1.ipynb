{
 "cells": [
  {
   "cell_type": "code",
   "execution_count": 1,
   "metadata": {},
   "outputs": [
    {
     "name": "stdout",
     "output_type": "stream",
     "text": [
      "Not subsurface compatibility available\n"
     ]
    },
    {
     "name": "stderr",
     "output_type": "stream",
     "text": [
      "WARNING (theano.tensor.blas): Using NumPy C-API based implementation for BLAS functions.\n"
     ]
    }
   ],
   "source": [
    "# Importar dependências\n",
    "import gempy as gp\n",
    "import numpy as np\n",
    "import pandas as pd\n",
    "import matplotlib.pyplot as plt\n",
    "\n",
    "import warnings\n",
    "warnings.filterwarnings(\"ignore\")\n",
    "\n",
    "pd.set_option('precision', 2)\n",
    "\n",
    "# Criando o objeto modelo e variável para indicar a pasta com os dados\n",
    "data_path = '../../input/bes/v1/'\n",
    "geo_model = gp.create_model('BES_v1')"
   ]
  },
  {
   "cell_type": "code",
   "execution_count": 2,
   "metadata": {},
   "outputs": [
    {
     "name": "stdout",
     "output_type": "stream",
     "text": [
      "Active grids: ['regular']\n"
     ]
    },
    {
     "data": {
      "text/plain": [
       "BES_v1  2023-05-10 17:06"
      ]
     },
     "execution_count": 2,
     "metadata": {},
     "output_type": "execute_result"
    }
   ],
   "source": [
    "# Inicializando os dados, a extensão e a resolução do modelo.\n",
    "gp.init_data(geo_model,\n",
    "             extent=[386000, 485000, 7810000, 7950000, -15000, 5000],\n",
    "             resolution=[50, 50, 50],\n",
    "             path_i=data_path + \"surfaces_points.csv\",\n",
    "             path_o=data_path + \"orientations_points.csv\")"
   ]
  },
  {
   "cell_type": "code",
   "execution_count": 3,
   "metadata": {},
   "outputs": [
    {
     "data": {
      "text/html": [
       "<table border=\"1\" class=\"dataframe\">\n",
       "  <thead>\n",
       "    <tr style=\"text-align: right;\">\n",
       "      <th></th>\n",
       "      <th></th>\n",
       "      <th>values</th>\n",
       "    </tr>\n",
       "  </thead>\n",
       "  <tbody>\n",
       "    <tr>\n",
       "      <th rowspan=\"9\" valign=\"top\">Structure</th>\n",
       "      <th>isLith</th>\n",
       "      <td>True</td>\n",
       "    </tr>\n",
       "    <tr>\n",
       "      <th>isFault</th>\n",
       "      <td>False</td>\n",
       "    </tr>\n",
       "    <tr>\n",
       "      <th>number faults</th>\n",
       "      <td>0</td>\n",
       "    </tr>\n",
       "    <tr>\n",
       "      <th>number surfaces</th>\n",
       "      <td>6</td>\n",
       "    </tr>\n",
       "    <tr>\n",
       "      <th>number series</th>\n",
       "      <td>2</td>\n",
       "    </tr>\n",
       "    <tr>\n",
       "      <th>number surfaces per series</th>\n",
       "      <td>[6, 0]</td>\n",
       "    </tr>\n",
       "    <tr>\n",
       "      <th>len surfaces surface_points</th>\n",
       "      <td>[15, 7, 15, 12, 8, 8]</td>\n",
       "    </tr>\n",
       "    <tr>\n",
       "      <th>len series surface_points</th>\n",
       "      <td>[65, 0]</td>\n",
       "    </tr>\n",
       "    <tr>\n",
       "      <th>len series orientations</th>\n",
       "      <td>[6, 0]</td>\n",
       "    </tr>\n",
       "    <tr>\n",
       "      <th rowspan=\"5\" valign=\"top\">Options</th>\n",
       "      <th>dtype</th>\n",
       "      <td>float64</td>\n",
       "    </tr>\n",
       "    <tr>\n",
       "      <th>output</th>\n",
       "      <td>geology</td>\n",
       "    </tr>\n",
       "    <tr>\n",
       "      <th>theano_optimizer</th>\n",
       "      <td>fast_compile</td>\n",
       "    </tr>\n",
       "    <tr>\n",
       "      <th>device</th>\n",
       "      <td>cpu</td>\n",
       "    </tr>\n",
       "    <tr>\n",
       "      <th>verbosity</th>\n",
       "      <td>None</td>\n",
       "    </tr>\n",
       "    <tr>\n",
       "      <th rowspan=\"3\" valign=\"top\">Kriging</th>\n",
       "      <th>range</th>\n",
       "      <td>172629.66</td>\n",
       "    </tr>\n",
       "    <tr>\n",
       "      <th>$C_o$</th>\n",
       "      <td>709547619.05</td>\n",
       "    </tr>\n",
       "    <tr>\n",
       "      <th>drift equations</th>\n",
       "      <td>[3, 3]</td>\n",
       "    </tr>\n",
       "    <tr>\n",
       "      <th rowspan=\"2\" valign=\"top\">Rescaling</th>\n",
       "      <th>rescaling factor</th>\n",
       "      <td>214190.6</td>\n",
       "    </tr>\n",
       "    <tr>\n",
       "      <th>centers</th>\n",
       "      <td>[436298.75, 7873961.35, -2391.5]</td>\n",
       "    </tr>\n",
       "  </tbody>\n",
       "</table>"
      ],
      "text/plain": [
       "                                                                 values\n",
       "Structure isLith                                                   True\n",
       "          isFault                                                 False\n",
       "          number faults                                               0\n",
       "          number surfaces                                             6\n",
       "          number series                                               2\n",
       "          number surfaces per series                             [6, 0]\n",
       "          len surfaces surface_points             [15, 7, 15, 12, 8, 8]\n",
       "          len series surface_points                             [65, 0]\n",
       "          len series orientations                                [6, 0]\n",
       "Options   dtype                                                 float64\n",
       "          output                                                geology\n",
       "          theano_optimizer                                 fast_compile\n",
       "          device                                                    cpu\n",
       "          verbosity                                                None\n",
       "Kriging   range                                               172629.66\n",
       "          $C_o$                                            709547619.05\n",
       "          drift equations                                        [3, 3]\n",
       "Rescaling rescaling factor                                     214190.6\n",
       "          centers                      [436298.75, 7873961.35, -2391.5]"
      ]
     },
     "execution_count": 3,
     "metadata": {},
     "output_type": "execute_result"
    }
   ],
   "source": [
    "geo_model.additional_data"
   ]
  },
  {
   "cell_type": "code",
   "execution_count": 4,
   "metadata": {},
   "outputs": [
    {
     "data": {
      "text/html": [
       "<div>\n",
       "<style scoped>\n",
       "    .dataframe tbody tr th:only-of-type {\n",
       "        vertical-align: middle;\n",
       "    }\n",
       "\n",
       "    .dataframe tbody tr th {\n",
       "        vertical-align: top;\n",
       "    }\n",
       "\n",
       "    .dataframe thead th {\n",
       "        text-align: right;\n",
       "    }\n",
       "</style>\n",
       "<table border=\"1\" class=\"dataframe\">\n",
       "  <thead>\n",
       "    <tr style=\"text-align: right;\">\n",
       "      <th></th>\n",
       "      <th></th>\n",
       "      <th>X</th>\n",
       "      <th>Y</th>\n",
       "      <th>Z</th>\n",
       "      <th>smooth</th>\n",
       "      <th>surface</th>\n",
       "      <th>G_x</th>\n",
       "      <th>G_y</th>\n",
       "      <th>G_z</th>\n",
       "    </tr>\n",
       "  </thead>\n",
       "  <tbody>\n",
       "    <tr>\n",
       "      <th rowspan=\"5\" valign=\"top\">surface_points</th>\n",
       "      <th>0</th>\n",
       "      <td>425873.0</td>\n",
       "      <td>7.93e+06</td>\n",
       "      <td>-38</td>\n",
       "      <td>2.00e-06</td>\n",
       "      <td>RIO_DOCE</td>\n",
       "      <td>NaN</td>\n",
       "      <td>NaN</td>\n",
       "      <td>NaN</td>\n",
       "    </tr>\n",
       "    <tr>\n",
       "      <th>6</th>\n",
       "      <td>436301.0</td>\n",
       "      <td>7.83e+06</td>\n",
       "      <td>-52</td>\n",
       "      <td>2.00e-06</td>\n",
       "      <td>RIO_DOCE</td>\n",
       "      <td>NaN</td>\n",
       "      <td>NaN</td>\n",
       "      <td>NaN</td>\n",
       "    </tr>\n",
       "    <tr>\n",
       "      <th>11</th>\n",
       "      <td>417780.5</td>\n",
       "      <td>7.82e+06</td>\n",
       "      <td>-43</td>\n",
       "      <td>2.00e-06</td>\n",
       "      <td>RIO_DOCE</td>\n",
       "      <td>NaN</td>\n",
       "      <td>NaN</td>\n",
       "      <td>NaN</td>\n",
       "    </tr>\n",
       "    <tr>\n",
       "      <th>15</th>\n",
       "      <td>438482.9</td>\n",
       "      <td>7.91e+06</td>\n",
       "      <td>-62</td>\n",
       "      <td>2.00e-06</td>\n",
       "      <td>RIO_DOCE</td>\n",
       "      <td>NaN</td>\n",
       "      <td>NaN</td>\n",
       "      <td>NaN</td>\n",
       "    </tr>\n",
       "    <tr>\n",
       "      <th>19</th>\n",
       "      <td>426449.0</td>\n",
       "      <td>7.84e+06</td>\n",
       "      <td>-47</td>\n",
       "      <td>2.00e-06</td>\n",
       "      <td>RIO_DOCE</td>\n",
       "      <td>NaN</td>\n",
       "      <td>NaN</td>\n",
       "      <td>NaN</td>\n",
       "    </tr>\n",
       "    <tr>\n",
       "      <th>...</th>\n",
       "      <th>...</th>\n",
       "      <td>...</td>\n",
       "      <td>...</td>\n",
       "      <td>...</td>\n",
       "      <td>...</td>\n",
       "      <td>...</td>\n",
       "      <td>...</td>\n",
       "      <td>...</td>\n",
       "      <td>...</td>\n",
       "    </tr>\n",
       "    <tr>\n",
       "      <th rowspan=\"5\" valign=\"top\">orientations</th>\n",
       "      <th>1</th>\n",
       "      <td>438482.9</td>\n",
       "      <td>7.91e+06</td>\n",
       "      <td>-1280</td>\n",
       "      <td>1.00e-02</td>\n",
       "      <td>CARAVELAS</td>\n",
       "      <td>1.00e-12</td>\n",
       "      <td>1.75e-02</td>\n",
       "      <td>1.0</td>\n",
       "    </tr>\n",
       "    <tr>\n",
       "      <th>2</th>\n",
       "      <td>427132.3</td>\n",
       "      <td>7.82e+06</td>\n",
       "      <td>-1607</td>\n",
       "      <td>1.00e-02</td>\n",
       "      <td>URUCUTUCA</td>\n",
       "      <td>1.00e-12</td>\n",
       "      <td>1.00e-12</td>\n",
       "      <td>1.0</td>\n",
       "    </tr>\n",
       "    <tr>\n",
       "      <th>4</th>\n",
       "      <td>426449.0</td>\n",
       "      <td>7.84e+06</td>\n",
       "      <td>-3546</td>\n",
       "      <td>1.00e-02</td>\n",
       "      <td>REGENCIA</td>\n",
       "      <td>1.00e-12</td>\n",
       "      <td>1.00e-12</td>\n",
       "      <td>1.0</td>\n",
       "    </tr>\n",
       "    <tr>\n",
       "      <th>3</th>\n",
       "      <td>431122.8</td>\n",
       "      <td>7.88e+06</td>\n",
       "      <td>-3851</td>\n",
       "      <td>1.00e-02</td>\n",
       "      <td>SAO_MATEUS</td>\n",
       "      <td>1.00e-12</td>\n",
       "      <td>1.00e-12</td>\n",
       "      <td>1.0</td>\n",
       "    </tr>\n",
       "    <tr>\n",
       "      <th>5</th>\n",
       "      <td>429623.0</td>\n",
       "      <td>7.92e+06</td>\n",
       "      <td>-3080</td>\n",
       "      <td>1.00e-02</td>\n",
       "      <td>MARIRICU</td>\n",
       "      <td>1.00e-12</td>\n",
       "      <td>1.00e-12</td>\n",
       "      <td>1.0</td>\n",
       "    </tr>\n",
       "  </tbody>\n",
       "</table>\n",
       "<p>71 rows × 8 columns</p>\n",
       "</div>"
      ],
      "text/plain": [
       "                          X         Y     Z    smooth     surface       G_x  \\\n",
       "surface_points 0   425873.0  7.93e+06   -38  2.00e-06    RIO_DOCE       NaN   \n",
       "               6   436301.0  7.83e+06   -52  2.00e-06    RIO_DOCE       NaN   \n",
       "               11  417780.5  7.82e+06   -43  2.00e-06    RIO_DOCE       NaN   \n",
       "               15  438482.9  7.91e+06   -62  2.00e-06    RIO_DOCE       NaN   \n",
       "               19  426449.0  7.84e+06   -47  2.00e-06    RIO_DOCE       NaN   \n",
       "...                     ...       ...   ...       ...         ...       ...   \n",
       "orientations   1   438482.9  7.91e+06 -1280  1.00e-02   CARAVELAS  1.00e-12   \n",
       "               2   427132.3  7.82e+06 -1607  1.00e-02   URUCUTUCA  1.00e-12   \n",
       "               4   426449.0  7.84e+06 -3546  1.00e-02    REGENCIA  1.00e-12   \n",
       "               3   431122.8  7.88e+06 -3851  1.00e-02  SAO_MATEUS  1.00e-12   \n",
       "               5   429623.0  7.92e+06 -3080  1.00e-02    MARIRICU  1.00e-12   \n",
       "\n",
       "                        G_y  G_z  \n",
       "surface_points 0        NaN  NaN  \n",
       "               6        NaN  NaN  \n",
       "               11       NaN  NaN  \n",
       "               15       NaN  NaN  \n",
       "               19       NaN  NaN  \n",
       "...                     ...  ...  \n",
       "orientations   1   1.75e-02  1.0  \n",
       "               2   1.00e-12  1.0  \n",
       "               4   1.00e-12  1.0  \n",
       "               3   1.00e-12  1.0  \n",
       "               5   1.00e-12  1.0  \n",
       "\n",
       "[71 rows x 8 columns]"
      ]
     },
     "execution_count": 4,
     "metadata": {},
     "output_type": "execute_result"
    }
   ],
   "source": [
    "geo_model.get_data()"
   ]
  },
  {
   "cell_type": "code",
   "execution_count": 5,
   "metadata": {},
   "outputs": [
    {
     "data": {
      "text/html": [
       "<div>\n",
       "<style scoped>\n",
       "    .dataframe tbody tr th:only-of-type {\n",
       "        vertical-align: middle;\n",
       "    }\n",
       "\n",
       "    .dataframe tbody tr th {\n",
       "        vertical-align: top;\n",
       "    }\n",
       "\n",
       "    .dataframe thead th {\n",
       "        text-align: right;\n",
       "    }\n",
       "</style>\n",
       "<table border=\"1\" class=\"dataframe\">\n",
       "  <thead>\n",
       "    <tr style=\"text-align: right;\">\n",
       "      <th></th>\n",
       "      <th>X</th>\n",
       "      <th>Y</th>\n",
       "      <th>Z</th>\n",
       "      <th>smooth</th>\n",
       "      <th>surface</th>\n",
       "    </tr>\n",
       "  </thead>\n",
       "  <tbody>\n",
       "    <tr>\n",
       "      <th>0</th>\n",
       "      <td>425873.0</td>\n",
       "      <td>7.93e+06</td>\n",
       "      <td>-38</td>\n",
       "      <td>2.00e-06</td>\n",
       "      <td>RIO_DOCE</td>\n",
       "    </tr>\n",
       "    <tr>\n",
       "      <th>6</th>\n",
       "      <td>436301.0</td>\n",
       "      <td>7.83e+06</td>\n",
       "      <td>-52</td>\n",
       "      <td>2.00e-06</td>\n",
       "      <td>RIO_DOCE</td>\n",
       "    </tr>\n",
       "    <tr>\n",
       "      <th>11</th>\n",
       "      <td>417780.5</td>\n",
       "      <td>7.82e+06</td>\n",
       "      <td>-43</td>\n",
       "      <td>2.00e-06</td>\n",
       "      <td>RIO_DOCE</td>\n",
       "    </tr>\n",
       "    <tr>\n",
       "      <th>15</th>\n",
       "      <td>438482.9</td>\n",
       "      <td>7.91e+06</td>\n",
       "      <td>-62</td>\n",
       "      <td>2.00e-06</td>\n",
       "      <td>RIO_DOCE</td>\n",
       "    </tr>\n",
       "    <tr>\n",
       "      <th>19</th>\n",
       "      <td>426449.0</td>\n",
       "      <td>7.84e+06</td>\n",
       "      <td>-47</td>\n",
       "      <td>2.00e-06</td>\n",
       "      <td>RIO_DOCE</td>\n",
       "    </tr>\n",
       "  </tbody>\n",
       "</table>\n",
       "</div>"
      ],
      "text/plain": [
       "           X         Y   Z    smooth   surface\n",
       "0   425873.0  7.93e+06 -38  2.00e-06  RIO_DOCE\n",
       "6   436301.0  7.83e+06 -52  2.00e-06  RIO_DOCE\n",
       "11  417780.5  7.82e+06 -43  2.00e-06  RIO_DOCE\n",
       "15  438482.9  7.91e+06 -62  2.00e-06  RIO_DOCE\n",
       "19  426449.0  7.84e+06 -47  2.00e-06  RIO_DOCE"
      ]
     },
     "execution_count": 5,
     "metadata": {},
     "output_type": "execute_result"
    }
   ],
   "source": [
    "gp.get_data(geo_model, 'surface_points').head()"
   ]
  },
  {
   "cell_type": "code",
   "execution_count": 6,
   "metadata": {},
   "outputs": [
    {
     "data": {
      "text/html": [
       "<div>\n",
       "<style scoped>\n",
       "    .dataframe tbody tr th:only-of-type {\n",
       "        vertical-align: middle;\n",
       "    }\n",
       "\n",
       "    .dataframe tbody tr th {\n",
       "        vertical-align: top;\n",
       "    }\n",
       "\n",
       "    .dataframe thead th {\n",
       "        text-align: right;\n",
       "    }\n",
       "</style>\n",
       "<table border=\"1\" class=\"dataframe\">\n",
       "  <thead>\n",
       "    <tr style=\"text-align: right;\">\n",
       "      <th></th>\n",
       "      <th>X</th>\n",
       "      <th>Y</th>\n",
       "      <th>Z</th>\n",
       "      <th>G_x</th>\n",
       "      <th>G_y</th>\n",
       "      <th>G_z</th>\n",
       "      <th>smooth</th>\n",
       "      <th>surface</th>\n",
       "    </tr>\n",
       "  </thead>\n",
       "  <tbody>\n",
       "    <tr>\n",
       "      <th>0</th>\n",
       "      <td>425873.0</td>\n",
       "      <td>7.93e+06</td>\n",
       "      <td>-38</td>\n",
       "      <td>1.00e-12</td>\n",
       "      <td>1.00e-12</td>\n",
       "      <td>1.0</td>\n",
       "      <td>0.01</td>\n",
       "      <td>RIO_DOCE</td>\n",
       "    </tr>\n",
       "    <tr>\n",
       "      <th>1</th>\n",
       "      <td>438482.9</td>\n",
       "      <td>7.91e+06</td>\n",
       "      <td>-1280</td>\n",
       "      <td>1.00e-12</td>\n",
       "      <td>1.75e-02</td>\n",
       "      <td>1.0</td>\n",
       "      <td>0.01</td>\n",
       "      <td>CARAVELAS</td>\n",
       "    </tr>\n",
       "    <tr>\n",
       "      <th>2</th>\n",
       "      <td>427132.3</td>\n",
       "      <td>7.82e+06</td>\n",
       "      <td>-1607</td>\n",
       "      <td>1.00e-12</td>\n",
       "      <td>1.00e-12</td>\n",
       "      <td>1.0</td>\n",
       "      <td>0.01</td>\n",
       "      <td>URUCUTUCA</td>\n",
       "    </tr>\n",
       "    <tr>\n",
       "      <th>4</th>\n",
       "      <td>426449.0</td>\n",
       "      <td>7.84e+06</td>\n",
       "      <td>-3546</td>\n",
       "      <td>1.00e-12</td>\n",
       "      <td>1.00e-12</td>\n",
       "      <td>1.0</td>\n",
       "      <td>0.01</td>\n",
       "      <td>REGENCIA</td>\n",
       "    </tr>\n",
       "    <tr>\n",
       "      <th>3</th>\n",
       "      <td>431122.8</td>\n",
       "      <td>7.88e+06</td>\n",
       "      <td>-3851</td>\n",
       "      <td>1.00e-12</td>\n",
       "      <td>1.00e-12</td>\n",
       "      <td>1.0</td>\n",
       "      <td>0.01</td>\n",
       "      <td>SAO_MATEUS</td>\n",
       "    </tr>\n",
       "  </tbody>\n",
       "</table>\n",
       "</div>"
      ],
      "text/plain": [
       "          X         Y     Z       G_x       G_y  G_z  smooth     surface\n",
       "0  425873.0  7.93e+06   -38  1.00e-12  1.00e-12  1.0    0.01    RIO_DOCE\n",
       "1  438482.9  7.91e+06 -1280  1.00e-12  1.75e-02  1.0    0.01   CARAVELAS\n",
       "2  427132.3  7.82e+06 -1607  1.00e-12  1.00e-12  1.0    0.01   URUCUTUCA\n",
       "4  426449.0  7.84e+06 -3546  1.00e-12  1.00e-12  1.0    0.01    REGENCIA\n",
       "3  431122.8  7.88e+06 -3851  1.00e-12  1.00e-12  1.0    0.01  SAO_MATEUS"
      ]
     },
     "execution_count": 6,
     "metadata": {},
     "output_type": "execute_result"
    }
   ],
   "source": [
    "gp.get_data(geo_model, 'orientations').head()"
   ]
  },
  {
   "cell_type": "code",
   "execution_count": 7,
   "metadata": {},
   "outputs": [
    {
     "data": {
      "text/html": [
       "<table border=\"1\" class=\"dataframe\">\n",
       "  <thead>\n",
       "    <tr style=\"text-align: right;\">\n",
       "      <th></th>\n",
       "      <th>order_series</th>\n",
       "      <th>BottomRelation</th>\n",
       "      <th>isActive</th>\n",
       "      <th>isFault</th>\n",
       "      <th>isFinite</th>\n",
       "    </tr>\n",
       "  </thead>\n",
       "  <tbody>\n",
       "    <tr>\n",
       "      <th>Default series</th>\n",
       "      <td>1</td>\n",
       "      <td>Erosion</td>\n",
       "      <td>True</td>\n",
       "      <td>False</td>\n",
       "      <td>False</td>\n",
       "    </tr>\n",
       "    <tr>\n",
       "      <th>Basement</th>\n",
       "      <td>2</td>\n",
       "      <td>Erosion</td>\n",
       "      <td>False</td>\n",
       "      <td>False</td>\n",
       "      <td>False</td>\n",
       "    </tr>\n",
       "  </tbody>\n",
       "</table>"
      ],
      "text/plain": [
       "                order_series BottomRelation  isActive  isFault  isFinite\n",
       "Default series             1        Erosion      True    False     False\n",
       "Basement                   2        Erosion     False    False     False"
      ]
     },
     "execution_count": 7,
     "metadata": {},
     "output_type": "execute_result"
    }
   ],
   "source": [
    "gp.get_data(geo_model, 'series')"
   ]
  },
  {
   "cell_type": "code",
   "execution_count": 8,
   "metadata": {},
   "outputs": [
    {
     "data": {
      "text/html": [
       "<style type=\"text/css\">\n",
       "#T_66714_row0_col3 {\n",
       "  background-color: #015482;\n",
       "}\n",
       "#T_66714_row1_col3 {\n",
       "  background-color: #9f0052;\n",
       "}\n",
       "#T_66714_row2_col3 {\n",
       "  background-color: #ffbe00;\n",
       "}\n",
       "#T_66714_row3_col3 {\n",
       "  background-color: #728f02;\n",
       "}\n",
       "#T_66714_row4_col3 {\n",
       "  background-color: #443988;\n",
       "}\n",
       "#T_66714_row5_col3 {\n",
       "  background-color: #ff3f20;\n",
       "}\n",
       "#T_66714_row6_col3 {\n",
       "  background-color: #5DA629;\n",
       "}\n",
       "</style>\n",
       "<table id=\"T_66714_\">\n",
       "  <thead>\n",
       "    <tr>\n",
       "      <th class=\"blank level0\" >&nbsp;</th>\n",
       "      <th class=\"col_heading level0 col0\" >surface</th>\n",
       "      <th class=\"col_heading level0 col1\" >series</th>\n",
       "      <th class=\"col_heading level0 col2\" >order_surfaces</th>\n",
       "      <th class=\"col_heading level0 col3\" >color</th>\n",
       "      <th class=\"col_heading level0 col4\" >id</th>\n",
       "    </tr>\n",
       "  </thead>\n",
       "  <tbody>\n",
       "    <tr>\n",
       "      <th id=\"T_66714_level0_row0\" class=\"row_heading level0 row0\" >0</th>\n",
       "      <td id=\"T_66714_row0_col0\" class=\"data row0 col0\" >RIO_DOCE</td>\n",
       "      <td id=\"T_66714_row0_col1\" class=\"data row0 col1\" >Default series</td>\n",
       "      <td id=\"T_66714_row0_col2\" class=\"data row0 col2\" >1</td>\n",
       "      <td id=\"T_66714_row0_col3\" class=\"data row0 col3\" >#015482</td>\n",
       "      <td id=\"T_66714_row0_col4\" class=\"data row0 col4\" >1</td>\n",
       "    </tr>\n",
       "    <tr>\n",
       "      <th id=\"T_66714_level0_row1\" class=\"row_heading level0 row1\" >1</th>\n",
       "      <td id=\"T_66714_row1_col0\" class=\"data row1 col0\" >CARAVELAS</td>\n",
       "      <td id=\"T_66714_row1_col1\" class=\"data row1 col1\" >Default series</td>\n",
       "      <td id=\"T_66714_row1_col2\" class=\"data row1 col2\" >2</td>\n",
       "      <td id=\"T_66714_row1_col3\" class=\"data row1 col3\" >#9f0052</td>\n",
       "      <td id=\"T_66714_row1_col4\" class=\"data row1 col4\" >2</td>\n",
       "    </tr>\n",
       "    <tr>\n",
       "      <th id=\"T_66714_level0_row2\" class=\"row_heading level0 row2\" >2</th>\n",
       "      <td id=\"T_66714_row2_col0\" class=\"data row2 col0\" >URUCUTUCA</td>\n",
       "      <td id=\"T_66714_row2_col1\" class=\"data row2 col1\" >Default series</td>\n",
       "      <td id=\"T_66714_row2_col2\" class=\"data row2 col2\" >3</td>\n",
       "      <td id=\"T_66714_row2_col3\" class=\"data row2 col3\" >#ffbe00</td>\n",
       "      <td id=\"T_66714_row2_col4\" class=\"data row2 col4\" >3</td>\n",
       "    </tr>\n",
       "    <tr>\n",
       "      <th id=\"T_66714_level0_row3\" class=\"row_heading level0 row3\" >3</th>\n",
       "      <td id=\"T_66714_row3_col0\" class=\"data row3 col0\" >REGENCIA</td>\n",
       "      <td id=\"T_66714_row3_col1\" class=\"data row3 col1\" >Default series</td>\n",
       "      <td id=\"T_66714_row3_col2\" class=\"data row3 col2\" >4</td>\n",
       "      <td id=\"T_66714_row3_col3\" class=\"data row3 col3\" >#728f02</td>\n",
       "      <td id=\"T_66714_row3_col4\" class=\"data row3 col4\" >4</td>\n",
       "    </tr>\n",
       "    <tr>\n",
       "      <th id=\"T_66714_level0_row4\" class=\"row_heading level0 row4\" >4</th>\n",
       "      <td id=\"T_66714_row4_col0\" class=\"data row4 col0\" >SAO_MATEUS</td>\n",
       "      <td id=\"T_66714_row4_col1\" class=\"data row4 col1\" >Default series</td>\n",
       "      <td id=\"T_66714_row4_col2\" class=\"data row4 col2\" >5</td>\n",
       "      <td id=\"T_66714_row4_col3\" class=\"data row4 col3\" >#443988</td>\n",
       "      <td id=\"T_66714_row4_col4\" class=\"data row4 col4\" >5</td>\n",
       "    </tr>\n",
       "    <tr>\n",
       "      <th id=\"T_66714_level0_row5\" class=\"row_heading level0 row5\" >5</th>\n",
       "      <td id=\"T_66714_row5_col0\" class=\"data row5 col0\" >MARIRICU</td>\n",
       "      <td id=\"T_66714_row5_col1\" class=\"data row5 col1\" >Default series</td>\n",
       "      <td id=\"T_66714_row5_col2\" class=\"data row5 col2\" >6</td>\n",
       "      <td id=\"T_66714_row5_col3\" class=\"data row5 col3\" >#ff3f20</td>\n",
       "      <td id=\"T_66714_row5_col4\" class=\"data row5 col4\" >6</td>\n",
       "    </tr>\n",
       "    <tr>\n",
       "      <th id=\"T_66714_level0_row6\" class=\"row_heading level0 row6\" >6</th>\n",
       "      <td id=\"T_66714_row6_col0\" class=\"data row6 col0\" >basement</td>\n",
       "      <td id=\"T_66714_row6_col1\" class=\"data row6 col1\" >Basement</td>\n",
       "      <td id=\"T_66714_row6_col2\" class=\"data row6 col2\" >1</td>\n",
       "      <td id=\"T_66714_row6_col3\" class=\"data row6 col3\" >#5DA629</td>\n",
       "      <td id=\"T_66714_row6_col4\" class=\"data row6 col4\" >7</td>\n",
       "    </tr>\n",
       "  </tbody>\n",
       "</table>\n"
      ],
      "text/plain": [
       "      surface          series  order_surfaces    color  id\n",
       "0    RIO_DOCE  Default series               1  #015482   1\n",
       "1   CARAVELAS  Default series               2  #9f0052   2\n",
       "2   URUCUTUCA  Default series               3  #ffbe00   3\n",
       "3    REGENCIA  Default series               4  #728f02   4\n",
       "4  SAO_MATEUS  Default series               5  #443988   5\n",
       "5    MARIRICU  Default series               6  #ff3f20   6\n",
       "6    basement        Basement               1  #5DA629   7"
      ]
     },
     "execution_count": 8,
     "metadata": {},
     "output_type": "execute_result"
    }
   ],
   "source": [
    "gp.get_data(geo_model, 'surfaces')"
   ]
  },
  {
   "cell_type": "code",
   "execution_count": 9,
   "metadata": {},
   "outputs": [
    {
     "data": {
      "text/plain": [
       "True"
      ]
     },
     "execution_count": 9,
     "metadata": {},
     "output_type": "execute_result"
    }
   ],
   "source": [
    "geo_model.delete_surface_points_basement()"
   ]
  },
  {
   "cell_type": "code",
   "execution_count": 10,
   "metadata": {},
   "outputs": [
    {
     "data": {
      "text/plain": [
       "Grid Object. Values: \n",
       "array([[ 3.8699e+05,  7.8114e+06, -1.4800e+04],\n",
       "       [ 3.8699e+05,  7.8114e+06, -1.4400e+04],\n",
       "       [ 3.8699e+05,  7.8114e+06, -1.4000e+04],\n",
       "       ...,\n",
       "       [ 4.8401e+05,  7.9486e+06,  4.0000e+03],\n",
       "       [ 4.8401e+05,  7.9486e+06,  4.4000e+03],\n",
       "       [ 4.8401e+05,  7.9486e+06,  4.8000e+03]])"
      ]
     },
     "execution_count": 10,
     "metadata": {},
     "output_type": "execute_result"
    }
   ],
   "source": [
    "# Ordenando as surfaces (Estratigrafia (topo para base)) 1\n",
    "gp.map_stack_to_surfaces(geo_model,                         \n",
    "                         {\"Strat_Series_1\": ('RIO_DOCE', 'CARAVELAS'),\n",
    "                          \"Strat_Series_2\": ('URUCUTUCA', 'REGENCIA'),\n",
    "                          \"Strat_Series_3\": ('SAO_MATEUS'),\n",
    "                          \"Strat_Series_4\": ('MARIRICU'),\n",
    "                          \"Basement_series\": ('basement')})\n",
    "\n",
    "# Ver o grid do modelo\n",
    "geo_model.grid"
   ]
  },
  {
   "cell_type": "code",
   "execution_count": 11,
   "metadata": {},
   "outputs": [
    {
     "data": {
      "text/html": [
       "<style type=\"text/css\">\n",
       "#T_95290_row0_col3 {\n",
       "  background-color: #015482;\n",
       "}\n",
       "#T_95290_row1_col3 {\n",
       "  background-color: #9f0052;\n",
       "}\n",
       "#T_95290_row2_col3 {\n",
       "  background-color: #ffbe00;\n",
       "}\n",
       "#T_95290_row3_col3 {\n",
       "  background-color: #728f02;\n",
       "}\n",
       "#T_95290_row4_col3 {\n",
       "  background-color: #443988;\n",
       "}\n",
       "#T_95290_row5_col3 {\n",
       "  background-color: #ff3f20;\n",
       "}\n",
       "#T_95290_row6_col3 {\n",
       "  background-color: #5DA629;\n",
       "}\n",
       "</style>\n",
       "<table id=\"T_95290_\">\n",
       "  <thead>\n",
       "    <tr>\n",
       "      <th class=\"blank level0\" >&nbsp;</th>\n",
       "      <th class=\"col_heading level0 col0\" >surface</th>\n",
       "      <th class=\"col_heading level0 col1\" >series</th>\n",
       "      <th class=\"col_heading level0 col2\" >order_surfaces</th>\n",
       "      <th class=\"col_heading level0 col3\" >color</th>\n",
       "      <th class=\"col_heading level0 col4\" >id</th>\n",
       "    </tr>\n",
       "  </thead>\n",
       "  <tbody>\n",
       "    <tr>\n",
       "      <th id=\"T_95290_level0_row0\" class=\"row_heading level0 row0\" >0</th>\n",
       "      <td id=\"T_95290_row0_col0\" class=\"data row0 col0\" >RIO_DOCE</td>\n",
       "      <td id=\"T_95290_row0_col1\" class=\"data row0 col1\" >Strat_Series_1</td>\n",
       "      <td id=\"T_95290_row0_col2\" class=\"data row0 col2\" >1</td>\n",
       "      <td id=\"T_95290_row0_col3\" class=\"data row0 col3\" >#015482</td>\n",
       "      <td id=\"T_95290_row0_col4\" class=\"data row0 col4\" >1</td>\n",
       "    </tr>\n",
       "    <tr>\n",
       "      <th id=\"T_95290_level0_row1\" class=\"row_heading level0 row1\" >1</th>\n",
       "      <td id=\"T_95290_row1_col0\" class=\"data row1 col0\" >CARAVELAS</td>\n",
       "      <td id=\"T_95290_row1_col1\" class=\"data row1 col1\" >Strat_Series_1</td>\n",
       "      <td id=\"T_95290_row1_col2\" class=\"data row1 col2\" >2</td>\n",
       "      <td id=\"T_95290_row1_col3\" class=\"data row1 col3\" >#9f0052</td>\n",
       "      <td id=\"T_95290_row1_col4\" class=\"data row1 col4\" >2</td>\n",
       "    </tr>\n",
       "    <tr>\n",
       "      <th id=\"T_95290_level0_row2\" class=\"row_heading level0 row2\" >2</th>\n",
       "      <td id=\"T_95290_row2_col0\" class=\"data row2 col0\" >URUCUTUCA</td>\n",
       "      <td id=\"T_95290_row2_col1\" class=\"data row2 col1\" >Strat_Series_2</td>\n",
       "      <td id=\"T_95290_row2_col2\" class=\"data row2 col2\" >1</td>\n",
       "      <td id=\"T_95290_row2_col3\" class=\"data row2 col3\" >#ffbe00</td>\n",
       "      <td id=\"T_95290_row2_col4\" class=\"data row2 col4\" >3</td>\n",
       "    </tr>\n",
       "    <tr>\n",
       "      <th id=\"T_95290_level0_row3\" class=\"row_heading level0 row3\" >3</th>\n",
       "      <td id=\"T_95290_row3_col0\" class=\"data row3 col0\" >REGENCIA</td>\n",
       "      <td id=\"T_95290_row3_col1\" class=\"data row3 col1\" >Strat_Series_2</td>\n",
       "      <td id=\"T_95290_row3_col2\" class=\"data row3 col2\" >2</td>\n",
       "      <td id=\"T_95290_row3_col3\" class=\"data row3 col3\" >#728f02</td>\n",
       "      <td id=\"T_95290_row3_col4\" class=\"data row3 col4\" >4</td>\n",
       "    </tr>\n",
       "    <tr>\n",
       "      <th id=\"T_95290_level0_row4\" class=\"row_heading level0 row4\" >4</th>\n",
       "      <td id=\"T_95290_row4_col0\" class=\"data row4 col0\" >SAO_MATEUS</td>\n",
       "      <td id=\"T_95290_row4_col1\" class=\"data row4 col1\" >Strat_Series_3</td>\n",
       "      <td id=\"T_95290_row4_col2\" class=\"data row4 col2\" >1</td>\n",
       "      <td id=\"T_95290_row4_col3\" class=\"data row4 col3\" >#443988</td>\n",
       "      <td id=\"T_95290_row4_col4\" class=\"data row4 col4\" >5</td>\n",
       "    </tr>\n",
       "    <tr>\n",
       "      <th id=\"T_95290_level0_row5\" class=\"row_heading level0 row5\" >5</th>\n",
       "      <td id=\"T_95290_row5_col0\" class=\"data row5 col0\" >MARIRICU</td>\n",
       "      <td id=\"T_95290_row5_col1\" class=\"data row5 col1\" >Strat_Series_4</td>\n",
       "      <td id=\"T_95290_row5_col2\" class=\"data row5 col2\" >1</td>\n",
       "      <td id=\"T_95290_row5_col3\" class=\"data row5 col3\" >#ff3f20</td>\n",
       "      <td id=\"T_95290_row5_col4\" class=\"data row5 col4\" >6</td>\n",
       "    </tr>\n",
       "    <tr>\n",
       "      <th id=\"T_95290_level0_row6\" class=\"row_heading level0 row6\" >6</th>\n",
       "      <td id=\"T_95290_row6_col0\" class=\"data row6 col0\" >basement</td>\n",
       "      <td id=\"T_95290_row6_col1\" class=\"data row6 col1\" >Basement_series</td>\n",
       "      <td id=\"T_95290_row6_col2\" class=\"data row6 col2\" >1</td>\n",
       "      <td id=\"T_95290_row6_col3\" class=\"data row6 col3\" >#5DA629</td>\n",
       "      <td id=\"T_95290_row6_col4\" class=\"data row6 col4\" >7</td>\n",
       "    </tr>\n",
       "  </tbody>\n",
       "</table>\n"
      ],
      "text/plain": [
       "      surface           series  order_surfaces    color  id\n",
       "0    RIO_DOCE   Strat_Series_1               1  #015482   1\n",
       "1   CARAVELAS   Strat_Series_1               2  #9f0052   2\n",
       "2   URUCUTUCA   Strat_Series_2               1  #ffbe00   3\n",
       "3    REGENCIA   Strat_Series_2               2  #728f02   4\n",
       "4  SAO_MATEUS   Strat_Series_3               1  #443988   5\n",
       "5    MARIRICU   Strat_Series_4               1  #ff3f20   6\n",
       "6    basement  Basement_series               1  #5DA629   7"
      ]
     },
     "execution_count": 11,
     "metadata": {},
     "output_type": "execute_result"
    }
   ],
   "source": [
    "geo_model.surfaces"
   ]
  },
  {
   "cell_type": "code",
   "execution_count": 12,
   "metadata": {},
   "outputs": [],
   "source": [
    "geo_model.set_default_orientation()"
   ]
  },
  {
   "cell_type": "code",
   "execution_count": 13,
   "metadata": {},
   "outputs": [
    {
     "data": {
      "text/html": [
       "<table border=\"1\" class=\"dataframe\">\n",
       "  <thead>\n",
       "    <tr style=\"text-align: right;\">\n",
       "      <th></th>\n",
       "      <th>values</th>\n",
       "    </tr>\n",
       "  </thead>\n",
       "  <tbody>\n",
       "    <tr>\n",
       "      <th>rescaling factor</th>\n",
       "      <td>214190.6</td>\n",
       "    </tr>\n",
       "    <tr>\n",
       "      <th>centers</th>\n",
       "      <td>[436298.75, 7873961.35, -2391.5]</td>\n",
       "    </tr>\n",
       "  </tbody>\n",
       "</table>"
      ],
      "text/plain": [
       "                                            values\n",
       "rescaling factor                          214190.6\n",
       "centers           [436298.75, 7873961.35, -2391.5]"
      ]
     },
     "execution_count": 13,
     "metadata": {},
     "output_type": "execute_result"
    }
   ],
   "source": [
    "geo_model.rescaling"
   ]
  },
  {
   "cell_type": "code",
   "execution_count": 14,
   "metadata": {},
   "outputs": [
    {
     "data": {
      "text/plain": [
       "<gempy.plot.visualization_2d.Plot2D at 0x283fd79a0c8>"
      ]
     },
     "execution_count": 14,
     "metadata": {},
     "output_type": "execute_result"
    },
    {
     "data": {
      "image/png": "[encoded data removed]",
      "text/plain": [
       "<Figure size 1040x715 with 1 Axes>"
      ]
     },
     "metadata": {},
     "output_type": "display_data"
    },
    {
     "data": {
      "image/png": "[encoded data removed]",
      "text/plain": [
       "<Figure size 1040x715 with 1 Axes>"
      ]
     },
     "metadata": {},
     "output_type": "display_data"
    }
   ],
   "source": [
    "# Ver em 2D os dados nas 3 direções\n",
    "gp.plot_2d(geo_model, direction=['x'], show_data=True, show_boundaries=True, legend=False, show=True)\n",
    "\n",
    "gp.plot_2d(geo_model, direction=['y'], show_data=True, show_boundaries=True, legend=False, show=True)\n",
    "\n",
    "#gp.plot_2d(geo_model, direction=['z'], show_data=True)"
   ]
  },
  {
   "cell_type": "code",
   "execution_count": 15,
   "metadata": {},
   "outputs": [],
   "source": [
    "# Ver os dados em 3D\n",
    "gpv = gp.plot_3d(geo_model, plotter_type='basic', image=False, show_data=True, show_surfaces=True, show_scalar=True, show_boundaries=True)"
   ]
  },
  {
   "cell_type": "code",
   "execution_count": null,
   "metadata": {},
   "outputs": [],
   "source": [
    "# Adicionar uma topografia randômica \n",
    "geo_model.set_topography(source='random')\n",
    "gp.plot_2d(geo_model, show_topography=True, section_names=['topography'])\n",
    "plt.show()"
   ]
  },
  {
   "cell_type": "code",
   "execution_count": 16,
   "metadata": {},
   "outputs": [
    {
     "name": "stdout",
     "output_type": "stream",
     "text": [
      "Setting kriging parameters to their default values.\n",
      "Compiling theano function...\n",
      "Level of Optimization:  fast_run\n",
      "Device:  cpu\n",
      "Precision:  float64\n",
      "Number of faults:  0\n",
      "Compilation Done!\n",
      "Kriging values: \n",
      "                           values\n",
      "range                  172629.66\n",
      "$C_o$               709547619.05\n",
      "drift equations  [3, 3, 3, 3, 3]\n",
      "Wall time: 14.1 s\n"
     ]
    },
    {
     "data": {
      "text/plain": [
       "<gempy.core.interpolator.InterpolatorModel at 0x283fc3de188>"
      ]
     },
     "execution_count": 16,
     "metadata": {},
     "output_type": "execute_result"
    }
   ],
   "source": [
    "%%time\n",
    "# Interpolador\n",
    "gp.set_interpolator(geo_model,\n",
    "                    theano_optimizer='fast_run',\n",
    "                    compile_theano=True\n",
    "                    )"
   ]
  },
  {
   "cell_type": "code",
   "execution_count": 17,
   "metadata": {},
   "outputs": [
    {
     "name": "stdout",
     "output_type": "stream",
     "text": [
      "Wall time: 1.86 s\n"
     ]
    }
   ],
   "source": [
    "%%time\n",
    "# Computar a solução do modelo\n",
    "sol = gp.compute_model(geo_model, compute_mesh=True)"
   ]
  },
  {
   "cell_type": "code",
   "execution_count": 18,
   "metadata": {},
   "outputs": [
    {
     "data": {
      "text/plain": [
       "<gempy.plot.visualization_2d.Plot2D at 0x2838f107488>"
      ]
     },
     "execution_count": 18,
     "metadata": {},
     "output_type": "execute_result"
    },
    {
     "data": {
      "image/png": "[encoded data removed]",
      "text/plain": [
       "<Figure size 1040x715 with 1 Axes>"
      ]
     },
     "metadata": {},
     "output_type": "display_data"
    },
    {
     "data": {
      "image/png": "[encoded data removed]",
      "text/plain": [
       "<Figure size 1040x715 with 1 Axes>"
      ]
     },
     "metadata": {},
     "output_type": "display_data"
    }
   ],
   "source": [
    "# Seção transversal do modelo\n",
    "gp.plot_2d(geo_model, direction=\"y\", show_data=False, show_lith=True)\n",
    "gp.plot_2d(geo_model, direction=\"x\", show_data=False, show_lith=True)"
   ]
  },
  {
   "cell_type": "code",
   "execution_count": 19,
   "metadata": {},
   "outputs": [],
   "source": [
    "# Visualizar o modelo em 3D\n",
    "ver, sim = gp.get_surfaces(geo_model)\n",
    "gpv = gp.plot_3d(geo_model, image=False, plotter_type='basic', show_data=True, show_results=True, show_lith=True, show_boundaries=True)"
   ]
  },
  {
   "cell_type": "code",
   "execution_count": 61,
   "metadata": {},
   "outputs": [
    {
     "data": {
      "text/plain": [
       "True"
      ]
     },
     "execution_count": 61,
     "metadata": {},
     "output_type": "execute_result"
    }
   ],
   "source": [
    "# Salvar o modelo gerado em zip (contem todos os files relevantes para refazer o modelo)\n",
    "gp.save_model(geo_model, path=\"../../output/Lake_PreSal/v6/\", compress=True)"
   ]
  }
 ],
 "metadata": {
  "kernelspec": {
   "display_name": "Python 3 (ipykernel)",
   "language": "python",
   "name": "python3"
  },
  "language_info": {
   "codemirror_mode": {
    "name": "ipython",
    "version": 3
   },
   "file_extension": ".py",
   "mimetype": "text/x-python",
   "name": "python",
   "nbconvert_exporter": "python",
   "pygments_lexer": "ipython3",
   "version": "3.7.12"
  }
 },
 "nbformat": 4,
 "nbformat_minor": 2
}
