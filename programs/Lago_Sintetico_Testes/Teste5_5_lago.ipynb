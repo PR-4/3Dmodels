{
 "cells": [
  {
   "cell_type": "code",
   "execution_count": 1,
   "id": "a9fcfc82",
   "metadata": {},
   "outputs": [
    {
     "name": "stdout",
     "output_type": "stream",
     "text": [
      "Not subsurface compatibility available\n"
     ]
    },
    {
     "name": "stderr",
     "output_type": "stream",
     "text": [
      "WARNING (theano.tensor.blas): Using NumPy C-API based implementation for BLAS functions.\n"
     ]
    }
   ],
   "source": [
    "import gempy as gp\n",
    "import numpy as np\n",
    "import pandas as pd\n",
    "import matplotlib.pyplot as plt\n",
    "import os"
   ]
  },
  {
   "cell_type": "code",
   "execution_count": 2,
   "id": "a92b3d34",
   "metadata": {},
   "outputs": [],
   "source": [
    "data_path = '../../input/Lago_Sintetico_Testes/'\n",
    "geo_model = gp.create_model('SyntheitcBasinTeste5')"
   ]
  },
  {
   "cell_type": "code",
   "execution_count": 3,
   "id": "422f8e81",
   "metadata": {},
   "outputs": [
    {
     "name": "stdout",
     "output_type": "stream",
     "text": [
      "Active grids: ['regular']\n"
     ]
    },
    {
     "data": {
      "text/plain": [
       "SyntheitcBasinTeste5  2023-03-10 15:31"
      ]
     },
     "execution_count": 3,
     "metadata": {},
     "output_type": "execute_result"
    }
   ],
   "source": [
    "gp.init_data(geo_model,\n",
    "             extent=[0, 400, 0, 400, 0, -40],\n",
    "             resolution=[50, 50, 50],\n",
    "             path_i=data_path + \"5_lago/surfaces_points.csv\",\n",
    "             path_o=data_path + \"5_lago/orientations_points.csv\")"
   ]
  },
  {
   "cell_type": "code",
   "execution_count": 4,
   "id": "3982126e",
   "metadata": {},
   "outputs": [
    {
     "data": {
      "text/html": [
       "<style type=\"text/css\">\n",
       "#T_99af1_row0_col3 {\n",
       "  background-color: #015482;\n",
       "}\n",
       "#T_99af1_row1_col3 {\n",
       "  background-color: #9f0052;\n",
       "}\n",
       "</style>\n",
       "<table id=\"T_99af1_\">\n",
       "  <thead>\n",
       "    <tr>\n",
       "      <th class=\"blank level0\" >&nbsp;</th>\n",
       "      <th class=\"col_heading level0 col0\" >surface</th>\n",
       "      <th class=\"col_heading level0 col1\" >series</th>\n",
       "      <th class=\"col_heading level0 col2\" >order_surfaces</th>\n",
       "      <th class=\"col_heading level0 col3\" >color</th>\n",
       "      <th class=\"col_heading level0 col4\" >id</th>\n",
       "    </tr>\n",
       "  </thead>\n",
       "  <tbody>\n",
       "    <tr>\n",
       "      <th id=\"T_99af1_level0_row0\" class=\"row_heading level0 row0\" >0</th>\n",
       "      <td id=\"T_99af1_row0_col0\" class=\"data row0 col0\" >camada1</td>\n",
       "      <td id=\"T_99af1_row0_col1\" class=\"data row0 col1\" >Default series</td>\n",
       "      <td id=\"T_99af1_row0_col2\" class=\"data row0 col2\" >1</td>\n",
       "      <td id=\"T_99af1_row0_col3\" class=\"data row0 col3\" >#015482</td>\n",
       "      <td id=\"T_99af1_row0_col4\" class=\"data row0 col4\" >1</td>\n",
       "    </tr>\n",
       "    <tr>\n",
       "      <th id=\"T_99af1_level0_row1\" class=\"row_heading level0 row1\" >1</th>\n",
       "      <td id=\"T_99af1_row1_col0\" class=\"data row1 col0\" >basement</td>\n",
       "      <td id=\"T_99af1_row1_col1\" class=\"data row1 col1\" >Basement</td>\n",
       "      <td id=\"T_99af1_row1_col2\" class=\"data row1 col2\" >1</td>\n",
       "      <td id=\"T_99af1_row1_col3\" class=\"data row1 col3\" >#9f0052</td>\n",
       "      <td id=\"T_99af1_row1_col4\" class=\"data row1 col4\" >2</td>\n",
       "    </tr>\n",
       "  </tbody>\n",
       "</table>\n"
      ],
      "text/plain": [
       "    surface          series  order_surfaces    color  id\n",
       "0   camada1  Default series               1  #015482   1\n",
       "1  basement        Basement               1  #9f0052   2"
      ]
     },
     "execution_count": 4,
     "metadata": {},
     "output_type": "execute_result"
    }
   ],
   "source": [
    "geo_model.surfaces"
   ]
  },
  {
   "cell_type": "code",
   "execution_count": 5,
   "id": "c72c0b4c",
   "metadata": {
    "scrolled": true
   },
   "outputs": [
    {
     "data": {
      "text/html": [
       "<style type=\"text/css\">\n",
       "#T_c2412_row0_col3 {\n",
       "  background-color: #015482;\n",
       "}\n",
       "#T_c2412_row1_col3 {\n",
       "  background-color: #9f0052;\n",
       "}\n",
       "</style>\n",
       "<table id=\"T_c2412_\">\n",
       "  <thead>\n",
       "    <tr>\n",
       "      <th class=\"blank level0\" >&nbsp;</th>\n",
       "      <th class=\"col_heading level0 col0\" >surface</th>\n",
       "      <th class=\"col_heading level0 col1\" >series</th>\n",
       "      <th class=\"col_heading level0 col2\" >order_surfaces</th>\n",
       "      <th class=\"col_heading level0 col3\" >color</th>\n",
       "      <th class=\"col_heading level0 col4\" >id</th>\n",
       "    </tr>\n",
       "  </thead>\n",
       "  <tbody>\n",
       "    <tr>\n",
       "      <th id=\"T_c2412_level0_row0\" class=\"row_heading level0 row0\" >0</th>\n",
       "      <td id=\"T_c2412_row0_col0\" class=\"data row0 col0\" >camada1</td>\n",
       "      <td id=\"T_c2412_row0_col1\" class=\"data row0 col1\" >Strat_Series</td>\n",
       "      <td id=\"T_c2412_row0_col2\" class=\"data row0 col2\" >1</td>\n",
       "      <td id=\"T_c2412_row0_col3\" class=\"data row0 col3\" >#015482</td>\n",
       "      <td id=\"T_c2412_row0_col4\" class=\"data row0 col4\" >1</td>\n",
       "    </tr>\n",
       "    <tr>\n",
       "      <th id=\"T_c2412_level0_row1\" class=\"row_heading level0 row1\" >1</th>\n",
       "      <td id=\"T_c2412_row1_col0\" class=\"data row1 col0\" >basement</td>\n",
       "      <td id=\"T_c2412_row1_col1\" class=\"data row1 col1\" >Basement</td>\n",
       "      <td id=\"T_c2412_row1_col2\" class=\"data row1 col2\" >1</td>\n",
       "      <td id=\"T_c2412_row1_col3\" class=\"data row1 col3\" >#9f0052</td>\n",
       "      <td id=\"T_c2412_row1_col4\" class=\"data row1 col4\" >2</td>\n",
       "    </tr>\n",
       "  </tbody>\n",
       "</table>\n"
      ],
      "text/plain": [
       "    surface        series  order_surfaces    color  id\n",
       "0   camada1  Strat_Series               1  #015482   1\n",
       "1  basement      Basement               1  #9f0052   2"
      ]
     },
     "execution_count": 5,
     "metadata": {},
     "output_type": "execute_result"
    }
   ],
   "source": [
    "gp.map_stack_to_surfaces(geo_model,\n",
    "                         {\"Strat_Series\": ('camada1')})"
   ]
  },
  {
   "cell_type": "code",
   "execution_count": null,
   "id": "640c9139",
   "metadata": {},
   "outputs": [],
   "source": [
    "geo_model.stack"
   ]
  },
  {
   "cell_type": "code",
   "execution_count": null,
   "id": "ec29b6ab",
   "metadata": {},
   "outputs": [],
   "source": [
    "geo_model.set_is_fault(['Fault_Series'])"
   ]
  },
  {
   "cell_type": "code",
   "execution_count": null,
   "id": "517675f0",
   "metadata": {
    "scrolled": true
   },
   "outputs": [],
   "source": [
    "geo_model.additional_data"
   ]
  },
  {
   "cell_type": "code",
   "execution_count": null,
   "id": "8a051ae1",
   "metadata": {
    "scrolled": true
   },
   "outputs": [],
   "source": [
    "geo_model.grid"
   ]
  },
  {
   "cell_type": "code",
   "execution_count": null,
   "id": "d8bbecdc",
   "metadata": {
    "scrolled": true
   },
   "outputs": [],
   "source": [
    "plot = gp.plot_2d(geo_model, show_lith=False, show_boundaries=False)\n",
    "plt.show()"
   ]
  },
  {
   "cell_type": "code",
   "execution_count": null,
   "id": "06e42085",
   "metadata": {},
   "outputs": [],
   "source": [
    "gp.get_data(geo_model, 'orientations')"
   ]
  },
  {
   "cell_type": "code",
   "execution_count": null,
   "id": "2627cee1",
   "metadata": {},
   "outputs": [],
   "source": [
    "geo_model.set_topography(source='random')\n",
    "gp.plot_2d(geo_model, show_topography=True, section_names=['topography'])\n",
    "plt.show()"
   ]
  },
  {
   "cell_type": "code",
   "execution_count": null,
   "id": "f5bddfb3",
   "metadata": {},
   "outputs": [],
   "source": [
    "gpv = gp.plot_3d(geo_model, image=False, plotter_type='basic')"
   ]
  },
  {
   "cell_type": "code",
   "execution_count": 6,
   "id": "a43ed516",
   "metadata": {},
   "outputs": [
    {
     "name": "stdout",
     "output_type": "stream",
     "text": [
      "Setting kriging parameters to their default values.\n",
      "Compiling theano function...\n",
      "Level of Optimization:  fast_compile\n",
      "Device:  cpu\n",
      "Precision:  float64\n",
      "Number of faults:  0\n",
      "Compilation Done!\n",
      "Kriging values: \n",
      "                       values\n",
      "range             567.097875\n",
      "$C_o$            7657.142857\n",
      "drift equations       [3, 3]\n"
     ]
    },
    {
     "data": {
      "text/plain": [
       "<gempy.core.interpolator.InterpolatorModel at 0x1c3f73aa1c8>"
      ]
     },
     "execution_count": 6,
     "metadata": {},
     "output_type": "execute_result"
    }
   ],
   "source": [
    "gp.set_interpolator(geo_model,\n",
    "                    compile_theano=True,\n",
    "                    theano_optimizer='fast_compile',\n",
    "                    )"
   ]
  },
  {
   "cell_type": "code",
   "execution_count": 7,
   "id": "d1ed86af",
   "metadata": {},
   "outputs": [],
   "source": [
    "sol = gp.compute_model(geo_model)"
   ]
  },
  {
   "cell_type": "code",
   "execution_count": 8,
   "id": "bcad424d",
   "metadata": {},
   "outputs": [
    {
     "data": {
      "text/plain": [
       "\n",
       "Lithology ids \n",
       "  [0. 0. 0. ... 0. 0. 0.] "
      ]
     },
     "execution_count": 8,
     "metadata": {},
     "output_type": "execute_result"
    }
   ],
   "source": [
    "sol"
   ]
  },
  {
   "cell_type": "code",
   "execution_count": null,
   "id": "e70a5585",
   "metadata": {},
   "outputs": [],
   "source": [
    "gp.plot_2d(geo_model, show_data=True)\n",
    "plt.show()"
   ]
  },
  {
   "cell_type": "code",
   "execution_count": null,
   "id": "cb258906",
   "metadata": {},
   "outputs": [],
   "source": [
    "gp.plot_2d(geo_model, show_data=False, show_scalar=True, show_lith=False)\n",
    "plt.show()"
   ]
  },
  {
   "cell_type": "code",
   "execution_count": null,
   "id": "02535591",
   "metadata": {},
   "outputs": [],
   "source": [
    "geo_model.solutions.scalar_field_at_surface_points"
   ]
  },
  {
   "cell_type": "code",
   "execution_count": null,
   "id": "ccae5c57",
   "metadata": {},
   "outputs": [],
   "source": [
    "gp.plot_2d(geo_model, show_block=True, show_lith=False)\n",
    "plt.show()"
   ]
  },
  {
   "cell_type": "code",
   "execution_count": null,
   "id": "84c9d555",
   "metadata": {},
   "outputs": [],
   "source": [
    "gp.plot_2d(geo_model, series_n=1, show_block=True, show_lith=False)\n",
    "plt.show()"
   ]
  },
  {
   "cell_type": "code",
   "execution_count": 9,
   "id": "e243d7fa",
   "metadata": {},
   "outputs": [
    {
     "name": "stderr",
     "output_type": "stream",
     "text": [
      "C:\\Users\\BernardoPR4\\anaconda3\\envs\\gempy\\lib\\site-packages\\pyvista\\plotting\\tools.py:624: PyVistaDeprecationWarning: The usage of `parse_color` is deprecated in favor of the new `Color` class.\n",
      "  PyVistaDeprecationWarning,\n",
      "C:\\Users\\BernardoPR4\\anaconda3\\envs\\gempy\\lib\\site-packages\\pyvista\\utilities\\helpers.py:508: UserWarning: Points is not a float type. This can cause issues when transforming or applying filters. Casting to ``np.float32``. Disable this by passing ``force_float=False``.\n",
      "  'Points is not a float type. This can cause issues when '\n"
     ]
    }
   ],
   "source": [
    "ver, sim = gp.get_surfaces(geo_model)\n",
    "gpv = gp.plot_3d(geo_model, image=False, plotter_type='basic')"
   ]
  },
  {
   "cell_type": "code",
   "execution_count": null,
   "id": "ce26c04e",
   "metadata": {},
   "outputs": [],
   "source": [
    "gp.plot_2d(geo_model, show_topography=True, section_names=['topography'], show_boundaries=False, show_data=True)\n",
    "plt.show()"
   ]
  },
  {
   "cell_type": "code",
   "execution_count": null,
   "id": "661c7caf",
   "metadata": {},
   "outputs": [],
   "source": [
    "g3d = gp.plot_3d(geo_model,\n",
    "                 show_topography=True,\n",
    "                 show_lith=False,\n",
    "                 show_surfaces=False,\n",
    "                 show_results=False)"
   ]
  },
  {
   "cell_type": "code",
   "execution_count": null,
   "id": "a354734d",
   "metadata": {},
   "outputs": [],
   "source": [
    "gp.save_model(geo_model)"
   ]
  },
  {
   "cell_type": "code",
   "execution_count": null,
   "id": "118f9542",
   "metadata": {},
   "outputs": [],
   "source": []
  }
 ],
 "metadata": {
  "kernelspec": {
   "display_name": "Python 3 (ipykernel)",
   "language": "python",
   "name": "python3"
  },
  "language_info": {
   "codemirror_mode": {
    "name": "ipython",
    "version": 3
   },
   "file_extension": ".py",
   "mimetype": "text/x-python",
   "name": "python",
   "nbconvert_exporter": "python",
   "pygments_lexer": "ipython3",
   "version": "3.7.12"
  }
 },
 "nbformat": 4,
 "nbformat_minor": 5
}
