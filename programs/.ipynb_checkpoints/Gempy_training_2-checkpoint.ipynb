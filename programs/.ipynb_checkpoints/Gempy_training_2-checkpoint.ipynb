{
 "cells": [
  {
   "cell_type": "code",
   "execution_count": 1,
   "id": "9ff2fb9d",
   "metadata": {},
   "outputs": [
    {
     "name": "stdout",
     "output_type": "stream",
     "text": [
      "No module named '_gdal'\n",
      "Not subsurface compatibility available\n"
     ]
    },
    {
     "name": "stderr",
     "output_type": "stream",
     "text": [
      "WARNING (theano.tensor.blas): Using NumPy C-API based implementation for BLAS functions.\n"
     ]
    }
   ],
   "source": [
    "import os\n",
    "import pandas as pd\n",
    "import numpy as np\n",
    "import gempy as gp\n",
    "\n",
    "import matplotlib\n",
    "matplotlib.rcParams['figure.figsize'] = (20.0, 10.0)\n",
    "os.environ[\"THEANO_FLAGS\"] = \"mode=FAST_RUN,device=cuda\""
   ]
  },
  {
   "cell_type": "code",
   "execution_count": 2,
   "id": "9d61ce29",
   "metadata": {},
   "outputs": [],
   "source": [
    "data_path = '../input/'\n",
    "geo_model = gp.create_model('Santos_Sintetico')"
   ]
  },
  {
   "cell_type": "code",
   "execution_count": 3,
   "id": "0b8f0fb9",
   "metadata": {},
   "outputs": [
    {
     "name": "stdout",
     "output_type": "stream",
     "text": [
      "Active grids: ['regular']\n"
     ]
    },
    {
     "data": {
      "text/plain": [
       "Santos_Sintetico  2023-02-03 16:20"
      ]
     },
     "execution_count": 3,
     "metadata": {},
     "output_type": "execute_result"
    }
   ],
   "source": [
    "gp.init_data(geo_model,\n",
    "             extent=[337000, 400000, 6640000, 6710000, -18000, 1000],\n",
    "             resolution=[100, 100, 100],\n",
    "             path_i=data_path + \"Surface_Santos.csv\",\n",
    "             path_o=data_path + \"Orientations_Santos.csv\")"
   ]
  },
  {
   "cell_type": "code",
   "execution_count": 4,
   "id": "378bd37b",
   "metadata": {},
   "outputs": [
    {
     "data": {
      "text/html": [
       "<style type=\"text/css\">\n",
       "#T_eb7b3_row0_col3 {\n",
       "  background-color: #015482;\n",
       "}\n",
       "#T_eb7b3_row1_col3 {\n",
       "  background-color: #9f0052;\n",
       "}\n",
       "#T_eb7b3_row2_col3 {\n",
       "  background-color: #ffbe00;\n",
       "}\n",
       "#T_eb7b3_row3_col3 {\n",
       "  background-color: #728f02;\n",
       "}\n",
       "#T_eb7b3_row4_col3 {\n",
       "  background-color: #443988;\n",
       "}\n",
       "#T_eb7b3_row5_col3 {\n",
       "  background-color: #ff3f20;\n",
       "}\n",
       "#T_eb7b3_row6_col3 {\n",
       "  background-color: #5DA629;\n",
       "}\n",
       "</style>\n",
       "<table id=\"T_eb7b3_\">\n",
       "  <thead>\n",
       "    <tr>\n",
       "      <th class=\"blank level0\" >&nbsp;</th>\n",
       "      <th class=\"col_heading level0 col0\" >surface</th>\n",
       "      <th class=\"col_heading level0 col1\" >series</th>\n",
       "      <th class=\"col_heading level0 col2\" >order_surfaces</th>\n",
       "      <th class=\"col_heading level0 col3\" >color</th>\n",
       "      <th class=\"col_heading level0 col4\" >id</th>\n",
       "    </tr>\n",
       "  </thead>\n",
       "  <tbody>\n",
       "    <tr>\n",
       "      <th id=\"T_eb7b3_level0_row0\" class=\"row_heading level0 row0\" >0</th>\n",
       "      <td id=\"T_eb7b3_row0_col0\" class=\"data row0 col0\" >FM_IGUAPE</td>\n",
       "      <td id=\"T_eb7b3_row0_col1\" class=\"data row0 col1\" >Default series</td>\n",
       "      <td id=\"T_eb7b3_row0_col2\" class=\"data row0 col2\" >1</td>\n",
       "      <td id=\"T_eb7b3_row0_col3\" class=\"data row0 col3\" >#015482</td>\n",
       "      <td id=\"T_eb7b3_row0_col4\" class=\"data row0 col4\" >1</td>\n",
       "    </tr>\n",
       "    <tr>\n",
       "      <th id=\"T_eb7b3_level0_row1\" class=\"row_heading level0 row1\" >1</th>\n",
       "      <td id=\"T_eb7b3_row1_col0\" class=\"data row1 col0\" >FM_MARAMBAIA</td>\n",
       "      <td id=\"T_eb7b3_row1_col1\" class=\"data row1 col1\" >Default series</td>\n",
       "      <td id=\"T_eb7b3_row1_col2\" class=\"data row1 col2\" >2</td>\n",
       "      <td id=\"T_eb7b3_row1_col3\" class=\"data row1 col3\" >#9f0052</td>\n",
       "      <td id=\"T_eb7b3_row1_col4\" class=\"data row1 col4\" >2</td>\n",
       "    </tr>\n",
       "    <tr>\n",
       "      <th id=\"T_eb7b3_level0_row2\" class=\"row_heading level0 row2\" >2</th>\n",
       "      <td id=\"T_eb7b3_row2_col0\" class=\"data row2 col0\" >FM_JUREIA</td>\n",
       "      <td id=\"T_eb7b3_row2_col1\" class=\"data row2 col1\" >Default series</td>\n",
       "      <td id=\"T_eb7b3_row2_col2\" class=\"data row2 col2\" >3</td>\n",
       "      <td id=\"T_eb7b3_row2_col3\" class=\"data row2 col3\" >#ffbe00</td>\n",
       "      <td id=\"T_eb7b3_row2_col4\" class=\"data row2 col4\" >3</td>\n",
       "    </tr>\n",
       "    <tr>\n",
       "      <th id=\"T_eb7b3_level0_row3\" class=\"row_heading level0 row3\" >3</th>\n",
       "      <td id=\"T_eb7b3_row3_col0\" class=\"data row3 col0\" >FM_ITAJAI_ACU</td>\n",
       "      <td id=\"T_eb7b3_row3_col1\" class=\"data row3 col1\" >Default series</td>\n",
       "      <td id=\"T_eb7b3_row3_col2\" class=\"data row3 col2\" >4</td>\n",
       "      <td id=\"T_eb7b3_row3_col3\" class=\"data row3 col3\" >#728f02</td>\n",
       "      <td id=\"T_eb7b3_row3_col4\" class=\"data row3 col4\" >4</td>\n",
       "    </tr>\n",
       "    <tr>\n",
       "      <th id=\"T_eb7b3_level0_row4\" class=\"row_heading level0 row4\" >4</th>\n",
       "      <td id=\"T_eb7b3_row4_col0\" class=\"data row4 col0\" >FM_ITANHAEM</td>\n",
       "      <td id=\"T_eb7b3_row4_col1\" class=\"data row4 col1\" >Default series</td>\n",
       "      <td id=\"T_eb7b3_row4_col2\" class=\"data row4 col2\" >5</td>\n",
       "      <td id=\"T_eb7b3_row4_col3\" class=\"data row4 col3\" >#443988</td>\n",
       "      <td id=\"T_eb7b3_row4_col4\" class=\"data row4 col4\" >5</td>\n",
       "    </tr>\n",
       "    <tr>\n",
       "      <th id=\"T_eb7b3_level0_row5\" class=\"row_heading level0 row5\" >5</th>\n",
       "      <td id=\"T_eb7b3_row5_col0\" class=\"data row5 col0\" >FM_GUARUJA</td>\n",
       "      <td id=\"T_eb7b3_row5_col1\" class=\"data row5 col1\" >Default series</td>\n",
       "      <td id=\"T_eb7b3_row5_col2\" class=\"data row5 col2\" >6</td>\n",
       "      <td id=\"T_eb7b3_row5_col3\" class=\"data row5 col3\" >#ff3f20</td>\n",
       "      <td id=\"T_eb7b3_row5_col4\" class=\"data row5 col4\" >6</td>\n",
       "    </tr>\n",
       "    <tr>\n",
       "      <th id=\"T_eb7b3_level0_row6\" class=\"row_heading level0 row6\" >6</th>\n",
       "      <td id=\"T_eb7b3_row6_col0\" class=\"data row6 col0\" >basement</td>\n",
       "      <td id=\"T_eb7b3_row6_col1\" class=\"data row6 col1\" >Basement</td>\n",
       "      <td id=\"T_eb7b3_row6_col2\" class=\"data row6 col2\" >1</td>\n",
       "      <td id=\"T_eb7b3_row6_col3\" class=\"data row6 col3\" >#5DA629</td>\n",
       "      <td id=\"T_eb7b3_row6_col4\" class=\"data row6 col4\" >7</td>\n",
       "    </tr>\n",
       "  </tbody>\n",
       "</table>\n"
      ],
      "text/plain": [
       "         surface          series  order_surfaces    color  id\n",
       "0      FM_IGUAPE  Default series               1  #015482   1\n",
       "1   FM_MARAMBAIA  Default series               2  #9f0052   2\n",
       "2      FM_JUREIA  Default series               3  #ffbe00   3\n",
       "3  FM_ITAJAI_ACU  Default series               4  #728f02   4\n",
       "4    FM_ITANHAEM  Default series               5  #443988   5\n",
       "5     FM_GUARUJA  Default series               6  #ff3f20   6\n",
       "6       basement        Basement               1  #5DA629   7"
      ]
     },
     "execution_count": 4,
     "metadata": {},
     "output_type": "execute_result"
    }
   ],
   "source": [
    "geo_model.surfaces"
   ]
  },
  {
   "cell_type": "code",
   "execution_count": null,
   "id": "8ad37e7f",
   "metadata": {},
   "outputs": [],
   "source": [
    "## del_surfaces = ['Cadda', 'Woodada_Kockatea', 'Cattamarra'] - serve para selecionar as series que quer deletar"
   ]
  },
  {
   "cell_type": "code",
   "execution_count": null,
   "id": "c9965f7d",
   "metadata": {},
   "outputs": [],
   "source": [
    "## geo_model.delete_surfaces(del_surfaces, remove_data=True) - serve para deletar a serie selecionada"
   ]
  },
  {
   "cell_type": "code",
   "execution_count": 5,
   "id": "6ee3b064",
   "metadata": {},
   "outputs": [
    {
     "data": {
      "text/html": [
       "<table border=\"1\" class=\"dataframe\">\n",
       "  <thead>\n",
       "    <tr style=\"text-align: right;\">\n",
       "      <th></th>\n",
       "      <th>order_series</th>\n",
       "      <th>BottomRelation</th>\n",
       "      <th>isActive</th>\n",
       "      <th>isFault</th>\n",
       "      <th>isFinite</th>\n",
       "    </tr>\n",
       "  </thead>\n",
       "  <tbody>\n",
       "    <tr>\n",
       "      <th>Default series</th>\n",
       "      <td>1</td>\n",
       "      <td>Erosion</td>\n",
       "      <td>True</td>\n",
       "      <td>False</td>\n",
       "      <td>False</td>\n",
       "    </tr>\n",
       "    <tr>\n",
       "      <th>Basement</th>\n",
       "      <td>2</td>\n",
       "      <td>Erosion</td>\n",
       "      <td>False</td>\n",
       "      <td>False</td>\n",
       "      <td>False</td>\n",
       "    </tr>\n",
       "  </tbody>\n",
       "</table>"
      ],
      "text/plain": [
       "                order_series BottomRelation  isActive  isFault  isFinite\n",
       "Default series             1        Erosion      True    False     False\n",
       "Basement                   2        Erosion     False    False     False"
      ]
     },
     "execution_count": 5,
     "metadata": {},
     "output_type": "execute_result"
    }
   ],
   "source": [
    "geo_model.stack"
   ]
  },
  {
   "cell_type": "code",
   "execution_count": 6,
   "id": "39f50f5f",
   "metadata": {},
   "outputs": [
    {
     "data": {
      "text/html": [
       "<style type=\"text/css\">\n",
       "#T_b6342_row0_col3 {\n",
       "  background-color: #015482;\n",
       "}\n",
       "#T_b6342_row1_col3 {\n",
       "  background-color: #9f0052;\n",
       "}\n",
       "#T_b6342_row2_col3 {\n",
       "  background-color: #ffbe00;\n",
       "}\n",
       "#T_b6342_row3_col3 {\n",
       "  background-color: #728f02;\n",
       "}\n",
       "#T_b6342_row4_col3 {\n",
       "  background-color: #443988;\n",
       "}\n",
       "#T_b6342_row5_col3 {\n",
       "  background-color: #ff3f20;\n",
       "}\n",
       "#T_b6342_row6_col3 {\n",
       "  background-color: #5DA629;\n",
       "}\n",
       "</style>\n",
       "<table id=\"T_b6342_\">\n",
       "  <thead>\n",
       "    <tr>\n",
       "      <th class=\"blank level0\" >&nbsp;</th>\n",
       "      <th class=\"col_heading level0 col0\" >surface</th>\n",
       "      <th class=\"col_heading level0 col1\" >series</th>\n",
       "      <th class=\"col_heading level0 col2\" >order_surfaces</th>\n",
       "      <th class=\"col_heading level0 col3\" >color</th>\n",
       "      <th class=\"col_heading level0 col4\" >id</th>\n",
       "    </tr>\n",
       "  </thead>\n",
       "  <tbody>\n",
       "    <tr>\n",
       "      <th id=\"T_b6342_level0_row0\" class=\"row_heading level0 row0\" >0</th>\n",
       "      <td id=\"T_b6342_row0_col0\" class=\"data row0 col0\" >FM_IGUAPE</td>\n",
       "      <td id=\"T_b6342_row0_col1\" class=\"data row0 col1\" >Sedimentary_Series</td>\n",
       "      <td id=\"T_b6342_row0_col2\" class=\"data row0 col2\" >1</td>\n",
       "      <td id=\"T_b6342_row0_col3\" class=\"data row0 col3\" >#015482</td>\n",
       "      <td id=\"T_b6342_row0_col4\" class=\"data row0 col4\" >1</td>\n",
       "    </tr>\n",
       "    <tr>\n",
       "      <th id=\"T_b6342_level0_row1\" class=\"row_heading level0 row1\" >1</th>\n",
       "      <td id=\"T_b6342_row1_col0\" class=\"data row1 col0\" >FM_MARAMBAIA</td>\n",
       "      <td id=\"T_b6342_row1_col1\" class=\"data row1 col1\" >Sedimentary_Series</td>\n",
       "      <td id=\"T_b6342_row1_col2\" class=\"data row1 col2\" >2</td>\n",
       "      <td id=\"T_b6342_row1_col3\" class=\"data row1 col3\" >#9f0052</td>\n",
       "      <td id=\"T_b6342_row1_col4\" class=\"data row1 col4\" >2</td>\n",
       "    </tr>\n",
       "    <tr>\n",
       "      <th id=\"T_b6342_level0_row2\" class=\"row_heading level0 row2\" >2</th>\n",
       "      <td id=\"T_b6342_row2_col0\" class=\"data row2 col0\" >FM_JUREIA</td>\n",
       "      <td id=\"T_b6342_row2_col1\" class=\"data row2 col1\" >Sedimentary_Series</td>\n",
       "      <td id=\"T_b6342_row2_col2\" class=\"data row2 col2\" >3</td>\n",
       "      <td id=\"T_b6342_row2_col3\" class=\"data row2 col3\" >#ffbe00</td>\n",
       "      <td id=\"T_b6342_row2_col4\" class=\"data row2 col4\" >3</td>\n",
       "    </tr>\n",
       "    <tr>\n",
       "      <th id=\"T_b6342_level0_row3\" class=\"row_heading level0 row3\" >3</th>\n",
       "      <td id=\"T_b6342_row3_col0\" class=\"data row3 col0\" >FM_ITAJAI_ACU</td>\n",
       "      <td id=\"T_b6342_row3_col1\" class=\"data row3 col1\" >Sedimentary_Series</td>\n",
       "      <td id=\"T_b6342_row3_col2\" class=\"data row3 col2\" >4</td>\n",
       "      <td id=\"T_b6342_row3_col3\" class=\"data row3 col3\" >#728f02</td>\n",
       "      <td id=\"T_b6342_row3_col4\" class=\"data row3 col4\" >4</td>\n",
       "    </tr>\n",
       "    <tr>\n",
       "      <th id=\"T_b6342_level0_row4\" class=\"row_heading level0 row4\" >4</th>\n",
       "      <td id=\"T_b6342_row4_col0\" class=\"data row4 col0\" >FM_ITANHAEM</td>\n",
       "      <td id=\"T_b6342_row4_col1\" class=\"data row4 col1\" >Sedimentary_Series</td>\n",
       "      <td id=\"T_b6342_row4_col2\" class=\"data row4 col2\" >5</td>\n",
       "      <td id=\"T_b6342_row4_col3\" class=\"data row4 col3\" >#443988</td>\n",
       "      <td id=\"T_b6342_row4_col4\" class=\"data row4 col4\" >5</td>\n",
       "    </tr>\n",
       "    <tr>\n",
       "      <th id=\"T_b6342_level0_row5\" class=\"row_heading level0 row5\" >5</th>\n",
       "      <td id=\"T_b6342_row5_col0\" class=\"data row5 col0\" >FM_GUARUJA</td>\n",
       "      <td id=\"T_b6342_row5_col1\" class=\"data row5 col1\" >Sedimentary_Series</td>\n",
       "      <td id=\"T_b6342_row5_col2\" class=\"data row5 col2\" >6</td>\n",
       "      <td id=\"T_b6342_row5_col3\" class=\"data row5 col3\" >#ff3f20</td>\n",
       "      <td id=\"T_b6342_row5_col4\" class=\"data row5 col4\" >6</td>\n",
       "    </tr>\n",
       "    <tr>\n",
       "      <th id=\"T_b6342_level0_row6\" class=\"row_heading level0 row6\" >6</th>\n",
       "      <td id=\"T_b6342_row6_col0\" class=\"data row6 col0\" >basement</td>\n",
       "      <td id=\"T_b6342_row6_col1\" class=\"data row6 col1\" >Basement</td>\n",
       "      <td id=\"T_b6342_row6_col2\" class=\"data row6 col2\" >1</td>\n",
       "      <td id=\"T_b6342_row6_col3\" class=\"data row6 col3\" >#5DA629</td>\n",
       "      <td id=\"T_b6342_row6_col4\" class=\"data row6 col4\" >7</td>\n",
       "    </tr>\n",
       "  </tbody>\n",
       "</table>\n"
      ],
      "text/plain": [
       "         surface              series  order_surfaces    color  id\n",
       "0      FM_IGUAPE  Sedimentary_Series               1  #015482   1\n",
       "1   FM_MARAMBAIA  Sedimentary_Series               2  #9f0052   2\n",
       "2      FM_JUREIA  Sedimentary_Series               3  #ffbe00   3\n",
       "3  FM_ITAJAI_ACU  Sedimentary_Series               4  #728f02   4\n",
       "4    FM_ITANHAEM  Sedimentary_Series               5  #443988   5\n",
       "5     FM_GUARUJA  Sedimentary_Series               6  #ff3f20   6\n",
       "6       basement            Basement               1  #5DA629   7"
      ]
     },
     "execution_count": 6,
     "metadata": {},
     "output_type": "execute_result"
    }
   ],
   "source": [
    "gp.map_stack_to_surfaces(geo_model,\n",
    "                        {\"Sedimentary_Series\": ['FM_IGUAPE', 'FM_MARAMBAIA', 'FM_JUREIA', 'FM_ITAJAI_ACU', 'FM_ITANHAEM', 'FM_GUARUJA']})"
   ]
  },
  {
   "cell_type": "code",
   "execution_count": 7,
   "id": "38f96558",
   "metadata": {},
   "outputs": [
    {
     "data": {
      "text/html": [
       "<table border=\"1\" class=\"dataframe\">\n",
       "  <thead>\n",
       "    <tr style=\"text-align: right;\">\n",
       "      <th></th>\n",
       "      <th>order_series</th>\n",
       "      <th>BottomRelation</th>\n",
       "      <th>isActive</th>\n",
       "      <th>isFault</th>\n",
       "      <th>isFinite</th>\n",
       "    </tr>\n",
       "  </thead>\n",
       "  <tbody>\n",
       "    <tr>\n",
       "      <th>Sedimentary_Series</th>\n",
       "      <td>1</td>\n",
       "      <td>Erosion</td>\n",
       "      <td>True</td>\n",
       "      <td>False</td>\n",
       "      <td>False</td>\n",
       "    </tr>\n",
       "    <tr>\n",
       "      <th>Basement</th>\n",
       "      <td>2</td>\n",
       "      <td>Erosion</td>\n",
       "      <td>False</td>\n",
       "      <td>False</td>\n",
       "      <td>False</td>\n",
       "    </tr>\n",
       "  </tbody>\n",
       "</table>"
      ],
      "text/plain": [
       "                    order_series BottomRelation  isActive  isFault  isFinite\n",
       "Sedimentary_Series             1        Erosion      True    False     False\n",
       "Basement                       2        Erosion     False    False     False"
      ]
     },
     "execution_count": 7,
     "metadata": {},
     "output_type": "execute_result"
    }
   ],
   "source": [
    "geo_model.series"
   ]
  },
  {
   "cell_type": "code",
   "execution_count": null,
   "id": "fa91b0af",
   "metadata": {},
   "outputs": [],
   "source": [
    "##geo_model.surface_points.df.dropna(inplace=True)\n",
    "##geo_model.orientations.df.dropna(inplace=True)"
   ]
  },
  {
   "cell_type": "code",
   "execution_count": null,
   "id": "21d66642",
   "metadata": {},
   "outputs": [],
   "source": [
    "## geo_model.faults "
   ]
  },
  {
   "cell_type": "code",
   "execution_count": null,
   "id": "955aefb0",
   "metadata": {},
   "outputs": [],
   "source": [
    "## geo_model.set_is_fault([\"fault_Abrolhos_Transfer\",\n",
    "                       ##\"fault_Coomallo\",\n",
    "                       ##\"fault_Eneabba_South\",\n",
    "                      ## \"fault_Hypo_fault_W\",\n",
    "                      ## \"fault_Hypo_fault_E\",\n",
    "                      ## \"fault_Urella_North\",\n",
    "                       ##\"fault_Darling\",\n",
    "                       ##\"fault_Urella_South\"])"
   ]
  },
  {
   "cell_type": "code",
   "execution_count": null,
   "id": "1d68720f",
   "metadata": {},
   "outputs": [],
   "source": [
    "##geo_model.faults.faults_relations_df"
   ]
  },
  {
   "cell_type": "code",
   "execution_count": null,
   "id": "b3117db0",
   "metadata": {},
   "outputs": [],
   "source": [
    "##fr = geo_model.faults.faults_relations_df.values"
   ]
  },
  {
   "cell_type": "code",
   "execution_count": null,
   "id": "6ec66594",
   "metadata": {},
   "outputs": [],
   "source": [
    "##fr[:, :-2] = False\n",
    "##fr"
   ]
  },
  {
   "cell_type": "code",
   "execution_count": null,
   "id": "7cd790f9",
   "metadata": {},
   "outputs": [],
   "source": [
    "##geo_model.set_fault_relation(fr)"
   ]
  },
  {
   "cell_type": "code",
   "execution_count": 10,
   "id": "9c08616c",
   "metadata": {},
   "outputs": [
    {
     "data": {
      "text/plain": [
       "<gempy.plot.visualization_2d.Plot2D at 0x24113914248>"
      ]
     },
     "execution_count": 10,
     "metadata": {},
     "output_type": "execute_result"
    },
    {
     "data": {
      "image/png": "[encoded data removed]",
      "text/plain": [
       "<Figure size 2000x1000 with 1 Axes>"
      ]
     },
     "metadata": {},
     "output_type": "display_data"
    }
   ],
   "source": [
    "gp.plot_2d(geo_model, direction=['y'])"
   ]
  },
  {
   "cell_type": "code",
   "execution_count": 11,
   "id": "6312f5dc",
   "metadata": {},
   "outputs": [
    {
     "name": "stdout",
     "output_type": "stream",
     "text": [
      "[-2800.  1000.]\n",
      "Active grids: ['regular' 'topography']\n"
     ]
    },
    {
     "data": {
      "text/plain": [
       "Grid Object. Values: \n",
       "array([[ 3.37315000e+05,  6.64035000e+06, -1.79050000e+04],\n",
       "       [ 3.37315000e+05,  6.64035000e+06, -1.77150000e+04],\n",
       "       [ 3.37315000e+05,  6.64035000e+06, -1.75250000e+04],\n",
       "       ...,\n",
       "       [ 4.00000000e+05,  6.70858586e+06,  5.04004487e+02],\n",
       "       [ 4.00000000e+05,  6.70929293e+06,  6.25854223e+02],\n",
       "       [ 4.00000000e+05,  6.71000000e+06,  6.64760937e+02]])"
      ]
     },
     "execution_count": 11,
     "metadata": {},
     "output_type": "execute_result"
    }
   ],
   "source": [
    "geo_model.set_topography(source='random')"
   ]
  },
  {
   "cell_type": "code",
   "execution_count": 13,
   "id": "a0882116",
   "metadata": {},
   "outputs": [
    {
     "data": {
      "text/plain": [
       "<gempy.plot.vista.GemPyToVista at 0x241139b25c8>"
      ]
     },
     "execution_count": 13,
     "metadata": {},
     "output_type": "execute_result"
    }
   ],
   "source": [
    "gp.plot_3d(geo_model)"
   ]
  },
  {
   "cell_type": "code",
   "execution_count": 14,
   "id": "d7a2cec0",
   "metadata": {},
   "outputs": [
    {
     "name": "stdout",
     "output_type": "stream",
     "text": [
      "Setting kriging parameters to their default values.\n",
      "Compiling theano function...\n",
      "Level of Optimization:  fast_run\n",
      "Device:  cpu\n",
      "Precision:  float32\n",
      "Number of faults:  0\n",
      "Compilation Done!\n",
      "Kriging values: \n",
      "                            values\n",
      "range                96072.888996\n",
      "$C_o$            219761904.761905\n",
      "drift equations            [3, 3]\n"
     ]
    }
   ],
   "source": [
    "interp_data = gp.set_interpolator(geo_model,\n",
    "                                 compile_theano=True,\n",
    "                                 theano_optimizer='fast_run', gradient=False,\n",
    "                                 dtype='float32')"
   ]
  },
  {
   "cell_type": "code",
   "execution_count": 15,
   "id": "78abe871",
   "metadata": {},
   "outputs": [
    {
     "name": "stderr",
     "output_type": "stream",
     "text": [
      "C:\\anaconda3\\envs\\gempyuff\\lib\\site-packages\\theano\\tensor\\slinalg.py:255: LinAlgWarning: Ill-conditioned matrix (rcond=2.96508e-14): result may not be accurate.\n",
      "  rval = scipy.linalg.solve(A, b)\n"
     ]
    },
    {
     "ename": "KeyboardInterrupt",
     "evalue": "",
     "output_type": "error",
     "traceback": [
      "\u001b[1;31m---------------------------------------------------------------------------\u001b[0m",
      "\u001b[1;31mKeyboardInterrupt\u001b[0m                         Traceback (most recent call last)",
      "\u001b[1;32m~\\AppData\\Local\\Temp\\ipykernel_9756\\1433740912.py\u001b[0m in \u001b[0;36m<module>\u001b[1;34m\u001b[0m\n\u001b[1;32m----> 1\u001b[1;33m \u001b[0mgp\u001b[0m\u001b[1;33m.\u001b[0m\u001b[0mcompute_model\u001b[0m\u001b[1;33m(\u001b[0m\u001b[0mgeo_model\u001b[0m\u001b[1;33m)\u001b[0m\u001b[1;33m\u001b[0m\u001b[1;33m\u001b[0m\u001b[0m\n\u001b[0m",
      "\u001b[1;32mC:\\anaconda3\\envs\\gempyuff\\lib\\site-packages\\gempy\\gempy_api.py\u001b[0m in \u001b[0;36mcompute_model\u001b[1;34m(model, output, at, compute_mesh, reset_weights, reset_scalar, reset_block, sort_surfaces, debug, set_solutions, **kwargs)\u001b[0m\n\u001b[0;32m    289\u001b[0m     \u001b[0mmodel\u001b[0m\u001b[1;33m.\u001b[0m\u001b[0m_interpolator\u001b[0m\u001b[1;33m.\u001b[0m\u001b[0mreset_flow_control_initial_results\u001b[0m\u001b[1;33m(\u001b[0m\u001b[0mreset_weights\u001b[0m\u001b[1;33m,\u001b[0m \u001b[0mreset_scalar\u001b[0m\u001b[1;33m,\u001b[0m \u001b[0mreset_block\u001b[0m\u001b[1;33m)\u001b[0m\u001b[1;33m\u001b[0m\u001b[1;33m\u001b[0m\u001b[0m\n\u001b[0;32m    290\u001b[0m \u001b[1;33m\u001b[0m\u001b[0m\n\u001b[1;32m--> 291\u001b[1;33m     \u001b[0msol\u001b[0m \u001b[1;33m=\u001b[0m \u001b[0mmodel\u001b[0m\u001b[1;33m.\u001b[0m\u001b[0m_interpolator\u001b[0m\u001b[1;33m.\u001b[0m\u001b[0mtheano_function\u001b[0m\u001b[1;33m(\u001b[0m\u001b[1;33m*\u001b[0m\u001b[0mi\u001b[0m\u001b[1;33m)\u001b[0m\u001b[1;33m\u001b[0m\u001b[1;33m\u001b[0m\u001b[0m\n\u001b[0m\u001b[0;32m    292\u001b[0m \u001b[1;33m\u001b[0m\u001b[0m\n\u001b[0;32m    293\u001b[0m     \u001b[1;32mif\u001b[0m \u001b[0mdebug\u001b[0m \u001b[1;32mis\u001b[0m \u001b[1;32mTrue\u001b[0m \u001b[1;32mor\u001b[0m \u001b[0mset_solutions\u001b[0m \u001b[1;32mis\u001b[0m \u001b[1;32mFalse\u001b[0m\u001b[1;33m:\u001b[0m\u001b[1;33m\u001b[0m\u001b[1;33m\u001b[0m\u001b[0m\n",
      "\u001b[1;32mC:\\anaconda3\\envs\\gempyuff\\lib\\site-packages\\theano\\compile\\function_module.py\u001b[0m in \u001b[0;36m__call__\u001b[1;34m(self, *args, **kwargs)\u001b[0m\n\u001b[0;32m    901\u001b[0m         \u001b[1;32mtry\u001b[0m\u001b[1;33m:\u001b[0m\u001b[1;33m\u001b[0m\u001b[1;33m\u001b[0m\u001b[0m\n\u001b[0;32m    902\u001b[0m             \u001b[0moutputs\u001b[0m \u001b[1;33m=\u001b[0m\u001b[0;31m\\\u001b[0m\u001b[1;33m\u001b[0m\u001b[1;33m\u001b[0m\u001b[0m\n\u001b[1;32m--> 903\u001b[1;33m                 \u001b[0mself\u001b[0m\u001b[1;33m.\u001b[0m\u001b[0mfn\u001b[0m\u001b[1;33m(\u001b[0m\u001b[1;33m)\u001b[0m \u001b[1;32mif\u001b[0m \u001b[0moutput_subset\u001b[0m \u001b[1;32mis\u001b[0m \u001b[1;32mNone\u001b[0m \u001b[1;32melse\u001b[0m\u001b[0;31m\\\u001b[0m\u001b[1;33m\u001b[0m\u001b[1;33m\u001b[0m\u001b[0m\n\u001b[0m\u001b[0;32m    904\u001b[0m                 \u001b[0mself\u001b[0m\u001b[1;33m.\u001b[0m\u001b[0mfn\u001b[0m\u001b[1;33m(\u001b[0m\u001b[0moutput_subset\u001b[0m\u001b[1;33m=\u001b[0m\u001b[0moutput_subset\u001b[0m\u001b[1;33m)\u001b[0m\u001b[1;33m\u001b[0m\u001b[1;33m\u001b[0m\u001b[0m\n\u001b[0;32m    905\u001b[0m         \u001b[1;32mexcept\u001b[0m \u001b[0mException\u001b[0m\u001b[1;33m:\u001b[0m\u001b[1;33m\u001b[0m\u001b[1;33m\u001b[0m\u001b[0m\n",
      "\u001b[1;32mC:\\anaconda3\\envs\\gempyuff\\lib\\site-packages\\theano\\scan_module\\scan_op.py\u001b[0m in \u001b[0;36mrval\u001b[1;34m(p, i, o, n, allow_gc)\u001b[0m\n\u001b[0;32m    961\u001b[0m         def rval(p=p, i=node_input_storage, o=node_output_storage, n=node,\n\u001b[0;32m    962\u001b[0m                  allow_gc=allow_gc):\n\u001b[1;32m--> 963\u001b[1;33m             \u001b[0mr\u001b[0m \u001b[1;33m=\u001b[0m \u001b[0mp\u001b[0m\u001b[1;33m(\u001b[0m\u001b[0mn\u001b[0m\u001b[1;33m,\u001b[0m \u001b[1;33m[\u001b[0m\u001b[0mx\u001b[0m\u001b[1;33m[\u001b[0m\u001b[1;36m0\u001b[0m\u001b[1;33m]\u001b[0m \u001b[1;32mfor\u001b[0m \u001b[0mx\u001b[0m \u001b[1;32min\u001b[0m \u001b[0mi\u001b[0m\u001b[1;33m]\u001b[0m\u001b[1;33m,\u001b[0m \u001b[0mo\u001b[0m\u001b[1;33m)\u001b[0m\u001b[1;33m\u001b[0m\u001b[1;33m\u001b[0m\u001b[0m\n\u001b[0m\u001b[0;32m    964\u001b[0m             \u001b[1;32mfor\u001b[0m \u001b[0mo\u001b[0m \u001b[1;32min\u001b[0m \u001b[0mnode\u001b[0m\u001b[1;33m.\u001b[0m\u001b[0moutputs\u001b[0m\u001b[1;33m:\u001b[0m\u001b[1;33m\u001b[0m\u001b[1;33m\u001b[0m\u001b[0m\n\u001b[0;32m    965\u001b[0m                 \u001b[0mcompute_map\u001b[0m\u001b[1;33m[\u001b[0m\u001b[0mo\u001b[0m\u001b[1;33m]\u001b[0m\u001b[1;33m[\u001b[0m\u001b[1;36m0\u001b[0m\u001b[1;33m]\u001b[0m \u001b[1;33m=\u001b[0m \u001b[1;32mTrue\u001b[0m\u001b[1;33m\u001b[0m\u001b[1;33m\u001b[0m\u001b[0m\n",
      "\u001b[1;32mC:\\anaconda3\\envs\\gempyuff\\lib\\site-packages\\theano\\scan_module\\scan_op.py\u001b[0m in \u001b[0;36mp\u001b[1;34m(node, args, outs)\u001b[0m\n\u001b[0;32m    950\u001b[0m                                                 \u001b[0margs\u001b[0m\u001b[1;33m,\u001b[0m\u001b[1;33m\u001b[0m\u001b[1;33m\u001b[0m\u001b[0m\n\u001b[0;32m    951\u001b[0m                                                 \u001b[0mouts\u001b[0m\u001b[1;33m,\u001b[0m\u001b[1;33m\u001b[0m\u001b[1;33m\u001b[0m\u001b[0m\n\u001b[1;32m--> 952\u001b[1;33m                                                 self, node)\n\u001b[0m\u001b[0;32m    953\u001b[0m         \u001b[1;32mexcept\u001b[0m \u001b[1;33m(\u001b[0m\u001b[0mImportError\u001b[0m\u001b[1;33m,\u001b[0m \u001b[0mtheano\u001b[0m\u001b[1;33m.\u001b[0m\u001b[0mgof\u001b[0m\u001b[1;33m.\u001b[0m\u001b[0mcmodule\u001b[0m\u001b[1;33m.\u001b[0m\u001b[0mMissingGXX\u001b[0m\u001b[1;33m)\u001b[0m\u001b[1;33m:\u001b[0m\u001b[1;33m\u001b[0m\u001b[1;33m\u001b[0m\u001b[0m\n\u001b[0;32m    954\u001b[0m             \u001b[0mp\u001b[0m \u001b[1;33m=\u001b[0m \u001b[0mself\u001b[0m\u001b[1;33m.\u001b[0m\u001b[0mexecute\u001b[0m\u001b[1;33m\u001b[0m\u001b[1;33m\u001b[0m\u001b[0m\n",
      "\u001b[1;32mscan_perform.pyx\u001b[0m in \u001b[0;36mtheano.scan_module.scan_perform.perform\u001b[1;34m()\u001b[0m\n",
      "\u001b[1;32mC:\\anaconda3\\envs\\gempyuff\\lib\\site-packages\\theano\\scan_module\\scan_op.py\u001b[0m in \u001b[0;36mrval\u001b[1;34m(p, i, o, n, allow_gc)\u001b[0m\n\u001b[0;32m    961\u001b[0m         def rval(p=p, i=node_input_storage, o=node_output_storage, n=node,\n\u001b[0;32m    962\u001b[0m                  allow_gc=allow_gc):\n\u001b[1;32m--> 963\u001b[1;33m             \u001b[0mr\u001b[0m \u001b[1;33m=\u001b[0m \u001b[0mp\u001b[0m\u001b[1;33m(\u001b[0m\u001b[0mn\u001b[0m\u001b[1;33m,\u001b[0m \u001b[1;33m[\u001b[0m\u001b[0mx\u001b[0m\u001b[1;33m[\u001b[0m\u001b[1;36m0\u001b[0m\u001b[1;33m]\u001b[0m \u001b[1;32mfor\u001b[0m \u001b[0mx\u001b[0m \u001b[1;32min\u001b[0m \u001b[0mi\u001b[0m\u001b[1;33m]\u001b[0m\u001b[1;33m,\u001b[0m \u001b[0mo\u001b[0m\u001b[1;33m)\u001b[0m\u001b[1;33m\u001b[0m\u001b[1;33m\u001b[0m\u001b[0m\n\u001b[0m\u001b[0;32m    964\u001b[0m             \u001b[1;32mfor\u001b[0m \u001b[0mo\u001b[0m \u001b[1;32min\u001b[0m \u001b[0mnode\u001b[0m\u001b[1;33m.\u001b[0m\u001b[0moutputs\u001b[0m\u001b[1;33m:\u001b[0m\u001b[1;33m\u001b[0m\u001b[1;33m\u001b[0m\u001b[0m\n\u001b[0;32m    965\u001b[0m                 \u001b[0mcompute_map\u001b[0m\u001b[1;33m[\u001b[0m\u001b[0mo\u001b[0m\u001b[1;33m]\u001b[0m\u001b[1;33m[\u001b[0m\u001b[1;36m0\u001b[0m\u001b[1;33m]\u001b[0m \u001b[1;33m=\u001b[0m \u001b[1;32mTrue\u001b[0m\u001b[1;33m\u001b[0m\u001b[1;33m\u001b[0m\u001b[0m\n",
      "\u001b[1;32mC:\\anaconda3\\envs\\gempyuff\\lib\\site-packages\\theano\\scan_module\\scan_op.py\u001b[0m in \u001b[0;36mp\u001b[1;34m(node, args, outs)\u001b[0m\n\u001b[0;32m    950\u001b[0m                                                 \u001b[0margs\u001b[0m\u001b[1;33m,\u001b[0m\u001b[1;33m\u001b[0m\u001b[1;33m\u001b[0m\u001b[0m\n\u001b[0;32m    951\u001b[0m                                                 \u001b[0mouts\u001b[0m\u001b[1;33m,\u001b[0m\u001b[1;33m\u001b[0m\u001b[1;33m\u001b[0m\u001b[0m\n\u001b[1;32m--> 952\u001b[1;33m                                                 self, node)\n\u001b[0m\u001b[0;32m    953\u001b[0m         \u001b[1;32mexcept\u001b[0m \u001b[1;33m(\u001b[0m\u001b[0mImportError\u001b[0m\u001b[1;33m,\u001b[0m \u001b[0mtheano\u001b[0m\u001b[1;33m.\u001b[0m\u001b[0mgof\u001b[0m\u001b[1;33m.\u001b[0m\u001b[0mcmodule\u001b[0m\u001b[1;33m.\u001b[0m\u001b[0mMissingGXX\u001b[0m\u001b[1;33m)\u001b[0m\u001b[1;33m:\u001b[0m\u001b[1;33m\u001b[0m\u001b[1;33m\u001b[0m\u001b[0m\n\u001b[0;32m    954\u001b[0m             \u001b[0mp\u001b[0m \u001b[1;33m=\u001b[0m \u001b[0mself\u001b[0m\u001b[1;33m.\u001b[0m\u001b[0mexecute\u001b[0m\u001b[1;33m\u001b[0m\u001b[1;33m\u001b[0m\u001b[0m\n",
      "\u001b[1;32mscan_perform.pyx\u001b[0m in \u001b[0;36mtheano.scan_module.scan_perform.perform\u001b[1;34m()\u001b[0m\n",
      "\u001b[1;32mC:\\anaconda3\\envs\\gempyuff\\lib\\site-packages\\theano\\gof\\op.py\u001b[0m in \u001b[0;36mrval\u001b[1;34m(p, i, o, n)\u001b[0m\n\u001b[0;32m    890\u001b[0m             \u001b[1;31m# default arguments are stored in the closure of `rval`\u001b[0m\u001b[1;33m\u001b[0m\u001b[1;33m\u001b[0m\u001b[1;33m\u001b[0m\u001b[0m\n\u001b[0;32m    891\u001b[0m             \u001b[1;32mdef\u001b[0m \u001b[0mrval\u001b[0m\u001b[1;33m(\u001b[0m\u001b[0mp\u001b[0m\u001b[1;33m=\u001b[0m\u001b[0mp\u001b[0m\u001b[1;33m,\u001b[0m \u001b[0mi\u001b[0m\u001b[1;33m=\u001b[0m\u001b[0mnode_input_storage\u001b[0m\u001b[1;33m,\u001b[0m \u001b[0mo\u001b[0m\u001b[1;33m=\u001b[0m\u001b[0mnode_output_storage\u001b[0m\u001b[1;33m,\u001b[0m \u001b[0mn\u001b[0m\u001b[1;33m=\u001b[0m\u001b[0mnode\u001b[0m\u001b[1;33m)\u001b[0m\u001b[1;33m:\u001b[0m\u001b[1;33m\u001b[0m\u001b[1;33m\u001b[0m\u001b[0m\n\u001b[1;32m--> 892\u001b[1;33m                 \u001b[0mr\u001b[0m \u001b[1;33m=\u001b[0m \u001b[0mp\u001b[0m\u001b[1;33m(\u001b[0m\u001b[0mn\u001b[0m\u001b[1;33m,\u001b[0m \u001b[1;33m[\u001b[0m\u001b[0mx\u001b[0m\u001b[1;33m[\u001b[0m\u001b[1;36m0\u001b[0m\u001b[1;33m]\u001b[0m \u001b[1;32mfor\u001b[0m \u001b[0mx\u001b[0m \u001b[1;32min\u001b[0m \u001b[0mi\u001b[0m\u001b[1;33m]\u001b[0m\u001b[1;33m,\u001b[0m \u001b[0mo\u001b[0m\u001b[1;33m)\u001b[0m\u001b[1;33m\u001b[0m\u001b[1;33m\u001b[0m\u001b[0m\n\u001b[0m\u001b[0;32m    893\u001b[0m                 \u001b[1;32mfor\u001b[0m \u001b[0mo\u001b[0m \u001b[1;32min\u001b[0m \u001b[0mnode\u001b[0m\u001b[1;33m.\u001b[0m\u001b[0moutputs\u001b[0m\u001b[1;33m:\u001b[0m\u001b[1;33m\u001b[0m\u001b[1;33m\u001b[0m\u001b[0m\n\u001b[0;32m    894\u001b[0m                     \u001b[0mcompute_map\u001b[0m\u001b[1;33m[\u001b[0m\u001b[0mo\u001b[0m\u001b[1;33m]\u001b[0m\u001b[1;33m[\u001b[0m\u001b[1;36m0\u001b[0m\u001b[1;33m]\u001b[0m \u001b[1;33m=\u001b[0m \u001b[1;32mTrue\u001b[0m\u001b[1;33m\u001b[0m\u001b[1;33m\u001b[0m\u001b[0m\n",
      "\u001b[1;32mC:\\anaconda3\\envs\\gempyuff\\lib\\site-packages\\theano\\tensor\\blas.py\u001b[0m in \u001b[0;36mperform\u001b[1;34m(self, node, inp, out)\u001b[0m\n\u001b[0;32m   1550\u001b[0m         \u001b[0mz\u001b[0m\u001b[1;33m,\u001b[0m \u001b[1;33m=\u001b[0m \u001b[0mout\u001b[0m\u001b[1;33m\u001b[0m\u001b[1;33m\u001b[0m\u001b[0m\n\u001b[0;32m   1551\u001b[0m         \u001b[1;32mtry\u001b[0m\u001b[1;33m:\u001b[0m\u001b[1;33m\u001b[0m\u001b[1;33m\u001b[0m\u001b[0m\n\u001b[1;32m-> 1552\u001b[1;33m             \u001b[0mz\u001b[0m\u001b[1;33m[\u001b[0m\u001b[1;36m0\u001b[0m\u001b[1;33m]\u001b[0m \u001b[1;33m=\u001b[0m \u001b[0mnp\u001b[0m\u001b[1;33m.\u001b[0m\u001b[0masarray\u001b[0m\u001b[1;33m(\u001b[0m\u001b[0mnp\u001b[0m\u001b[1;33m.\u001b[0m\u001b[0mdot\u001b[0m\u001b[1;33m(\u001b[0m\u001b[0mx\u001b[0m\u001b[1;33m,\u001b[0m \u001b[0my\u001b[0m\u001b[1;33m)\u001b[0m\u001b[1;33m)\u001b[0m\u001b[1;33m\u001b[0m\u001b[1;33m\u001b[0m\u001b[0m\n\u001b[0m\u001b[0;32m   1553\u001b[0m         \u001b[1;32mexcept\u001b[0m \u001b[0mValueError\u001b[0m \u001b[1;32mas\u001b[0m \u001b[0me\u001b[0m\u001b[1;33m:\u001b[0m\u001b[1;33m\u001b[0m\u001b[1;33m\u001b[0m\u001b[0m\n\u001b[0;32m   1554\u001b[0m             \u001b[1;31m# The error raised by numpy has no shape information, we mean to\u001b[0m\u001b[1;33m\u001b[0m\u001b[1;33m\u001b[0m\u001b[1;33m\u001b[0m\u001b[0m\n",
      "\u001b[1;32m<__array_function__ internals>\u001b[0m in \u001b[0;36mdot\u001b[1;34m(*args, **kwargs)\u001b[0m\n",
      "\u001b[1;31mKeyboardInterrupt\u001b[0m: "
     ]
    }
   ],
   "source": [
    "gp.compute_model(geo_model)"
   ]
  },
  {
   "cell_type": "code",
   "execution_count": null,
   "id": "4e7c6454",
   "metadata": {},
   "outputs": [],
   "source": [
    "gp.plot_2d(geo_model, cell_number=[25])"
   ]
  },
  {
   "cell_type": "code",
   "execution_count": null,
   "id": "6e0411e8",
   "metadata": {},
   "outputs": [],
   "source": [
    "gp.plot_2d(geo_model, cell_number=[25], series_n=-1, show_scalar=True)"
   ]
  },
  {
   "cell_type": "code",
   "execution_count": null,
   "id": "b949ed38",
   "metadata": {},
   "outputs": [],
   "source": [
    "gp.plot_2d(geo_model, cell_number=[12], direction=[\"y\"], show_data=True, show_topography=True)"
   ]
  },
  {
   "cell_type": "code",
   "execution_count": null,
   "id": "51789ed8",
   "metadata": {},
   "outputs": [],
   "source": [
    "gp.plot_3d(geo_model, show_topography=True)"
   ]
  },
  {
   "cell_type": "code",
   "execution_count": null,
   "id": "449dba9c",
   "metadata": {},
   "outputs": [],
   "source": [
    "gp.save_model(geo_model)"
   ]
  },
  {
   "cell_type": "code",
   "execution_count": null,
   "id": "fb368647",
   "metadata": {},
   "outputs": [],
   "source": []
  }
 ],
 "metadata": {
  "kernelspec": {
   "display_name": "Python 3 (ipykernel)",
   "language": "python",
   "name": "python3"
  },
  "language_info": {
   "codemirror_mode": {
    "name": "ipython",
    "version": 3
   },
   "file_extension": ".py",
   "mimetype": "text/x-python",
   "name": "python",
   "nbconvert_exporter": "python",
   "pygments_lexer": "ipython3",
   "version": "3.7.12"
  }
 },
 "nbformat": 4,
 "nbformat_minor": 5
}
