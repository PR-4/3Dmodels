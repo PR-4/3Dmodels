{
 "cells": [
  {
   "cell_type": "code",
   "execution_count": 1,
   "id": "9ff2fb9d",
   "metadata": {},
   "outputs": [
    {
     "name": "stdout",
     "output_type": "stream",
     "text": [
      "Not subsurface compatibility available\n"
     ]
    },
    {
     "name": "stderr",
     "output_type": "stream",
     "text": [
      "WARNING (theano.tensor.blas): Using NumPy C-API based implementation for BLAS functions.\n"
     ]
    }
   ],
   "source": [
    "import os\n",
    "import pandas as pd\n",
    "import numpy as np\n",
    "import gempy as gp\n",
    "\n",
    "import matplotlib\n",
    "matplotlib.rcParams['figure.figsize'] = (20.0, 10.0)\n",
    "os.environ[\"THEANO_FLAGS\"] = \"mode=FAST_RUN,device=cuda\""
   ]
  },
  {
   "cell_type": "code",
   "execution_count": 2,
   "id": "9d61ce29",
   "metadata": {},
   "outputs": [],
   "source": [
    "data_path = '../input/Teste1/'\n",
    "geo_model = gp.create_model('Santos_Sintetico')"
   ]
  },
  {
   "cell_type": "code",
   "execution_count": 3,
   "id": "0b8f0fb9",
   "metadata": {},
   "outputs": [
    {
     "name": "stdout",
     "output_type": "stream",
     "text": [
      "Active grids: ['regular']\n"
     ]
    },
    {
     "data": {
      "text/plain": [
       "Santos_Sintetico  2023-03-10 11:01"
      ]
     },
     "execution_count": 3,
     "metadata": {},
     "output_type": "execute_result"
    }
   ],
   "source": [
    "gp.init_data(geo_model,\n",
    "             extent=[690000, 750000, 300000, 340000, 950, 5500],\n",
    "             resolution=[100, 100, 100],\n",
    "             path_i=data_path + \"Surface_Santos.csv\",\n",
    "             path_o=data_path + \"Orientations_Santos.csv\")"
   ]
  },
  {
   "cell_type": "code",
   "execution_count": 4,
   "id": "378bd37b",
   "metadata": {},
   "outputs": [
    {
     "data": {
      "text/html": [
       "<style type=\"text/css\">\n",
       "#T_dc0d4_row0_col3 {\n",
       "  background-color: #015482;\n",
       "}\n",
       "#T_dc0d4_row1_col3 {\n",
       "  background-color: #9f0052;\n",
       "}\n",
       "#T_dc0d4_row2_col3 {\n",
       "  background-color: #ffbe00;\n",
       "}\n",
       "#T_dc0d4_row3_col3 {\n",
       "  background-color: #728f02;\n",
       "}\n",
       "#T_dc0d4_row4_col3 {\n",
       "  background-color: #443988;\n",
       "}\n",
       "#T_dc0d4_row5_col3 {\n",
       "  background-color: #ff3f20;\n",
       "}\n",
       "#T_dc0d4_row6_col3 {\n",
       "  background-color: #5DA629;\n",
       "}\n",
       "</style>\n",
       "<table id=\"T_dc0d4_\">\n",
       "  <thead>\n",
       "    <tr>\n",
       "      <th class=\"blank level0\" >&nbsp;</th>\n",
       "      <th class=\"col_heading level0 col0\" >surface</th>\n",
       "      <th class=\"col_heading level0 col1\" >series</th>\n",
       "      <th class=\"col_heading level0 col2\" >order_surfaces</th>\n",
       "      <th class=\"col_heading level0 col3\" >color</th>\n",
       "      <th class=\"col_heading level0 col4\" >id</th>\n",
       "    </tr>\n",
       "  </thead>\n",
       "  <tbody>\n",
       "    <tr>\n",
       "      <th id=\"T_dc0d4_level0_row0\" class=\"row_heading level0 row0\" >0</th>\n",
       "      <td id=\"T_dc0d4_row0_col0\" class=\"data row0 col0\" >FM_IGUAPE</td>\n",
       "      <td id=\"T_dc0d4_row0_col1\" class=\"data row0 col1\" >Default series</td>\n",
       "      <td id=\"T_dc0d4_row0_col2\" class=\"data row0 col2\" >1</td>\n",
       "      <td id=\"T_dc0d4_row0_col3\" class=\"data row0 col3\" >#015482</td>\n",
       "      <td id=\"T_dc0d4_row0_col4\" class=\"data row0 col4\" >1</td>\n",
       "    </tr>\n",
       "    <tr>\n",
       "      <th id=\"T_dc0d4_level0_row1\" class=\"row_heading level0 row1\" >1</th>\n",
       "      <td id=\"T_dc0d4_row1_col0\" class=\"data row1 col0\" >FM_MARAMBAIA</td>\n",
       "      <td id=\"T_dc0d4_row1_col1\" class=\"data row1 col1\" >Default series</td>\n",
       "      <td id=\"T_dc0d4_row1_col2\" class=\"data row1 col2\" >2</td>\n",
       "      <td id=\"T_dc0d4_row1_col3\" class=\"data row1 col3\" >#9f0052</td>\n",
       "      <td id=\"T_dc0d4_row1_col4\" class=\"data row1 col4\" >2</td>\n",
       "    </tr>\n",
       "    <tr>\n",
       "      <th id=\"T_dc0d4_level0_row2\" class=\"row_heading level0 row2\" >2</th>\n",
       "      <td id=\"T_dc0d4_row2_col0\" class=\"data row2 col0\" >FM_JUREIA</td>\n",
       "      <td id=\"T_dc0d4_row2_col1\" class=\"data row2 col1\" >Default series</td>\n",
       "      <td id=\"T_dc0d4_row2_col2\" class=\"data row2 col2\" >3</td>\n",
       "      <td id=\"T_dc0d4_row2_col3\" class=\"data row2 col3\" >#ffbe00</td>\n",
       "      <td id=\"T_dc0d4_row2_col4\" class=\"data row2 col4\" >3</td>\n",
       "    </tr>\n",
       "    <tr>\n",
       "      <th id=\"T_dc0d4_level0_row3\" class=\"row_heading level0 row3\" >3</th>\n",
       "      <td id=\"T_dc0d4_row3_col0\" class=\"data row3 col0\" >FM_ITAJAI_ACU</td>\n",
       "      <td id=\"T_dc0d4_row3_col1\" class=\"data row3 col1\" >Default series</td>\n",
       "      <td id=\"T_dc0d4_row3_col2\" class=\"data row3 col2\" >4</td>\n",
       "      <td id=\"T_dc0d4_row3_col3\" class=\"data row3 col3\" >#728f02</td>\n",
       "      <td id=\"T_dc0d4_row3_col4\" class=\"data row3 col4\" >4</td>\n",
       "    </tr>\n",
       "    <tr>\n",
       "      <th id=\"T_dc0d4_level0_row4\" class=\"row_heading level0 row4\" >4</th>\n",
       "      <td id=\"T_dc0d4_row4_col0\" class=\"data row4 col0\" >FM_ITANHAEM</td>\n",
       "      <td id=\"T_dc0d4_row4_col1\" class=\"data row4 col1\" >Default series</td>\n",
       "      <td id=\"T_dc0d4_row4_col2\" class=\"data row4 col2\" >5</td>\n",
       "      <td id=\"T_dc0d4_row4_col3\" class=\"data row4 col3\" >#443988</td>\n",
       "      <td id=\"T_dc0d4_row4_col4\" class=\"data row4 col4\" >5</td>\n",
       "    </tr>\n",
       "    <tr>\n",
       "      <th id=\"T_dc0d4_level0_row5\" class=\"row_heading level0 row5\" >5</th>\n",
       "      <td id=\"T_dc0d4_row5_col0\" class=\"data row5 col0\" >FM_GUARUJA</td>\n",
       "      <td id=\"T_dc0d4_row5_col1\" class=\"data row5 col1\" >Default series</td>\n",
       "      <td id=\"T_dc0d4_row5_col2\" class=\"data row5 col2\" >6</td>\n",
       "      <td id=\"T_dc0d4_row5_col3\" class=\"data row5 col3\" >#ff3f20</td>\n",
       "      <td id=\"T_dc0d4_row5_col4\" class=\"data row5 col4\" >6</td>\n",
       "    </tr>\n",
       "    <tr>\n",
       "      <th id=\"T_dc0d4_level0_row6\" class=\"row_heading level0 row6\" >6</th>\n",
       "      <td id=\"T_dc0d4_row6_col0\" class=\"data row6 col0\" >basement</td>\n",
       "      <td id=\"T_dc0d4_row6_col1\" class=\"data row6 col1\" >Basement</td>\n",
       "      <td id=\"T_dc0d4_row6_col2\" class=\"data row6 col2\" >1</td>\n",
       "      <td id=\"T_dc0d4_row6_col3\" class=\"data row6 col3\" >#5DA629</td>\n",
       "      <td id=\"T_dc0d4_row6_col4\" class=\"data row6 col4\" >7</td>\n",
       "    </tr>\n",
       "  </tbody>\n",
       "</table>\n"
      ],
      "text/plain": [
       "         surface          series  order_surfaces    color  id\n",
       "0      FM_IGUAPE  Default series               1  #015482   1\n",
       "1   FM_MARAMBAIA  Default series               2  #9f0052   2\n",
       "2      FM_JUREIA  Default series               3  #ffbe00   3\n",
       "3  FM_ITAJAI_ACU  Default series               4  #728f02   4\n",
       "4    FM_ITANHAEM  Default series               5  #443988   5\n",
       "5     FM_GUARUJA  Default series               6  #ff3f20   6\n",
       "6       basement        Basement               1  #5DA629   7"
      ]
     },
     "execution_count": 4,
     "metadata": {},
     "output_type": "execute_result"
    }
   ],
   "source": [
    "geo_model.surfaces"
   ]
  },
  {
   "cell_type": "code",
   "execution_count": null,
   "id": "8ad37e7f",
   "metadata": {},
   "outputs": [],
   "source": [
    "## del_surfaces = ['Cadda', 'Woodada_Kockatea', 'Cattamarra'] - serve para selecionar as series que quer deletar"
   ]
  },
  {
   "cell_type": "code",
   "execution_count": null,
   "id": "c9965f7d",
   "metadata": {},
   "outputs": [],
   "source": [
    "## geo_model.delete_surfaces(del_surfaces, remove_data=True) - serve para deletar a serie selecionada"
   ]
  },
  {
   "cell_type": "code",
   "execution_count": 5,
   "id": "6ee3b064",
   "metadata": {},
   "outputs": [
    {
     "data": {
      "text/html": [
       "<table border=\"1\" class=\"dataframe\">\n",
       "  <thead>\n",
       "    <tr style=\"text-align: right;\">\n",
       "      <th></th>\n",
       "      <th>order_series</th>\n",
       "      <th>BottomRelation</th>\n",
       "      <th>isActive</th>\n",
       "      <th>isFault</th>\n",
       "      <th>isFinite</th>\n",
       "    </tr>\n",
       "  </thead>\n",
       "  <tbody>\n",
       "    <tr>\n",
       "      <th>Default series</th>\n",
       "      <td>1</td>\n",
       "      <td>Erosion</td>\n",
       "      <td>True</td>\n",
       "      <td>False</td>\n",
       "      <td>False</td>\n",
       "    </tr>\n",
       "    <tr>\n",
       "      <th>Basement</th>\n",
       "      <td>2</td>\n",
       "      <td>Erosion</td>\n",
       "      <td>False</td>\n",
       "      <td>False</td>\n",
       "      <td>False</td>\n",
       "    </tr>\n",
       "  </tbody>\n",
       "</table>"
      ],
      "text/plain": [
       "                order_series BottomRelation  isActive  isFault  isFinite\n",
       "Default series             1        Erosion      True    False     False\n",
       "Basement                   2        Erosion     False    False     False"
      ]
     },
     "execution_count": 5,
     "metadata": {},
     "output_type": "execute_result"
    }
   ],
   "source": [
    "geo_model.stack"
   ]
  },
  {
   "cell_type": "code",
   "execution_count": 6,
   "id": "39f50f5f",
   "metadata": {},
   "outputs": [
    {
     "data": {
      "text/html": [
       "<style type=\"text/css\">\n",
       "#T_cad42_row0_col3 {\n",
       "  background-color: #015482;\n",
       "}\n",
       "#T_cad42_row1_col3 {\n",
       "  background-color: #9f0052;\n",
       "}\n",
       "#T_cad42_row2_col3 {\n",
       "  background-color: #ffbe00;\n",
       "}\n",
       "#T_cad42_row3_col3 {\n",
       "  background-color: #728f02;\n",
       "}\n",
       "#T_cad42_row4_col3 {\n",
       "  background-color: #443988;\n",
       "}\n",
       "#T_cad42_row5_col3 {\n",
       "  background-color: #ff3f20;\n",
       "}\n",
       "#T_cad42_row6_col3 {\n",
       "  background-color: #5DA629;\n",
       "}\n",
       "</style>\n",
       "<table id=\"T_cad42_\">\n",
       "  <thead>\n",
       "    <tr>\n",
       "      <th class=\"blank level0\" >&nbsp;</th>\n",
       "      <th class=\"col_heading level0 col0\" >surface</th>\n",
       "      <th class=\"col_heading level0 col1\" >series</th>\n",
       "      <th class=\"col_heading level0 col2\" >order_surfaces</th>\n",
       "      <th class=\"col_heading level0 col3\" >color</th>\n",
       "      <th class=\"col_heading level0 col4\" >id</th>\n",
       "    </tr>\n",
       "  </thead>\n",
       "  <tbody>\n",
       "    <tr>\n",
       "      <th id=\"T_cad42_level0_row0\" class=\"row_heading level0 row0\" >0</th>\n",
       "      <td id=\"T_cad42_row0_col0\" class=\"data row0 col0\" >FM_IGUAPE</td>\n",
       "      <td id=\"T_cad42_row0_col1\" class=\"data row0 col1\" >Sedimentary_Series</td>\n",
       "      <td id=\"T_cad42_row0_col2\" class=\"data row0 col2\" >1</td>\n",
       "      <td id=\"T_cad42_row0_col3\" class=\"data row0 col3\" >#015482</td>\n",
       "      <td id=\"T_cad42_row0_col4\" class=\"data row0 col4\" >1</td>\n",
       "    </tr>\n",
       "    <tr>\n",
       "      <th id=\"T_cad42_level0_row1\" class=\"row_heading level0 row1\" >1</th>\n",
       "      <td id=\"T_cad42_row1_col0\" class=\"data row1 col0\" >FM_MARAMBAIA</td>\n",
       "      <td id=\"T_cad42_row1_col1\" class=\"data row1 col1\" >Sedimentary_Series</td>\n",
       "      <td id=\"T_cad42_row1_col2\" class=\"data row1 col2\" >2</td>\n",
       "      <td id=\"T_cad42_row1_col3\" class=\"data row1 col3\" >#9f0052</td>\n",
       "      <td id=\"T_cad42_row1_col4\" class=\"data row1 col4\" >2</td>\n",
       "    </tr>\n",
       "    <tr>\n",
       "      <th id=\"T_cad42_level0_row2\" class=\"row_heading level0 row2\" >2</th>\n",
       "      <td id=\"T_cad42_row2_col0\" class=\"data row2 col0\" >FM_JUREIA</td>\n",
       "      <td id=\"T_cad42_row2_col1\" class=\"data row2 col1\" >Sedimentary_Series</td>\n",
       "      <td id=\"T_cad42_row2_col2\" class=\"data row2 col2\" >3</td>\n",
       "      <td id=\"T_cad42_row2_col3\" class=\"data row2 col3\" >#ffbe00</td>\n",
       "      <td id=\"T_cad42_row2_col4\" class=\"data row2 col4\" >3</td>\n",
       "    </tr>\n",
       "    <tr>\n",
       "      <th id=\"T_cad42_level0_row3\" class=\"row_heading level0 row3\" >3</th>\n",
       "      <td id=\"T_cad42_row3_col0\" class=\"data row3 col0\" >FM_ITAJAI_ACU</td>\n",
       "      <td id=\"T_cad42_row3_col1\" class=\"data row3 col1\" >Sedimentary_Series</td>\n",
       "      <td id=\"T_cad42_row3_col2\" class=\"data row3 col2\" >4</td>\n",
       "      <td id=\"T_cad42_row3_col3\" class=\"data row3 col3\" >#728f02</td>\n",
       "      <td id=\"T_cad42_row3_col4\" class=\"data row3 col4\" >4</td>\n",
       "    </tr>\n",
       "    <tr>\n",
       "      <th id=\"T_cad42_level0_row4\" class=\"row_heading level0 row4\" >4</th>\n",
       "      <td id=\"T_cad42_row4_col0\" class=\"data row4 col0\" >FM_ITANHAEM</td>\n",
       "      <td id=\"T_cad42_row4_col1\" class=\"data row4 col1\" >Sedimentary_Series</td>\n",
       "      <td id=\"T_cad42_row4_col2\" class=\"data row4 col2\" >5</td>\n",
       "      <td id=\"T_cad42_row4_col3\" class=\"data row4 col3\" >#443988</td>\n",
       "      <td id=\"T_cad42_row4_col4\" class=\"data row4 col4\" >5</td>\n",
       "    </tr>\n",
       "    <tr>\n",
       "      <th id=\"T_cad42_level0_row5\" class=\"row_heading level0 row5\" >5</th>\n",
       "      <td id=\"T_cad42_row5_col0\" class=\"data row5 col0\" >FM_GUARUJA</td>\n",
       "      <td id=\"T_cad42_row5_col1\" class=\"data row5 col1\" >Sedimentary_Series</td>\n",
       "      <td id=\"T_cad42_row5_col2\" class=\"data row5 col2\" >6</td>\n",
       "      <td id=\"T_cad42_row5_col3\" class=\"data row5 col3\" >#ff3f20</td>\n",
       "      <td id=\"T_cad42_row5_col4\" class=\"data row5 col4\" >6</td>\n",
       "    </tr>\n",
       "    <tr>\n",
       "      <th id=\"T_cad42_level0_row6\" class=\"row_heading level0 row6\" >6</th>\n",
       "      <td id=\"T_cad42_row6_col0\" class=\"data row6 col0\" >basement</td>\n",
       "      <td id=\"T_cad42_row6_col1\" class=\"data row6 col1\" >Basement</td>\n",
       "      <td id=\"T_cad42_row6_col2\" class=\"data row6 col2\" >1</td>\n",
       "      <td id=\"T_cad42_row6_col3\" class=\"data row6 col3\" >#5DA629</td>\n",
       "      <td id=\"T_cad42_row6_col4\" class=\"data row6 col4\" >7</td>\n",
       "    </tr>\n",
       "  </tbody>\n",
       "</table>\n"
      ],
      "text/plain": [
       "         surface              series  order_surfaces    color  id\n",
       "0      FM_IGUAPE  Sedimentary_Series               1  #015482   1\n",
       "1   FM_MARAMBAIA  Sedimentary_Series               2  #9f0052   2\n",
       "2      FM_JUREIA  Sedimentary_Series               3  #ffbe00   3\n",
       "3  FM_ITAJAI_ACU  Sedimentary_Series               4  #728f02   4\n",
       "4    FM_ITANHAEM  Sedimentary_Series               5  #443988   5\n",
       "5     FM_GUARUJA  Sedimentary_Series               6  #ff3f20   6\n",
       "6       basement            Basement               1  #5DA629   7"
      ]
     },
     "execution_count": 6,
     "metadata": {},
     "output_type": "execute_result"
    }
   ],
   "source": [
    "gp.map_stack_to_surfaces(geo_model,\n",
    "                        {\"Sedimentary_Series\": ['FM_IGUAPE', 'FM_MARAMBAIA', 'FM_JUREIA', 'FM_ITAJAI_ACU', 'FM_ITANHAEM', 'FM_GUARUJA']})"
   ]
  },
  {
   "cell_type": "code",
   "execution_count": 7,
   "id": "38f96558",
   "metadata": {},
   "outputs": [
    {
     "data": {
      "text/html": [
       "<table border=\"1\" class=\"dataframe\">\n",
       "  <thead>\n",
       "    <tr style=\"text-align: right;\">\n",
       "      <th></th>\n",
       "      <th>order_series</th>\n",
       "      <th>BottomRelation</th>\n",
       "      <th>isActive</th>\n",
       "      <th>isFault</th>\n",
       "      <th>isFinite</th>\n",
       "    </tr>\n",
       "  </thead>\n",
       "  <tbody>\n",
       "    <tr>\n",
       "      <th>Sedimentary_Series</th>\n",
       "      <td>1</td>\n",
       "      <td>Erosion</td>\n",
       "      <td>True</td>\n",
       "      <td>False</td>\n",
       "      <td>False</td>\n",
       "    </tr>\n",
       "    <tr>\n",
       "      <th>Basement</th>\n",
       "      <td>2</td>\n",
       "      <td>Erosion</td>\n",
       "      <td>False</td>\n",
       "      <td>False</td>\n",
       "      <td>False</td>\n",
       "    </tr>\n",
       "  </tbody>\n",
       "</table>"
      ],
      "text/plain": [
       "                    order_series BottomRelation  isActive  isFault  isFinite\n",
       "Sedimentary_Series             1        Erosion      True    False     False\n",
       "Basement                       2        Erosion     False    False     False"
      ]
     },
     "execution_count": 7,
     "metadata": {},
     "output_type": "execute_result"
    }
   ],
   "source": [
    "geo_model.series"
   ]
  },
  {
   "cell_type": "code",
   "execution_count": null,
   "id": "fa91b0af",
   "metadata": {},
   "outputs": [],
   "source": [
    "##geo_model.surface_points.df.dropna(inplace=True)\n",
    "##geo_model.orientations.df.dropna(inplace=True)"
   ]
  },
  {
   "cell_type": "code",
   "execution_count": null,
   "id": "21d66642",
   "metadata": {},
   "outputs": [],
   "source": [
    "## geo_model.faults "
   ]
  },
  {
   "cell_type": "code",
   "execution_count": null,
   "id": "955aefb0",
   "metadata": {},
   "outputs": [],
   "source": [
    "## geo_model.set_is_fault([\"fault_Abrolhos_Transfer\",\n",
    "                       ##\"fault_Coomallo\",\n",
    "                       ##\"fault_Eneabba_South\",\n",
    "                      ## \"fault_Hypo_fault_W\",\n",
    "                      ## \"fault_Hypo_fault_E\",\n",
    "                      ## \"fault_Urella_North\",\n",
    "                       ##\"fault_Darling\",\n",
    "                       ##\"fault_Urella_South\"])"
   ]
  },
  {
   "cell_type": "code",
   "execution_count": null,
   "id": "1d68720f",
   "metadata": {},
   "outputs": [],
   "source": [
    "##geo_model.faults.faults_relations_df"
   ]
  },
  {
   "cell_type": "code",
   "execution_count": null,
   "id": "b3117db0",
   "metadata": {},
   "outputs": [],
   "source": [
    "##fr = geo_model.faults.faults_relations_df.values"
   ]
  },
  {
   "cell_type": "code",
   "execution_count": null,
   "id": "6ec66594",
   "metadata": {},
   "outputs": [],
   "source": [
    "##fr[:, :-2] = False\n",
    "##fr"
   ]
  },
  {
   "cell_type": "code",
   "execution_count": null,
   "id": "7cd790f9",
   "metadata": {},
   "outputs": [],
   "source": [
    "##geo_model.set_fault_relation(fr)"
   ]
  },
  {
   "cell_type": "code",
   "execution_count": 8,
   "id": "9c08616c",
   "metadata": {},
   "outputs": [
    {
     "name": "stderr",
     "output_type": "stream",
     "text": [
      "C:\\Users\\BernardoPR4\\anaconda3\\envs\\gempy\\lib\\site-packages\\gempy\\plot\\plot_api.py:261: UserWarning: Matplotlib is currently using module://matplotlib_inline.backend_inline, which is a non-GUI backend, so cannot show the figure.\n",
      "  p.fig.show()\n"
     ]
    },
    {
     "data": {
      "text/plain": [
       "<gempy.plot.visualization_2d.Plot2D at 0x1d01a15ea88>"
      ]
     },
     "execution_count": 8,
     "metadata": {},
     "output_type": "execute_result"
    },
    {
     "data": {
      "image/png": "[encoded data removed]",
      "text/plain": [
       "<Figure size 2000x1000 with 1 Axes>"
      ]
     },
     "metadata": {},
     "output_type": "display_data"
    }
   ],
   "source": [
    "gp.plot_2d(geo_model, direction=['y'])"
   ]
  },
  {
   "cell_type": "code",
   "execution_count": null,
   "id": "6312f5dc",
   "metadata": {},
   "outputs": [],
   "source": [
    "geo_model.set_topography(source='random')"
   ]
  },
  {
   "cell_type": "code",
   "execution_count": 9,
   "id": "a0882116",
   "metadata": {},
   "outputs": [
    {
     "data": {
      "text/plain": [
       "<gempy.plot.vista.GemPyToVista at 0x1d01d1825c8>"
      ]
     },
     "execution_count": 9,
     "metadata": {},
     "output_type": "execute_result"
    }
   ],
   "source": [
    "gp.plot_3d(geo_model)"
   ]
  },
  {
   "cell_type": "code",
   "execution_count": null,
   "id": "d7a2cec0",
   "metadata": {},
   "outputs": [],
   "source": [
    "interp_data = gp.set_interpolator(geo_model,\n",
    "                                 compile_theano=True,\n",
    "                                 theano_optimizer='fast_run', gradient=False,\n",
    "                                 dtype='float32')"
   ]
  },
  {
   "cell_type": "code",
   "execution_count": null,
   "id": "78abe871",
   "metadata": {},
   "outputs": [],
   "source": [
    "gp.compute_model(geo_model)"
   ]
  },
  {
   "cell_type": "code",
   "execution_count": null,
   "id": "4e7c6454",
   "metadata": {},
   "outputs": [],
   "source": [
    "gp.plot_2d(geo_model, cell_number=[25])"
   ]
  },
  {
   "cell_type": "code",
   "execution_count": null,
   "id": "6e0411e8",
   "metadata": {},
   "outputs": [],
   "source": [
    "gp.plot_2d(geo_model, cell_number=[25], series_n=-1, show_scalar=True)"
   ]
  },
  {
   "cell_type": "code",
   "execution_count": null,
   "id": "b949ed38",
   "metadata": {},
   "outputs": [],
   "source": [
    "gp.plot_2d(geo_model, cell_number=[12], direction=[\"y\"], show_data=True, show_topography=True)"
   ]
  },
  {
   "cell_type": "code",
   "execution_count": null,
   "id": "51789ed8",
   "metadata": {},
   "outputs": [],
   "source": [
    "gp.plot_3d(geo_model, show_topography=True)"
   ]
  },
  {
   "cell_type": "code",
   "execution_count": null,
   "id": "449dba9c",
   "metadata": {},
   "outputs": [],
   "source": [
    "gp.save_model(geo_model)"
   ]
  },
  {
   "cell_type": "code",
   "execution_count": null,
   "id": "fb368647",
   "metadata": {},
   "outputs": [],
   "source": []
  }
 ],
 "metadata": {
  "kernelspec": {
   "display_name": "Python 3 (ipykernel)",
   "language": "python",
   "name": "python3"
  },
  "language_info": {
   "codemirror_mode": {
    "name": "ipython",
    "version": 3
   },
   "file_extension": ".py",
   "mimetype": "text/x-python",
   "name": "python",
   "nbconvert_exporter": "python",
   "pygments_lexer": "ipython3",
   "version": "3.7.12"
  }
 },
 "nbformat": 4,
 "nbformat_minor": 5
}
