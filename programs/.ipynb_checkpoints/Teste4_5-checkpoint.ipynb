{
 "cells": [
  {
   "cell_type": "code",
   "execution_count": 1,
   "id": "fd5f23e0",
   "metadata": {},
   "outputs": [
    {
     "name": "stdout",
     "output_type": "stream",
     "text": [
      "Not subsurface compatibility available\n"
     ]
    },
    {
     "name": "stderr",
     "output_type": "stream",
     "text": [
      "WARNING (theano.tensor.blas): Using NumPy C-API based implementation for BLAS functions.\n"
     ]
    }
   ],
   "source": [
    "import gempy as gp\n",
    "import numpy as np\n",
    "import pandas as pd\n",
    "import matplotlib.pyplot as plt\n",
    "import os"
   ]
  },
  {
   "cell_type": "code",
   "execution_count": 2,
   "id": "5f7df429",
   "metadata": {},
   "outputs": [],
   "source": [
    "data_path = '../input/Teste4/'\n",
    "geo_model = gp.create_model('SyntheitcBasinTeste4')"
   ]
  },
  {
   "cell_type": "code",
   "execution_count": 3,
   "id": "afef4ea7",
   "metadata": {},
   "outputs": [
    {
     "name": "stdout",
     "output_type": "stream",
     "text": [
      "Active grids: ['regular']\n"
     ]
    },
    {
     "data": {
      "text/plain": [
       "SyntheitcBasinTeste4  2023-03-03 15:01"
      ]
     },
     "execution_count": 3,
     "metadata": {},
     "output_type": "execute_result"
    }
   ],
   "source": [
    "gp.init_data(geo_model,\n",
    "             extent=[0, 100, 0, 150, -10, 15],\n",
    "             resolution=[50, 50, 50],\n",
    "             path_i=data_path + \"surface_points.csv\",\n",
    "             path_o=data_path + \"orientations_points.csv\")"
   ]
  },
  {
   "cell_type": "code",
   "execution_count": 4,
   "id": "9400665f",
   "metadata": {},
   "outputs": [
    {
     "data": {
      "text/html": [
       "<style type=\"text/css\">\n",
       "#T_b558f_row0_col3 {\n",
       "  background-color: #015482;\n",
       "}\n",
       "#T_b558f_row1_col3 {\n",
       "  background-color: #9f0052;\n",
       "}\n",
       "#T_b558f_row2_col3 {\n",
       "  background-color: #ffbe00;\n",
       "}\n",
       "#T_b558f_row3_col3 {\n",
       "  background-color: #728f02;\n",
       "}\n",
       "#T_b558f_row4_col3 {\n",
       "  background-color: #443988;\n",
       "}\n",
       "#T_b558f_row5_col3 {\n",
       "  background-color: #ff3f20;\n",
       "}\n",
       "#T_b558f_row6_col3 {\n",
       "  background-color: #5DA629;\n",
       "}\n",
       "#T_b558f_row7_col3 {\n",
       "  background-color: #4878d0;\n",
       "}\n",
       "</style>\n",
       "<table id=\"T_b558f_\">\n",
       "  <thead>\n",
       "    <tr>\n",
       "      <th class=\"blank level0\" >&nbsp;</th>\n",
       "      <th class=\"col_heading level0 col0\" >surface</th>\n",
       "      <th class=\"col_heading level0 col1\" >series</th>\n",
       "      <th class=\"col_heading level0 col2\" >order_surfaces</th>\n",
       "      <th class=\"col_heading level0 col3\" >color</th>\n",
       "      <th class=\"col_heading level0 col4\" >id</th>\n",
       "    </tr>\n",
       "  </thead>\n",
       "  <tbody>\n",
       "    <tr>\n",
       "      <th id=\"T_b558f_level0_row0\" class=\"row_heading level0 row0\" >0</th>\n",
       "      <td id=\"T_b558f_row0_col0\" class=\"data row0 col0\" >Formation1</td>\n",
       "      <td id=\"T_b558f_row0_col1\" class=\"data row0 col1\" >Default series</td>\n",
       "      <td id=\"T_b558f_row0_col2\" class=\"data row0 col2\" >1</td>\n",
       "      <td id=\"T_b558f_row0_col3\" class=\"data row0 col3\" >#015482</td>\n",
       "      <td id=\"T_b558f_row0_col4\" class=\"data row0 col4\" >1</td>\n",
       "    </tr>\n",
       "    <tr>\n",
       "      <th id=\"T_b558f_level0_row1\" class=\"row_heading level0 row1\" >1</th>\n",
       "      <td id=\"T_b558f_row1_col0\" class=\"data row1 col0\" >Formation2</td>\n",
       "      <td id=\"T_b558f_row1_col1\" class=\"data row1 col1\" >Default series</td>\n",
       "      <td id=\"T_b558f_row1_col2\" class=\"data row1 col2\" >2</td>\n",
       "      <td id=\"T_b558f_row1_col3\" class=\"data row1 col3\" >#9f0052</td>\n",
       "      <td id=\"T_b558f_row1_col4\" class=\"data row1 col4\" >2</td>\n",
       "    </tr>\n",
       "    <tr>\n",
       "      <th id=\"T_b558f_level0_row2\" class=\"row_heading level0 row2\" >2</th>\n",
       "      <td id=\"T_b558f_row2_col0\" class=\"data row2 col0\" >Formation3</td>\n",
       "      <td id=\"T_b558f_row2_col1\" class=\"data row2 col1\" >Default series</td>\n",
       "      <td id=\"T_b558f_row2_col2\" class=\"data row2 col2\" >3</td>\n",
       "      <td id=\"T_b558f_row2_col3\" class=\"data row2 col3\" >#ffbe00</td>\n",
       "      <td id=\"T_b558f_row2_col4\" class=\"data row2 col4\" >3</td>\n",
       "    </tr>\n",
       "    <tr>\n",
       "      <th id=\"T_b558f_level0_row3\" class=\"row_heading level0 row3\" >3</th>\n",
       "      <td id=\"T_b558f_row3_col0\" class=\"data row3 col0\" >Formation4</td>\n",
       "      <td id=\"T_b558f_row3_col1\" class=\"data row3 col1\" >Default series</td>\n",
       "      <td id=\"T_b558f_row3_col2\" class=\"data row3 col2\" >4</td>\n",
       "      <td id=\"T_b558f_row3_col3\" class=\"data row3 col3\" >#728f02</td>\n",
       "      <td id=\"T_b558f_row3_col4\" class=\"data row3 col4\" >4</td>\n",
       "    </tr>\n",
       "    <tr>\n",
       "      <th id=\"T_b558f_level0_row4\" class=\"row_heading level0 row4\" >4</th>\n",
       "      <td id=\"T_b558f_row4_col0\" class=\"data row4 col0\" >Formation5</td>\n",
       "      <td id=\"T_b558f_row4_col1\" class=\"data row4 col1\" >Default series</td>\n",
       "      <td id=\"T_b558f_row4_col2\" class=\"data row4 col2\" >5</td>\n",
       "      <td id=\"T_b558f_row4_col3\" class=\"data row4 col3\" >#443988</td>\n",
       "      <td id=\"T_b558f_row4_col4\" class=\"data row4 col4\" >5</td>\n",
       "    </tr>\n",
       "    <tr>\n",
       "      <th id=\"T_b558f_level0_row5\" class=\"row_heading level0 row5\" >5</th>\n",
       "      <td id=\"T_b558f_row5_col0\" class=\"data row5 col0\" >Formation6</td>\n",
       "      <td id=\"T_b558f_row5_col1\" class=\"data row5 col1\" >Default series</td>\n",
       "      <td id=\"T_b558f_row5_col2\" class=\"data row5 col2\" >6</td>\n",
       "      <td id=\"T_b558f_row5_col3\" class=\"data row5 col3\" >#ff3f20</td>\n",
       "      <td id=\"T_b558f_row5_col4\" class=\"data row5 col4\" >6</td>\n",
       "    </tr>\n",
       "    <tr>\n",
       "      <th id=\"T_b558f_level0_row6\" class=\"row_heading level0 row6\" >6</th>\n",
       "      <td id=\"T_b558f_row6_col0\" class=\"data row6 col0\" >Fault1</td>\n",
       "      <td id=\"T_b558f_row6_col1\" class=\"data row6 col1\" >Default series</td>\n",
       "      <td id=\"T_b558f_row6_col2\" class=\"data row6 col2\" >7</td>\n",
       "      <td id=\"T_b558f_row6_col3\" class=\"data row6 col3\" >#5DA629</td>\n",
       "      <td id=\"T_b558f_row6_col4\" class=\"data row6 col4\" >7</td>\n",
       "    </tr>\n",
       "    <tr>\n",
       "      <th id=\"T_b558f_level0_row7\" class=\"row_heading level0 row7\" >7</th>\n",
       "      <td id=\"T_b558f_row7_col0\" class=\"data row7 col0\" >basement</td>\n",
       "      <td id=\"T_b558f_row7_col1\" class=\"data row7 col1\" >Basement</td>\n",
       "      <td id=\"T_b558f_row7_col2\" class=\"data row7 col2\" >1</td>\n",
       "      <td id=\"T_b558f_row7_col3\" class=\"data row7 col3\" >#4878d0</td>\n",
       "      <td id=\"T_b558f_row7_col4\" class=\"data row7 col4\" >8</td>\n",
       "    </tr>\n",
       "  </tbody>\n",
       "</table>\n"
      ],
      "text/plain": [
       "      surface          series  order_surfaces    color  id\n",
       "0  Formation1  Default series               1  #015482   1\n",
       "1  Formation2  Default series               2  #9f0052   2\n",
       "2  Formation3  Default series               3  #ffbe00   3\n",
       "3  Formation4  Default series               4  #728f02   4\n",
       "4  Formation5  Default series               5  #443988   5\n",
       "5  Formation6  Default series               6  #ff3f20   6\n",
       "6      Fault1  Default series               7  #5DA629   7\n",
       "7    basement        Basement               1  #4878d0   8"
      ]
     },
     "execution_count": 4,
     "metadata": {},
     "output_type": "execute_result"
    }
   ],
   "source": [
    "geo_model.surfaces"
   ]
  },
  {
   "cell_type": "code",
   "execution_count": 5,
   "id": "1176f6de",
   "metadata": {},
   "outputs": [
    {
     "data": {
      "text/html": [
       "<style type=\"text/css\">\n",
       "#T_e3940_row0_col3 {\n",
       "  background-color: #5DA629;\n",
       "}\n",
       "#T_e3940_row1_col3 {\n",
       "  background-color: #015482;\n",
       "}\n",
       "#T_e3940_row2_col3 {\n",
       "  background-color: #9f0052;\n",
       "}\n",
       "#T_e3940_row3_col3 {\n",
       "  background-color: #ffbe00;\n",
       "}\n",
       "#T_e3940_row4_col3 {\n",
       "  background-color: #728f02;\n",
       "}\n",
       "#T_e3940_row5_col3 {\n",
       "  background-color: #443988;\n",
       "}\n",
       "#T_e3940_row6_col3 {\n",
       "  background-color: #ff3f20;\n",
       "}\n",
       "#T_e3940_row7_col3 {\n",
       "  background-color: #4878d0;\n",
       "}\n",
       "</style>\n",
       "<table id=\"T_e3940_\">\n",
       "  <thead>\n",
       "    <tr>\n",
       "      <th class=\"blank level0\" >&nbsp;</th>\n",
       "      <th class=\"col_heading level0 col0\" >surface</th>\n",
       "      <th class=\"col_heading level0 col1\" >series</th>\n",
       "      <th class=\"col_heading level0 col2\" >order_surfaces</th>\n",
       "      <th class=\"col_heading level0 col3\" >color</th>\n",
       "      <th class=\"col_heading level0 col4\" >id</th>\n",
       "    </tr>\n",
       "  </thead>\n",
       "  <tbody>\n",
       "    <tr>\n",
       "      <th id=\"T_e3940_level0_row0\" class=\"row_heading level0 row0\" >6</th>\n",
       "      <td id=\"T_e3940_row0_col0\" class=\"data row0 col0\" >Fault1</td>\n",
       "      <td id=\"T_e3940_row0_col1\" class=\"data row0 col1\" >Fault_Series</td>\n",
       "      <td id=\"T_e3940_row0_col2\" class=\"data row0 col2\" >1</td>\n",
       "      <td id=\"T_e3940_row0_col3\" class=\"data row0 col3\" >#5DA629</td>\n",
       "      <td id=\"T_e3940_row0_col4\" class=\"data row0 col4\" >1</td>\n",
       "    </tr>\n",
       "    <tr>\n",
       "      <th id=\"T_e3940_level0_row1\" class=\"row_heading level0 row1\" >0</th>\n",
       "      <td id=\"T_e3940_row1_col0\" class=\"data row1 col0\" >Formation1</td>\n",
       "      <td id=\"T_e3940_row1_col1\" class=\"data row1 col1\" >Strat_Series</td>\n",
       "      <td id=\"T_e3940_row1_col2\" class=\"data row1 col2\" >1</td>\n",
       "      <td id=\"T_e3940_row1_col3\" class=\"data row1 col3\" >#015482</td>\n",
       "      <td id=\"T_e3940_row1_col4\" class=\"data row1 col4\" >2</td>\n",
       "    </tr>\n",
       "    <tr>\n",
       "      <th id=\"T_e3940_level0_row2\" class=\"row_heading level0 row2\" >1</th>\n",
       "      <td id=\"T_e3940_row2_col0\" class=\"data row2 col0\" >Formation2</td>\n",
       "      <td id=\"T_e3940_row2_col1\" class=\"data row2 col1\" >Strat_Series</td>\n",
       "      <td id=\"T_e3940_row2_col2\" class=\"data row2 col2\" >2</td>\n",
       "      <td id=\"T_e3940_row2_col3\" class=\"data row2 col3\" >#9f0052</td>\n",
       "      <td id=\"T_e3940_row2_col4\" class=\"data row2 col4\" >3</td>\n",
       "    </tr>\n",
       "    <tr>\n",
       "      <th id=\"T_e3940_level0_row3\" class=\"row_heading level0 row3\" >2</th>\n",
       "      <td id=\"T_e3940_row3_col0\" class=\"data row3 col0\" >Formation3</td>\n",
       "      <td id=\"T_e3940_row3_col1\" class=\"data row3 col1\" >Strat_Series</td>\n",
       "      <td id=\"T_e3940_row3_col2\" class=\"data row3 col2\" >3</td>\n",
       "      <td id=\"T_e3940_row3_col3\" class=\"data row3 col3\" >#ffbe00</td>\n",
       "      <td id=\"T_e3940_row3_col4\" class=\"data row3 col4\" >4</td>\n",
       "    </tr>\n",
       "    <tr>\n",
       "      <th id=\"T_e3940_level0_row4\" class=\"row_heading level0 row4\" >3</th>\n",
       "      <td id=\"T_e3940_row4_col0\" class=\"data row4 col0\" >Formation4</td>\n",
       "      <td id=\"T_e3940_row4_col1\" class=\"data row4 col1\" >Strat_Series</td>\n",
       "      <td id=\"T_e3940_row4_col2\" class=\"data row4 col2\" >4</td>\n",
       "      <td id=\"T_e3940_row4_col3\" class=\"data row4 col3\" >#728f02</td>\n",
       "      <td id=\"T_e3940_row4_col4\" class=\"data row4 col4\" >5</td>\n",
       "    </tr>\n",
       "    <tr>\n",
       "      <th id=\"T_e3940_level0_row5\" class=\"row_heading level0 row5\" >4</th>\n",
       "      <td id=\"T_e3940_row5_col0\" class=\"data row5 col0\" >Formation5</td>\n",
       "      <td id=\"T_e3940_row5_col1\" class=\"data row5 col1\" >Strat_Series</td>\n",
       "      <td id=\"T_e3940_row5_col2\" class=\"data row5 col2\" >5</td>\n",
       "      <td id=\"T_e3940_row5_col3\" class=\"data row5 col3\" >#443988</td>\n",
       "      <td id=\"T_e3940_row5_col4\" class=\"data row5 col4\" >6</td>\n",
       "    </tr>\n",
       "    <tr>\n",
       "      <th id=\"T_e3940_level0_row6\" class=\"row_heading level0 row6\" >5</th>\n",
       "      <td id=\"T_e3940_row6_col0\" class=\"data row6 col0\" >Formation6</td>\n",
       "      <td id=\"T_e3940_row6_col1\" class=\"data row6 col1\" >Strat_Series</td>\n",
       "      <td id=\"T_e3940_row6_col2\" class=\"data row6 col2\" >6</td>\n",
       "      <td id=\"T_e3940_row6_col3\" class=\"data row6 col3\" >#ff3f20</td>\n",
       "      <td id=\"T_e3940_row6_col4\" class=\"data row6 col4\" >7</td>\n",
       "    </tr>\n",
       "    <tr>\n",
       "      <th id=\"T_e3940_level0_row7\" class=\"row_heading level0 row7\" >7</th>\n",
       "      <td id=\"T_e3940_row7_col0\" class=\"data row7 col0\" >basement</td>\n",
       "      <td id=\"T_e3940_row7_col1\" class=\"data row7 col1\" >Strat_Series</td>\n",
       "      <td id=\"T_e3940_row7_col2\" class=\"data row7 col2\" >7</td>\n",
       "      <td id=\"T_e3940_row7_col3\" class=\"data row7 col3\" >#4878d0</td>\n",
       "      <td id=\"T_e3940_row7_col4\" class=\"data row7 col4\" >8</td>\n",
       "    </tr>\n",
       "  </tbody>\n",
       "</table>\n"
      ],
      "text/plain": [
       "      surface        series  order_surfaces    color  id\n",
       "6      Fault1  Fault_Series               1  #5DA629   1\n",
       "0  Formation1  Strat_Series               1  #015482   2\n",
       "1  Formation2  Strat_Series               2  #9f0052   3\n",
       "2  Formation3  Strat_Series               3  #ffbe00   4\n",
       "3  Formation4  Strat_Series               4  #728f02   5\n",
       "4  Formation5  Strat_Series               5  #443988   6\n",
       "5  Formation6  Strat_Series               6  #ff3f20   7\n",
       "7    basement  Strat_Series               7  #4878d0   8"
      ]
     },
     "execution_count": 5,
     "metadata": {},
     "output_type": "execute_result"
    }
   ],
   "source": [
    "gp.map_stack_to_surfaces(geo_model,\n",
    "                         {\"Fault_Series\": 'Fault1',\n",
    "                          \"Strat_Series\": ('Formation1', 'Formation2',\n",
    "                                           'Formation3', 'Formation4', 'Formation5', 'Formation6', 'basement')},\n",
    "                         remove_unused_series=True)"
   ]
  },
  {
   "cell_type": "code",
   "execution_count": 6,
   "id": "d6762465",
   "metadata": {},
   "outputs": [
    {
     "data": {
      "text/html": [
       "<table border=\"1\" class=\"dataframe\">\n",
       "  <thead>\n",
       "    <tr style=\"text-align: right;\">\n",
       "      <th></th>\n",
       "      <th>order_series</th>\n",
       "      <th>BottomRelation</th>\n",
       "      <th>isActive</th>\n",
       "      <th>isFault</th>\n",
       "      <th>isFinite</th>\n",
       "    </tr>\n",
       "  </thead>\n",
       "  <tbody>\n",
       "    <tr>\n",
       "      <th>Fault_Series</th>\n",
       "      <td>1</td>\n",
       "      <td>Erosion</td>\n",
       "      <td>False</td>\n",
       "      <td>False</td>\n",
       "      <td>False</td>\n",
       "    </tr>\n",
       "    <tr>\n",
       "      <th>Strat_Series</th>\n",
       "      <td>2</td>\n",
       "      <td>Erosion</td>\n",
       "      <td>False</td>\n",
       "      <td>False</td>\n",
       "      <td>False</td>\n",
       "    </tr>\n",
       "  </tbody>\n",
       "</table>"
      ],
      "text/plain": [
       "              order_series BottomRelation  isActive  isFault  isFinite\n",
       "Fault_Series             1        Erosion     False    False     False\n",
       "Strat_Series             2        Erosion     False    False     False"
      ]
     },
     "execution_count": 6,
     "metadata": {},
     "output_type": "execute_result"
    }
   ],
   "source": [
    "geo_model.stack"
   ]
  },
  {
   "cell_type": "code",
   "execution_count": 7,
   "id": "e77edcd9",
   "metadata": {},
   "outputs": [
    {
     "name": "stdout",
     "output_type": "stream",
     "text": [
      "Fault colors changed. If you do not like this behavior, set change_color to False.\n"
     ]
    },
    {
     "data": {
      "text/html": [
       "<table border=\"1\" class=\"dataframe\">\n",
       "  <thead>\n",
       "    <tr style=\"text-align: right;\">\n",
       "      <th></th>\n",
       "      <th>order_series</th>\n",
       "      <th>BottomRelation</th>\n",
       "      <th>isActive</th>\n",
       "      <th>isFault</th>\n",
       "      <th>isFinite</th>\n",
       "    </tr>\n",
       "  </thead>\n",
       "  <tbody>\n",
       "    <tr>\n",
       "      <th>Fault_Series</th>\n",
       "      <td>1</td>\n",
       "      <td>Fault</td>\n",
       "      <td>False</td>\n",
       "      <td>True</td>\n",
       "      <td>False</td>\n",
       "    </tr>\n",
       "    <tr>\n",
       "      <th>Strat_Series</th>\n",
       "      <td>2</td>\n",
       "      <td>Erosion</td>\n",
       "      <td>False</td>\n",
       "      <td>False</td>\n",
       "      <td>False</td>\n",
       "    </tr>\n",
       "  </tbody>\n",
       "</table>"
      ],
      "text/plain": [
       "              order_series BottomRelation  isActive  isFault  isFinite\n",
       "Fault_Series             1          Fault     False     True     False\n",
       "Strat_Series             2        Erosion     False    False     False"
      ]
     },
     "execution_count": 7,
     "metadata": {},
     "output_type": "execute_result"
    }
   ],
   "source": [
    "geo_model.set_is_fault(['Fault_Series'])"
   ]
  },
  {
   "cell_type": "code",
   "execution_count": 8,
   "id": "a62f2e75",
   "metadata": {},
   "outputs": [
    {
     "data": {
      "text/plain": [
       "Grid Object. Values: \n",
       "array([[  1.  ,   1.5 ,  -9.75],\n",
       "       [  1.  ,   1.5 ,  -9.25],\n",
       "       [  1.  ,   1.5 ,  -8.75],\n",
       "       ...,\n",
       "       [ 99.  , 148.5 ,  13.75],\n",
       "       [ 99.  , 148.5 ,  14.25],\n",
       "       [ 99.  , 148.5 ,  14.75]])"
      ]
     },
     "execution_count": 8,
     "metadata": {},
     "output_type": "execute_result"
    }
   ],
   "source": [
    "geo_model.grid"
   ]
  },
  {
   "cell_type": "code",
   "execution_count": 9,
   "id": "569b1bfa",
   "metadata": {},
   "outputs": [
    {
     "name": "stderr",
     "output_type": "stream",
     "text": [
      "C:\\Users\\BernardoPR4\\anaconda3\\envs\\gempy\\lib\\site-packages\\gempy\\plot\\plot_api.py:261: UserWarning: Matplotlib is currently using module://matplotlib_inline.backend_inline, which is a non-GUI backend, so cannot show the figure.\n",
      "  p.fig.show()\n"
     ]
    },
    {
     "data": {
      "image/png": "[encoded data removed]",
      "text/plain": [
       "<Figure size 1040x715 with 1 Axes>"
      ]
     },
     "metadata": {},
     "output_type": "display_data"
    }
   ],
   "source": [
    "plot = gp.plot_2d(geo_model, show_lith=False, show_boundaries=False)\n",
    "plt.show()"
   ]
  },
  {
   "cell_type": "code",
   "execution_count": 10,
   "id": "4b269ccb",
   "metadata": {},
   "outputs": [
    {
     "name": "stderr",
     "output_type": "stream",
     "text": [
      "C:\\Users\\BernardoPR4\\anaconda3\\envs\\gempy\\lib\\site-packages\\pyvista\\utilities\\helpers.py:508: UserWarning: Points is not a float type. This can cause issues when transforming or applying filters. Casting to ``np.float32``. Disable this by passing ``force_float=False``.\n",
      "  'Points is not a float type. This can cause issues when '\n"
     ]
    }
   ],
   "source": [
    "gpv = gp.plot_3d(geo_model, image=False, plotter_type='basic')"
   ]
  },
  {
   "cell_type": "code",
   "execution_count": 11,
   "id": "2675ece6",
   "metadata": {},
   "outputs": [
    {
     "name": "stdout",
     "output_type": "stream",
     "text": [
      "Setting kriging parameters to their default values.\n",
      "Compiling theano function...\n",
      "Level of Optimization:  fast_compile\n",
      "Device:  cpu\n",
      "Precision:  float64\n",
      "Number of faults:  1\n",
      "Compilation Done!\n",
      "Kriging values: \n",
      "                      values\n",
      "range            182.002747\n",
      "$C_o$            788.690476\n",
      "drift equations      [3, 3]\n"
     ]
    },
    {
     "data": {
      "text/plain": [
       "<gempy.core.interpolator.InterpolatorModel at 0x1e7cfd6a108>"
      ]
     },
     "execution_count": 11,
     "metadata": {},
     "output_type": "execute_result"
    }
   ],
   "source": [
    "gp.set_interpolator(geo_model,\n",
    "                    compile_theano=True,\n",
    "                    theano_optimizer='fast_compile',\n",
    "                    )"
   ]
  },
  {
   "cell_type": "code",
   "execution_count": 14,
   "id": "240a9c68",
   "metadata": {},
   "outputs": [
    {
     "name": "stderr",
     "output_type": "stream",
     "text": [
      "C:\\Users\\BernardoPR4\\anaconda3\\envs\\gempy\\lib\\site-packages\\pyvista\\utilities\\helpers.py:508: UserWarning: Points is not a float type. This can cause issues when transforming or applying filters. Casting to ``np.float32``. Disable this by passing ``force_float=False``.\n",
      "  'Points is not a float type. This can cause issues when '\n"
     ]
    },
    {
     "data": {
      "text/plain": [
       "<gempy.plot.vista.GemPyToVista at 0x1e7d66e3288>"
      ]
     },
     "execution_count": 14,
     "metadata": {},
     "output_type": "execute_result"
    }
   ],
   "source": [
    "gp.plot_3d(geo_model)"
   ]
  },
  {
   "cell_type": "code",
   "execution_count": null,
   "id": "3dc076da",
   "metadata": {},
   "outputs": [],
   "source": []
  }
 ],
 "metadata": {
  "kernelspec": {
   "display_name": "Python 3 (ipykernel)",
   "language": "python",
   "name": "python3"
  },
  "language_info": {
   "codemirror_mode": {
    "name": "ipython",
    "version": 3
   },
   "file_extension": ".py",
   "mimetype": "text/x-python",
   "name": "python",
   "nbconvert_exporter": "python",
   "pygments_lexer": "ipython3",
   "version": "3.7.12"
  }
 },
 "nbformat": 4,
 "nbformat_minor": 5
}
