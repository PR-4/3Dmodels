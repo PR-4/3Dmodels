{
 "cells": [
  {
   "cell_type": "code",
   "execution_count": null,
   "metadata": {},
   "outputs": [],
   "source": [
    "# Importar dependências\n",
    "import gempy as gp\n",
    "import numpy as np\n",
    "import pandas as pd\n",
    "import matplotlib.pyplot as plt\n",
    "import os\n",
    "\n",
    "import warnings\n",
    "warnings.filterwarnings(\"ignore\")\n",
    "\n",
    "pd.set_option('precision', 2)"
   ]
  },
  {
   "cell_type": "code",
   "execution_count": null,
   "metadata": {},
   "outputs": [],
   "source": [
    "# Criando o objeto modelo e variável para indicar a pasta com os dados\n",
    "data_path = '../input/Teste5/'\n",
    "geo_model = gp.create_model('SyntheticBasinTeste5')"
   ]
  },
  {
   "cell_type": "code",
   "execution_count": null,
   "metadata": {},
   "outputs": [],
   "source": [
    "# Inicializando os dados, a extensão e a resolução do modelo.\n",
    "gp.init_data(geo_model,\n",
    "             extent=[0, 2000, -2000, 2000, -100, 1200],\n",
    "             resolution=[50, 50, 50],\n",
    "             path_i=data_path + \"8_lago_sintetico_ligando_camadas_outros_testes/surfaces_points.csv\")\n",
    "             #path_o=data_path + \"orientations.csv\") - caso tenha orientação"
   ]
  },
  {
   "cell_type": "code",
   "execution_count": null,
   "metadata": {},
   "outputs": [],
   "source": [
    "# Ver a ordem das formações\n",
    "geo_model.surfaces"
   ]
  },
  {
   "cell_type": "code",
   "execution_count": null,
   "metadata": {},
   "outputs": [],
   "source": [
    "# Ordenando as surfaces (Estratigrafia (topo para base))\n",
    "#gp.map_stack_to_surfaces(geo_model,                         \n",
    "#                         {\"Strat_Series_1\": ('Formacao_1'),\n",
    "#                          \"Strat_Series_2\": ('Formacao_2')\n",
    "#                          \"Strat_Series_2\": ('Formacao_3')\n",
    "#                          \"Strat_Series_2\": ('Formacao_4')})\n",
    "gp.map_stack_to_surfaces(geo_model,                         \n",
    "                         {\"Strat_Series_1\": ('Formacao_1', 'Formacao_2'),\n",
    "                          \"Strat_Series_2\": ('Formacao_3', 'Formacao_4')})\n"
   ]
  },
  {
   "cell_type": "code",
   "execution_count": null,
   "metadata": {},
   "outputs": [],
   "source": [
    "#Criando dados de orientação (Caso não tenha um csv importando)\n",
    "geo_model.add_orientations(X=1000, Y=500, Z=650, surface=\"Formacao_1\", pole_vector=(0,0,1))\n",
    "geo_model.add_orientations(X=1000, Y=-500, Z=650, surface=\"Formacao_1\", pole_vector=(0,0,1))\n",
    "geo_model.add_orientations(X=1000, Y=500, Z=450, surface=\"Formacao_2\", pole_vector=(0,0,1))\n",
    "geo_model.add_orientations(X=1000, Y=-500, Z=450, surface=\"Formacao_2\", pole_vector=(0,0,1))\n",
    "geo_model.add_orientations(X=1000, Y=500, Z=150, surface=\"Formacao_3\", pole_vector=(0,0,1))\n",
    "geo_model.add_orientations(X=1000, Y=-500, Z=150, surface=\"Formacao_3\", pole_vector=(0,0,1))\n",
    "geo_model.add_orientations(X=1000, Y=500, Z=0, surface=\"Formacao_4\", pole_vector=(0,0,1))\n",
    "geo_model.add_orientations(X=1000, Y=-500, Z=0, surface=\"Formacao_4\", pole_vector=(0,0,1))"
   ]
  },
  {
   "cell_type": "code",
   "execution_count": null,
   "metadata": {},
   "outputs": [],
   "source": [
    "# Ver os dados de surface points\n",
    "#geo_model.surface_points\n",
    "\n",
    "# Ver os dados de orientations points\n",
    "geo_model.orientations"
   ]
  },
  {
   "cell_type": "code",
   "execution_count": null,
   "metadata": {},
   "outputs": [],
   "source": [
    "# Ver em 2D os dados nas 3 direções\n",
    "gp.plot_2d(geo_model, direction=['x'], show_data=True)\n",
    "\n",
    "gp.plot_2d(geo_model, direction=['y'], show_data=True)\n",
    "\n",
    "gp.plot_2d(geo_model, direction=['z'], show_data=True)"
   ]
  },
  {
   "cell_type": "code",
   "execution_count": null,
   "metadata": {},
   "outputs": [],
   "source": [
    "# Ver o grid do modelo\n",
    "geo_model.grid"
   ]
  },
  {
   "cell_type": "code",
   "execution_count": null,
   "metadata": {},
   "outputs": [],
   "source": [
    "plot = gp.plot_2d(geo_model, show_lith=False, show_boundaries=False)\n",
    "plt.show()"
   ]
  },
  {
   "cell_type": "code",
   "execution_count": null,
   "metadata": {},
   "outputs": [],
   "source": [
    "# Ver os dados em 3D\n",
    "gpv = gp.plot_3d(geo_model, image=False, plotter_type='basic', show_data=True)\n"
   ]
  },
  {
   "cell_type": "code",
   "execution_count": null,
   "metadata": {},
   "outputs": [],
   "source": [
    "# Adicionar uma topografia randômica \n",
    "geo_model.set_topography(source='random')\n",
    "gp.plot_2d(geo_model, show_topography=True, section_names=['topography'])\n",
    "plt.show()"
   ]
  },
  {
   "cell_type": "code",
   "execution_count": null,
   "metadata": {},
   "outputs": [],
   "source": [
    "# Interpolador\n",
    "gp.set_interpolator(geo_model,\n",
    "                    compile_theano=True,\n",
    "                    theano_optimizer='fast_run',\n",
    "                    )"
   ]
  },
  {
   "cell_type": "code",
   "execution_count": null,
   "metadata": {},
   "outputs": [],
   "source": [
    "# Computar a solução do modelo\n",
    "sol = gp.compute_model(geo_model)"
   ]
  },
  {
   "cell_type": "code",
   "execution_count": null,
   "metadata": {},
   "outputs": [],
   "source": [
    "# Seção transversal do modelo\n",
    "gp.plot_2d(geo_model, direction=\"x\", show_data=False, show_lith=True)\n",
    "gp.plot_2d(geo_model, direction=\"y\", show_data=False, show_lith=True)\n",
    "gp.plot_2d(geo_model, direction=\"z\", show_data=False, show_lith=True)"
   ]
  },
  {
   "cell_type": "code",
   "execution_count": null,
   "metadata": {},
   "outputs": [],
   "source": [
    "# Visualizar o modelo em 3D\n",
    "ver, sim = gp.get_surfaces(geo_model)\n",
    "gpv = gp.plot_3d(geo_model, image=False, plotter_type='basic', show_data=False)"
   ]
  },
  {
   "cell_type": "code",
   "execution_count": null,
   "metadata": {},
   "outputs": [],
   "source": [
    "# Salvar o modelo gerado em zip (contem todos os files relevantes para refazer o modelo)\n",
    "gp.save_model(geo_model)"
   ]
  }
 ],
 "metadata": {
  "kernelspec": {
   "display_name": "Python 3 (ipykernel)",
   "language": "python",
   "name": "python3"
  },
  "language_info": {
   "codemirror_mode": {
    "name": "ipython",
    "version": 3
   },
   "file_extension": ".py",
   "mimetype": "text/x-python",
   "name": "python",
   "nbconvert_exporter": "python",
   "pygments_lexer": "ipython3",
   "version": "3.7.12"
  }
 },
 "nbformat": 4,
 "nbformat_minor": 2
}
