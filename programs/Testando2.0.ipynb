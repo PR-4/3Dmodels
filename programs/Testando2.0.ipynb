{
 "cells": [
  {
   "cell_type": "code",
   "execution_count": 1,
   "id": "1e12a293",
   "metadata": {},
   "outputs": [
    {
     "name": "stdout",
     "output_type": "stream",
     "text": [
      "No module named '_gdal'\n",
      "Not subsurface compatibility available\n"
     ]
    },
    {
     "name": "stderr",
     "output_type": "stream",
     "text": [
      "WARNING (theano.tensor.blas): Using NumPy C-API based implementation for BLAS functions.\n"
     ]
    }
   ],
   "source": [
    "import gempy as gp\n",
    "import numpy as np\n",
    "import pandas as pd\n",
    "import matplotlib.pyplot as plt\n",
    "import os"
   ]
  },
  {
   "cell_type": "code",
   "execution_count": 2,
   "id": "79fc5fff",
   "metadata": {},
   "outputs": [],
   "source": [
    "data_path = '../input/Teste_2/'\n",
    "geo_model = gp.create_model('SyntheitcBasinTeste2')"
   ]
  },
  {
   "cell_type": "code",
   "execution_count": 3,
   "id": "cefc6f6d",
   "metadata": {},
   "outputs": [
    {
     "name": "stdout",
     "output_type": "stream",
     "text": [
      "Active grids: ['regular']\n"
     ]
    },
    {
     "data": {
      "text/plain": [
       "SyntheitcBasinTeste2  2023-02-06 11:43"
      ]
     },
     "execution_count": 3,
     "metadata": {},
     "output_type": "execute_result"
    }
   ],
   "source": [
    "gp.init_data(geo_model, [0, 50., 0, 50., 0, 15.], [50, 50, 50],\n",
    "            path_i=data_path + \"089_100.csv\")"
   ]
  },
  {
   "cell_type": "code",
   "execution_count": 4,
   "id": "6de181fb",
   "metadata": {},
   "outputs": [
    {
     "data": {
      "text/html": [
       "<style type=\"text/css\">\n",
       "#T_d16ba_row0_col3 {\n",
       "  background-color: #015482;\n",
       "}\n",
       "#T_d16ba_row1_col3 {\n",
       "  background-color: #9f0052;\n",
       "}\n",
       "#T_d16ba_row2_col3 {\n",
       "  background-color: #ffbe00;\n",
       "}\n",
       "</style>\n",
       "<table id=\"T_d16ba_\">\n",
       "  <thead>\n",
       "    <tr>\n",
       "      <th class=\"blank level0\" >&nbsp;</th>\n",
       "      <th class=\"col_heading level0 col0\" >surface</th>\n",
       "      <th class=\"col_heading level0 col1\" >series</th>\n",
       "      <th class=\"col_heading level0 col2\" >order_surfaces</th>\n",
       "      <th class=\"col_heading level0 col3\" >color</th>\n",
       "      <th class=\"col_heading level0 col4\" >id</th>\n",
       "    </tr>\n",
       "  </thead>\n",
       "  <tbody>\n",
       "    <tr>\n",
       "      <th id=\"T_d16ba_level0_row0\" class=\"row_heading level0 row0\" >0</th>\n",
       "      <td id=\"T_d16ba_row0_col0\" class=\"data row0 col0\" >TURONIANO</td>\n",
       "      <td id=\"T_d16ba_row0_col1\" class=\"data row0 col1\" >Default series</td>\n",
       "      <td id=\"T_d16ba_row0_col2\" class=\"data row0 col2\" >1</td>\n",
       "      <td id=\"T_d16ba_row0_col3\" class=\"data row0 col3\" >#015482</td>\n",
       "      <td id=\"T_d16ba_row0_col4\" class=\"data row0 col4\" >1</td>\n",
       "    </tr>\n",
       "    <tr>\n",
       "      <th id=\"T_d16ba_level0_row1\" class=\"row_heading level0 row1\" >1</th>\n",
       "      <td id=\"T_d16ba_row1_col0\" class=\"data row1 col0\" >ALBIANOSUP</td>\n",
       "      <td id=\"T_d16ba_row1_col1\" class=\"data row1 col1\" >Default series</td>\n",
       "      <td id=\"T_d16ba_row1_col2\" class=\"data row1 col2\" >2</td>\n",
       "      <td id=\"T_d16ba_row1_col3\" class=\"data row1 col3\" >#9f0052</td>\n",
       "      <td id=\"T_d16ba_row1_col4\" class=\"data row1 col4\" >2</td>\n",
       "    </tr>\n",
       "    <tr>\n",
       "      <th id=\"T_d16ba_level0_row2\" class=\"row_heading level0 row2\" >2</th>\n",
       "      <td id=\"T_d16ba_row2_col0\" class=\"data row2 col0\" >basement</td>\n",
       "      <td id=\"T_d16ba_row2_col1\" class=\"data row2 col1\" >Basement</td>\n",
       "      <td id=\"T_d16ba_row2_col2\" class=\"data row2 col2\" >1</td>\n",
       "      <td id=\"T_d16ba_row2_col3\" class=\"data row2 col3\" >#ffbe00</td>\n",
       "      <td id=\"T_d16ba_row2_col4\" class=\"data row2 col4\" >3</td>\n",
       "    </tr>\n",
       "  </tbody>\n",
       "</table>\n"
      ],
      "text/plain": [
       "      surface          series  order_surfaces    color  id\n",
       "0   TURONIANO  Default series               1  #015482   1\n",
       "1  ALBIANOSUP  Default series               2  #9f0052   2\n",
       "2    basement        Basement               1  #ffbe00   3"
      ]
     },
     "execution_count": 4,
     "metadata": {},
     "output_type": "execute_result"
    }
   ],
   "source": [
    "geo_model.surfaces"
   ]
  },
  {
   "cell_type": "code",
   "execution_count": 5,
   "id": "bee46dc2",
   "metadata": {},
   "outputs": [
    {
     "data": {
      "text/html": [
       "<div>\n",
       "<style scoped>\n",
       "    .dataframe tbody tr th:only-of-type {\n",
       "        vertical-align: middle;\n",
       "    }\n",
       "\n",
       "    .dataframe tbody tr th {\n",
       "        vertical-align: top;\n",
       "    }\n",
       "\n",
       "    .dataframe thead th {\n",
       "        text-align: right;\n",
       "    }\n",
       "</style>\n",
       "<table border=\"1\" class=\"dataframe\">\n",
       "  <thead>\n",
       "    <tr style=\"text-align: right;\">\n",
       "      <th></th>\n",
       "      <th>X</th>\n",
       "      <th>Y</th>\n",
       "      <th>Z</th>\n",
       "      <th>smooth</th>\n",
       "      <th>surface</th>\n",
       "    </tr>\n",
       "  </thead>\n",
       "  <tbody>\n",
       "    <tr>\n",
       "      <th>0</th>\n",
       "      <td>400000</td>\n",
       "      <td>7650000</td>\n",
       "      <td>3580.360840</td>\n",
       "      <td>0.000002</td>\n",
       "      <td>TURONIANO</td>\n",
       "    </tr>\n",
       "    <tr>\n",
       "      <th>1</th>\n",
       "      <td>400250</td>\n",
       "      <td>7650000</td>\n",
       "      <td>3607.511719</td>\n",
       "      <td>0.000002</td>\n",
       "      <td>TURONIANO</td>\n",
       "    </tr>\n",
       "    <tr>\n",
       "      <th>2</th>\n",
       "      <td>400500</td>\n",
       "      <td>7650000</td>\n",
       "      <td>3633.510010</td>\n",
       "      <td>0.000002</td>\n",
       "      <td>TURONIANO</td>\n",
       "    </tr>\n",
       "    <tr>\n",
       "      <th>3</th>\n",
       "      <td>400750</td>\n",
       "      <td>7650000</td>\n",
       "      <td>3658.924072</td>\n",
       "      <td>0.000002</td>\n",
       "      <td>TURONIANO</td>\n",
       "    </tr>\n",
       "    <tr>\n",
       "      <th>4</th>\n",
       "      <td>401000</td>\n",
       "      <td>7650000</td>\n",
       "      <td>3687.059570</td>\n",
       "      <td>0.000002</td>\n",
       "      <td>TURONIANO</td>\n",
       "    </tr>\n",
       "  </tbody>\n",
       "</table>\n",
       "</div>"
      ],
      "text/plain": [
       "        X        Y            Z    smooth    surface\n",
       "0  400000  7650000  3580.360840  0.000002  TURONIANO\n",
       "1  400250  7650000  3607.511719  0.000002  TURONIANO\n",
       "2  400500  7650000  3633.510010  0.000002  TURONIANO\n",
       "3  400750  7650000  3658.924072  0.000002  TURONIANO\n",
       "4  401000  7650000  3687.059570  0.000002  TURONIANO"
      ]
     },
     "execution_count": 5,
     "metadata": {},
     "output_type": "execute_result"
    }
   ],
   "source": [
    "gp.get_data(geo_model, 'surface_points').head()"
   ]
  },
  {
   "cell_type": "code",
   "execution_count": 6,
   "id": "d91d591f",
   "metadata": {},
   "outputs": [
    {
     "data": {
      "text/html": [
       "<style type=\"text/css\">\n",
       "#T_2c305_row0_col3 {\n",
       "  background-color: #015482;\n",
       "}\n",
       "#T_2c305_row1_col3 {\n",
       "  background-color: #9f0052;\n",
       "}\n",
       "#T_2c305_row2_col3 {\n",
       "  background-color: #ffbe00;\n",
       "}\n",
       "</style>\n",
       "<table id=\"T_2c305_\">\n",
       "  <thead>\n",
       "    <tr>\n",
       "      <th class=\"blank level0\" >&nbsp;</th>\n",
       "      <th class=\"col_heading level0 col0\" >surface</th>\n",
       "      <th class=\"col_heading level0 col1\" >series</th>\n",
       "      <th class=\"col_heading level0 col2\" >order_surfaces</th>\n",
       "      <th class=\"col_heading level0 col3\" >color</th>\n",
       "      <th class=\"col_heading level0 col4\" >id</th>\n",
       "    </tr>\n",
       "  </thead>\n",
       "  <tbody>\n",
       "    <tr>\n",
       "      <th id=\"T_2c305_level0_row0\" class=\"row_heading level0 row0\" >0</th>\n",
       "      <td id=\"T_2c305_row0_col0\" class=\"data row0 col0\" >TURONIANO</td>\n",
       "      <td id=\"T_2c305_row0_col1\" class=\"data row0 col1\" >Default series</td>\n",
       "      <td id=\"T_2c305_row0_col2\" class=\"data row0 col2\" >1</td>\n",
       "      <td id=\"T_2c305_row0_col3\" class=\"data row0 col3\" >#015482</td>\n",
       "      <td id=\"T_2c305_row0_col4\" class=\"data row0 col4\" >1</td>\n",
       "    </tr>\n",
       "    <tr>\n",
       "      <th id=\"T_2c305_level0_row1\" class=\"row_heading level0 row1\" >1</th>\n",
       "      <td id=\"T_2c305_row1_col0\" class=\"data row1 col0\" >ALBIANOSUP</td>\n",
       "      <td id=\"T_2c305_row1_col1\" class=\"data row1 col1\" >Default series</td>\n",
       "      <td id=\"T_2c305_row1_col2\" class=\"data row1 col2\" >2</td>\n",
       "      <td id=\"T_2c305_row1_col3\" class=\"data row1 col3\" >#9f0052</td>\n",
       "      <td id=\"T_2c305_row1_col4\" class=\"data row1 col4\" >2</td>\n",
       "    </tr>\n",
       "    <tr>\n",
       "      <th id=\"T_2c305_level0_row2\" class=\"row_heading level0 row2\" >2</th>\n",
       "      <td id=\"T_2c305_row2_col0\" class=\"data row2 col0\" >basement</td>\n",
       "      <td id=\"T_2c305_row2_col1\" class=\"data row2 col1\" >Basement</td>\n",
       "      <td id=\"T_2c305_row2_col2\" class=\"data row2 col2\" >1</td>\n",
       "      <td id=\"T_2c305_row2_col3\" class=\"data row2 col3\" >#ffbe00</td>\n",
       "      <td id=\"T_2c305_row2_col4\" class=\"data row2 col4\" >3</td>\n",
       "    </tr>\n",
       "  </tbody>\n",
       "</table>\n"
      ],
      "text/plain": [
       "      surface          series  order_surfaces    color  id\n",
       "0   TURONIANO  Default series               1  #015482   1\n",
       "1  ALBIANOSUP  Default series               2  #9f0052   2\n",
       "2    basement        Basement               1  #ffbe00   3"
      ]
     },
     "execution_count": 6,
     "metadata": {},
     "output_type": "execute_result"
    }
   ],
   "source": [
    "geo_model.surfaces"
   ]
  },
  {
   "cell_type": "code",
   "execution_count": 7,
   "id": "4ac33820",
   "metadata": {},
   "outputs": [
    {
     "data": {
      "text/html": [
       "<style type=\"text/css\">\n",
       "#T_b2c9b_row0_col3 {\n",
       "  background-color: #015482;\n",
       "}\n",
       "#T_b2c9b_row1_col3 {\n",
       "  background-color: #9f0052;\n",
       "}\n",
       "#T_b2c9b_row2_col3 {\n",
       "  background-color: #ffbe00;\n",
       "}\n",
       "</style>\n",
       "<table id=\"T_b2c9b_\">\n",
       "  <thead>\n",
       "    <tr>\n",
       "      <th class=\"blank level0\" >&nbsp;</th>\n",
       "      <th class=\"col_heading level0 col0\" >surface</th>\n",
       "      <th class=\"col_heading level0 col1\" >series</th>\n",
       "      <th class=\"col_heading level0 col2\" >order_surfaces</th>\n",
       "      <th class=\"col_heading level0 col3\" >color</th>\n",
       "      <th class=\"col_heading level0 col4\" >id</th>\n",
       "    </tr>\n",
       "  </thead>\n",
       "  <tbody>\n",
       "    <tr>\n",
       "      <th id=\"T_b2c9b_level0_row0\" class=\"row_heading level0 row0\" >0</th>\n",
       "      <td id=\"T_b2c9b_row0_col0\" class=\"data row0 col0\" >TURONIANO</td>\n",
       "      <td id=\"T_b2c9b_row0_col1\" class=\"data row0 col1\" >Strat_Series</td>\n",
       "      <td id=\"T_b2c9b_row0_col2\" class=\"data row0 col2\" >1</td>\n",
       "      <td id=\"T_b2c9b_row0_col3\" class=\"data row0 col3\" >#015482</td>\n",
       "      <td id=\"T_b2c9b_row0_col4\" class=\"data row0 col4\" >1</td>\n",
       "    </tr>\n",
       "    <tr>\n",
       "      <th id=\"T_b2c9b_level0_row1\" class=\"row_heading level0 row1\" >1</th>\n",
       "      <td id=\"T_b2c9b_row1_col0\" class=\"data row1 col0\" >ALBIANOSUP</td>\n",
       "      <td id=\"T_b2c9b_row1_col1\" class=\"data row1 col1\" >Strat_Series</td>\n",
       "      <td id=\"T_b2c9b_row1_col2\" class=\"data row1 col2\" >2</td>\n",
       "      <td id=\"T_b2c9b_row1_col3\" class=\"data row1 col3\" >#9f0052</td>\n",
       "      <td id=\"T_b2c9b_row1_col4\" class=\"data row1 col4\" >2</td>\n",
       "    </tr>\n",
       "    <tr>\n",
       "      <th id=\"T_b2c9b_level0_row2\" class=\"row_heading level0 row2\" >2</th>\n",
       "      <td id=\"T_b2c9b_row2_col0\" class=\"data row2 col0\" >basement</td>\n",
       "      <td id=\"T_b2c9b_row2_col1\" class=\"data row2 col1\" >Basement</td>\n",
       "      <td id=\"T_b2c9b_row2_col2\" class=\"data row2 col2\" >1</td>\n",
       "      <td id=\"T_b2c9b_row2_col3\" class=\"data row2 col3\" >#ffbe00</td>\n",
       "      <td id=\"T_b2c9b_row2_col4\" class=\"data row2 col4\" >3</td>\n",
       "    </tr>\n",
       "  </tbody>\n",
       "</table>\n"
      ],
      "text/plain": [
       "      surface        series  order_surfaces    color  id\n",
       "0   TURONIANO  Strat_Series               1  #015482   1\n",
       "1  ALBIANOSUP  Strat_Series               2  #9f0052   2\n",
       "2    basement      Basement               1  #ffbe00   3"
      ]
     },
     "execution_count": 7,
     "metadata": {},
     "output_type": "execute_result"
    }
   ],
   "source": [
    "gp.map_stack_to_surfaces(geo_model, {\"Strat_Series\": ('TURONIANO', 'ALBIANOSUP')})"
   ]
  },
  {
   "cell_type": "code",
   "execution_count": 8,
   "id": "8c3f351a",
   "metadata": {},
   "outputs": [
    {
     "data": {
      "text/html": [
       "<table border=\"1\" class=\"dataframe\">\n",
       "  <thead>\n",
       "    <tr style=\"text-align: right;\">\n",
       "      <th></th>\n",
       "      <th>order_series</th>\n",
       "      <th>BottomRelation</th>\n",
       "      <th>isActive</th>\n",
       "      <th>isFault</th>\n",
       "      <th>isFinite</th>\n",
       "    </tr>\n",
       "  </thead>\n",
       "  <tbody>\n",
       "    <tr>\n",
       "      <th>Strat_Series</th>\n",
       "      <td>1</td>\n",
       "      <td>Erosion</td>\n",
       "      <td>False</td>\n",
       "      <td>False</td>\n",
       "      <td>False</td>\n",
       "    </tr>\n",
       "    <tr>\n",
       "      <th>Basement</th>\n",
       "      <td>2</td>\n",
       "      <td>Erosion</td>\n",
       "      <td>False</td>\n",
       "      <td>False</td>\n",
       "      <td>False</td>\n",
       "    </tr>\n",
       "  </tbody>\n",
       "</table>"
      ],
      "text/plain": [
       "              order_series BottomRelation  isActive  isFault  isFinite\n",
       "Strat_Series             1        Erosion     False    False     False\n",
       "Basement                 2        Erosion     False    False     False"
      ]
     },
     "execution_count": 8,
     "metadata": {},
     "output_type": "execute_result"
    }
   ],
   "source": [
    "geo_model.stack"
   ]
  },
  {
   "cell_type": "code",
   "execution_count": 9,
   "id": "b05f678d",
   "metadata": {},
   "outputs": [
    {
     "data": {
      "text/plain": [
       "Grid Object. Values: \n",
       "array([[ 0.5 ,  0.5 ,  0.15],\n",
       "       [ 0.5 ,  0.5 ,  0.45],\n",
       "       [ 0.5 ,  0.5 ,  0.75],\n",
       "       ...,\n",
       "       [49.5 , 49.5 , 14.25],\n",
       "       [49.5 , 49.5 , 14.55],\n",
       "       [49.5 , 49.5 , 14.85]])"
      ]
     },
     "execution_count": 9,
     "metadata": {},
     "output_type": "execute_result"
    }
   ],
   "source": [
    "geo_model.grid"
   ]
  },
  {
   "cell_type": "code",
   "execution_count": 10,
   "id": "8709deed",
   "metadata": {},
   "outputs": [
    {
     "name": "stderr",
     "output_type": "stream",
     "text": [
      "C:\\anaconda3\\envs\\gempyuff\\lib\\site-packages\\gempy\\plot\\plot_api.py:261: UserWarning: Matplotlib is currently using module://matplotlib_inline.backend_inline, which is a non-GUI backend, so cannot show the figure.\n",
      "  p.fig.show()\n"
     ]
    },
    {
     "data": {
      "image/png": "[encoded data removed]",
      "text/plain": [
       "<Figure size 1040x715 with 1 Axes>"
      ]
     },
     "metadata": {},
     "output_type": "display_data"
    }
   ],
   "source": [
    "plot = gp.plot_2d(geo_model, show_lith=False, show_boundaries=False)\n",
    "plt.show()"
   ]
  },
  {
   "cell_type": "code",
   "execution_count": 11,
   "id": "8fb22a07",
   "metadata": {},
   "outputs": [],
   "source": [
    "gpv = gp.plot_3d(geo_model, image=False, plotter_type='basic')"
   ]
  },
  {
   "cell_type": "code",
   "execution_count": 12,
   "id": "89fd84f3",
   "metadata": {},
   "outputs": [
    {
     "name": "stdout",
     "output_type": "stream",
     "text": [
      "Setting kriging parameters to their default values.\n",
      "Compiling theano function...\n",
      "Level of Optimization:  fast_compile\n",
      "Device:  cpu\n",
      "Precision:  float64\n",
      "Number of faults:  0\n",
      "Compilation Done!\n",
      "Kriging values: \n",
      "                      values\n",
      "range             72.284161\n",
      "$C_o$            124.404762\n",
      "drift equations      [3, 3]\n"
     ]
    },
    {
     "data": {
      "text/plain": [
       "<gempy.core.interpolator.InterpolatorModel at 0x202d8abdf88>"
      ]
     },
     "execution_count": 12,
     "metadata": {},
     "output_type": "execute_result"
    }
   ],
   "source": [
    "gp.set_interpolator(geo_model, compile_theano=True, theano_optimizer='fast_compile',)"
   ]
  },
  {
   "cell_type": "code",
   "execution_count": 15,
   "id": "740abbfd",
   "metadata": {},
   "outputs": [],
   "source": [
    "ver, sim = gp.get_surfaces(geo_model)\n",
    "gpv = gp.plot_3d(geo_model, image=False, plotter_type='basic')"
   ]
  },
  {
   "cell_type": "code",
   "execution_count": null,
   "id": "495130d1",
   "metadata": {},
   "outputs": [],
   "source": []
  }
 ],
 "metadata": {
  "kernelspec": {
   "display_name": "Python 3 (ipykernel)",
   "language": "python",
   "name": "python3"
  },
  "language_info": {
   "codemirror_mode": {
    "name": "ipython",
    "version": 3
   },
   "file_extension": ".py",
   "mimetype": "text/x-python",
   "name": "python",
   "nbconvert_exporter": "python",
   "pygments_lexer": "ipython3",
   "version": "3.7.12"
  }
 },
 "nbformat": 4,
 "nbformat_minor": 5
}
