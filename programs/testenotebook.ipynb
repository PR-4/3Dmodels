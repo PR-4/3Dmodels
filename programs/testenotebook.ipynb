{
 "cells": [
  {
   "cell_type": "code",
   "execution_count": 1,
   "metadata": {},
   "outputs": [
    {
     "name": "stdout",
     "output_type": "stream",
     "text": [
      "Not subsurface compatibility available\n"
     ]
    },
    {
     "name": "stderr",
     "output_type": "stream",
     "text": [
      "WARNING (theano.tensor.blas): Using NumPy C-API based implementation for BLAS functions.\n"
     ]
    },
    {
     "name": "stdout",
     "output_type": "stream",
     "text": [
      "Active grids: ['regular']\n"
     ]
    },
    {
     "data": {
      "text/html": [
       "<style type=\"text/css\">\n",
       "#T_cc408_row0_col3 {\n",
       "  background-color: #015482;\n",
       "}\n",
       "#T_cc408_row1_col3 {\n",
       "  background-color: #9f0052;\n",
       "}\n",
       "</style>\n",
       "<table id=\"T_cc408_\">\n",
       "  <thead>\n",
       "    <tr>\n",
       "      <th class=\"blank level0\" >&nbsp;</th>\n",
       "      <th class=\"col_heading level0 col0\" >surface</th>\n",
       "      <th class=\"col_heading level0 col1\" >series</th>\n",
       "      <th class=\"col_heading level0 col2\" >order_surfaces</th>\n",
       "      <th class=\"col_heading level0 col3\" >color</th>\n",
       "      <th class=\"col_heading level0 col4\" >id</th>\n",
       "    </tr>\n",
       "  </thead>\n",
       "  <tbody>\n",
       "    <tr>\n",
       "      <th id=\"T_cc408_level0_row0\" class=\"row_heading level0 row0\" >0</th>\n",
       "      <td id=\"T_cc408_row0_col0\" class=\"data row0 col0\" >camada1</td>\n",
       "      <td id=\"T_cc408_row0_col1\" class=\"data row0 col1\" >Strat_Series</td>\n",
       "      <td id=\"T_cc408_row0_col2\" class=\"data row0 col2\" >1</td>\n",
       "      <td id=\"T_cc408_row0_col3\" class=\"data row0 col3\" >#015482</td>\n",
       "      <td id=\"T_cc408_row0_col4\" class=\"data row0 col4\" >1</td>\n",
       "    </tr>\n",
       "    <tr>\n",
       "      <th id=\"T_cc408_level0_row1\" class=\"row_heading level0 row1\" >1</th>\n",
       "      <td id=\"T_cc408_row1_col0\" class=\"data row1 col0\" >basement</td>\n",
       "      <td id=\"T_cc408_row1_col1\" class=\"data row1 col1\" >Basement</td>\n",
       "      <td id=\"T_cc408_row1_col2\" class=\"data row1 col2\" >1</td>\n",
       "      <td id=\"T_cc408_row1_col3\" class=\"data row1 col3\" >#9f0052</td>\n",
       "      <td id=\"T_cc408_row1_col4\" class=\"data row1 col4\" >2</td>\n",
       "    </tr>\n",
       "  </tbody>\n",
       "</table>\n"
      ],
      "text/plain": [
       "    surface        series  order_surfaces    color  id\n",
       "0   camada1  Strat_Series               1  #015482   1\n",
       "1  basement      Basement               1  #9f0052   2"
      ]
     },
     "execution_count": 1,
     "metadata": {},
     "output_type": "execute_result"
    }
   ],
   "source": [
    "import gempy as gp\n",
    "import numpy as np\n",
    "import pandas as pd\n",
    "import matplotlib.pyplot as plt\n",
    "import os\n",
    "\n",
    "data_path = '../input/Teste5/'\n",
    "geo_model = gp.create_model('SyntheitcBasinTeste5')\n",
    "\n",
    "gp.init_data(geo_model,\n",
    "             extent=[0, 400, 0, 400, 0, -40],\n",
    "             resolution=[50, 50, 50],\n",
    "             path_i=data_path + \"5_lago/surfaces_points.csv\",\n",
    "             path_o=data_path + \"5_lago/orientations_points.csv\")\n",
    "\n",
    "gp.map_stack_to_surfaces(geo_model,\n",
    "                         {\"Strat_Series\": ('camada1')})"
   ]
  }
 ],
 "metadata": {
  "kernelspec": {
   "display_name": "gempy",
   "language": "python",
   "name": "python3"
  },
  "language_info": {
   "codemirror_mode": {
    "name": "ipython",
    "version": 3
   },
   "file_extension": ".py",
   "mimetype": "text/x-python",
   "name": "python",
   "nbconvert_exporter": "python",
   "pygments_lexer": "ipython3",
   "version": "3.7.12"
  },
  "orig_nbformat": 4
 },
 "nbformat": 4,
 "nbformat_minor": 2
}
