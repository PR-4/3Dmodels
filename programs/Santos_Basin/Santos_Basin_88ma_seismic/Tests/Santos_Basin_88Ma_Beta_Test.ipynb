{
 "cells": [
  {
   "cell_type": "code",
   "execution_count": 1,
   "metadata": {},
   "outputs": [
    {
     "name": "stdout",
     "output_type": "stream",
     "text": [
      "Not subsurface compatibility available\n"
     ]
    },
    {
     "name": "stderr",
     "output_type": "stream",
     "text": [
      "WARNING (theano.tensor.blas): Using NumPy C-API based implementation for BLAS functions.\n"
     ]
    }
   ],
   "source": [
    "# Importing dependency\n",
    "import gempy as gp\n",
    "import numpy as np\n",
    "import pandas as pd\n",
    "import matplotlib.pyplot as plt\n",
    "\n",
    "import warnings\n",
    "warnings.filterwarnings(\"ignore\")\n",
    "\n",
    "pd.set_option('precision', 2)\n",
    "\n",
    "# Data path, creating the model object and the name\n",
    "data_path = '../../../../input/Santos_Basin/Santos_Basin_88ma_seismic/v1.0.0/'\n",
    "geo_model = gp.create_model('Santos_Basin_88ma_Beta')"
   ]
  },
  {
   "cell_type": "code",
   "execution_count": 2,
   "metadata": {},
   "outputs": [
    {
     "name": "stdout",
     "output_type": "stream",
     "text": [
      "Active grids: ['regular']\n"
     ]
    },
    {
     "data": {
      "text/plain": [
       "Santos_Basin_88ma  2023-05-26 10:21"
      ]
     },
     "execution_count": 2,
     "metadata": {},
     "output_type": "execute_result"
    }
   ],
   "source": [
    "# Extension of the model, resolution of the model and the paths of surface and orientation\n",
    "gp.init_data(geo_model,\n",
    "             extent=[0, 4000, 0, 42500, -13000, 0],\n",
    "             resolution=[50, 50, 50],\n",
    "             path_i=data_path + \"surfaces_points.csv\",\n",
    "             path_o=data_path + \"orientations_points.csv\")"
   ]
  },
  {
   "cell_type": "code",
   "execution_count": 3,
   "metadata": {},
   "outputs": [
    {
     "data": {
      "text/html": [
       "<style type=\"text/css\">\n",
       "#T_e697f_row0_col3 {\n",
       "  background-color: #015482;\n",
       "}\n",
       "#T_e697f_row1_col3 {\n",
       "  background-color: #9f0052;\n",
       "}\n",
       "#T_e697f_row2_col3 {\n",
       "  background-color: #ffbe00;\n",
       "}\n",
       "#T_e697f_row3_col3 {\n",
       "  background-color: #728f02;\n",
       "}\n",
       "#T_e697f_row4_col3 {\n",
       "  background-color: #443988;\n",
       "}\n",
       "#T_e697f_row5_col3 {\n",
       "  background-color: #ff3f20;\n",
       "}\n",
       "#T_e697f_row6_col3 {\n",
       "  background-color: #5DA629;\n",
       "}\n",
       "#T_e697f_row7_col3 {\n",
       "  background-color: #4878d0;\n",
       "}\n",
       "#T_e697f_row8_col3 {\n",
       "  background-color: #ee854a;\n",
       "}\n",
       "</style>\n",
       "<table id=\"T_e697f_\">\n",
       "  <thead>\n",
       "    <tr>\n",
       "      <th class=\"blank level0\" >&nbsp;</th>\n",
       "      <th class=\"col_heading level0 col0\" >surface</th>\n",
       "      <th class=\"col_heading level0 col1\" >series</th>\n",
       "      <th class=\"col_heading level0 col2\" >order_surfaces</th>\n",
       "      <th class=\"col_heading level0 col3\" >color</th>\n",
       "      <th class=\"col_heading level0 col4\" >id</th>\n",
       "    </tr>\n",
       "  </thead>\n",
       "  <tbody>\n",
       "    <tr>\n",
       "      <th id=\"T_e697f_level0_row0\" class=\"row_heading level0 row0\" >0</th>\n",
       "      <td id=\"T_e697f_row0_col0\" class=\"data row0 col0\" >CAMBURI_II</td>\n",
       "      <td id=\"T_e697f_row0_col1\" class=\"data row0 col1\" >Default series</td>\n",
       "      <td id=\"T_e697f_row0_col2\" class=\"data row0 col2\" >1</td>\n",
       "      <td id=\"T_e697f_row0_col3\" class=\"data row0 col3\" >#015482</td>\n",
       "      <td id=\"T_e697f_row0_col4\" class=\"data row0 col4\" >1</td>\n",
       "    </tr>\n",
       "    <tr>\n",
       "      <th id=\"T_e697f_level0_row1\" class=\"row_heading level0 row1\" >1</th>\n",
       "      <td id=\"T_e697f_row1_col0\" class=\"data row1 col0\" >CAMBURI_I</td>\n",
       "      <td id=\"T_e697f_row1_col1\" class=\"data row1 col1\" >Default series</td>\n",
       "      <td id=\"T_e697f_row1_col2\" class=\"data row1 col2\" >2</td>\n",
       "      <td id=\"T_e697f_row1_col3\" class=\"data row1 col3\" >#9f0052</td>\n",
       "      <td id=\"T_e697f_row1_col4\" class=\"data row1 col4\" >2</td>\n",
       "    </tr>\n",
       "    <tr>\n",
       "      <th id=\"T_e697f_level0_row2\" class=\"row_heading level0 row2\" >2</th>\n",
       "      <td id=\"T_e697f_row2_col0\" class=\"data row2 col0\" >ARIRI</td>\n",
       "      <td id=\"T_e697f_row2_col1\" class=\"data row2 col1\" >Default series</td>\n",
       "      <td id=\"T_e697f_row2_col2\" class=\"data row2 col2\" >3</td>\n",
       "      <td id=\"T_e697f_row2_col3\" class=\"data row2 col3\" >#ffbe00</td>\n",
       "      <td id=\"T_e697f_row2_col4\" class=\"data row2 col4\" >3</td>\n",
       "    </tr>\n",
       "    <tr>\n",
       "      <th id=\"T_e697f_level0_row3\" class=\"row_heading level0 row3\" >3</th>\n",
       "      <td id=\"T_e697f_row3_col0\" class=\"data row3 col0\" >BV_II</td>\n",
       "      <td id=\"T_e697f_row3_col1\" class=\"data row3 col1\" >Default series</td>\n",
       "      <td id=\"T_e697f_row3_col2\" class=\"data row3 col2\" >4</td>\n",
       "      <td id=\"T_e697f_row3_col3\" class=\"data row3 col3\" >#728f02</td>\n",
       "      <td id=\"T_e697f_row3_col4\" class=\"data row3 col4\" >4</td>\n",
       "    </tr>\n",
       "    <tr>\n",
       "      <th id=\"T_e697f_level0_row4\" class=\"row_heading level0 row4\" >4</th>\n",
       "      <td id=\"T_e697f_row4_col0\" class=\"data row4 col0\" >BV_I</td>\n",
       "      <td id=\"T_e697f_row4_col1\" class=\"data row4 col1\" >Default series</td>\n",
       "      <td id=\"T_e697f_row4_col2\" class=\"data row4 col2\" >5</td>\n",
       "      <td id=\"T_e697f_row4_col3\" class=\"data row4 col3\" >#443988</td>\n",
       "      <td id=\"T_e697f_row4_col4\" class=\"data row4 col4\" >5</td>\n",
       "    </tr>\n",
       "    <tr>\n",
       "      <th id=\"T_e697f_level0_row5\" class=\"row_heading level0 row5\" >5</th>\n",
       "      <td id=\"T_e697f_row5_col0\" class=\"data row5 col0\" >ITAPEMA</td>\n",
       "      <td id=\"T_e697f_row5_col1\" class=\"data row5 col1\" >Default series</td>\n",
       "      <td id=\"T_e697f_row5_col2\" class=\"data row5 col2\" >6</td>\n",
       "      <td id=\"T_e697f_row5_col3\" class=\"data row5 col3\" >#ff3f20</td>\n",
       "      <td id=\"T_e697f_row5_col4\" class=\"data row5 col4\" >6</td>\n",
       "    </tr>\n",
       "    <tr>\n",
       "      <th id=\"T_e697f_level0_row6\" class=\"row_heading level0 row6\" >6</th>\n",
       "      <td id=\"T_e697f_row6_col0\" class=\"data row6 col0\" >CAMBORIU</td>\n",
       "      <td id=\"T_e697f_row6_col1\" class=\"data row6 col1\" >Default series</td>\n",
       "      <td id=\"T_e697f_row6_col2\" class=\"data row6 col2\" >7</td>\n",
       "      <td id=\"T_e697f_row6_col3\" class=\"data row6 col3\" >#5DA629</td>\n",
       "      <td id=\"T_e697f_row6_col4\" class=\"data row6 col4\" >7</td>\n",
       "    </tr>\n",
       "    <tr>\n",
       "      <th id=\"T_e697f_level0_row7\" class=\"row_heading level0 row7\" >7</th>\n",
       "      <td id=\"T_e697f_row7_col0\" class=\"data row7 col0\" >FALHA</td>\n",
       "      <td id=\"T_e697f_row7_col1\" class=\"data row7 col1\" >Default series</td>\n",
       "      <td id=\"T_e697f_row7_col2\" class=\"data row7 col2\" >8</td>\n",
       "      <td id=\"T_e697f_row7_col3\" class=\"data row7 col3\" >#4878d0</td>\n",
       "      <td id=\"T_e697f_row7_col4\" class=\"data row7 col4\" >8</td>\n",
       "    </tr>\n",
       "    <tr>\n",
       "      <th id=\"T_e697f_level0_row8\" class=\"row_heading level0 row8\" >8</th>\n",
       "      <td id=\"T_e697f_row8_col0\" class=\"data row8 col0\" >basement</td>\n",
       "      <td id=\"T_e697f_row8_col1\" class=\"data row8 col1\" >Basement</td>\n",
       "      <td id=\"T_e697f_row8_col2\" class=\"data row8 col2\" >1</td>\n",
       "      <td id=\"T_e697f_row8_col3\" class=\"data row8 col3\" >#ee854a</td>\n",
       "      <td id=\"T_e697f_row8_col4\" class=\"data row8 col4\" >9</td>\n",
       "    </tr>\n",
       "  </tbody>\n",
       "</table>\n"
      ],
      "text/plain": [
       "      surface          series  order_surfaces    color  id\n",
       "0  CAMBURI_II  Default series               1  #015482   1\n",
       "1   CAMBURI_I  Default series               2  #9f0052   2\n",
       "2       ARIRI  Default series               3  #ffbe00   3\n",
       "3       BV_II  Default series               4  #728f02   4\n",
       "4        BV_I  Default series               5  #443988   5\n",
       "5     ITAPEMA  Default series               6  #ff3f20   6\n",
       "6    CAMBORIU  Default series               7  #5DA629   7\n",
       "7       FALHA  Default series               8  #4878d0   8\n",
       "8    basement        Basement               1  #ee854a   9"
      ]
     },
     "execution_count": 3,
     "metadata": {},
     "output_type": "execute_result"
    }
   ],
   "source": [
    "# The surfaces of the model\n",
    "gp.get_data(geo_model, 'surfaces')"
   ]
  },
  {
   "cell_type": "code",
   "execution_count": null,
   "metadata": {},
   "outputs": [],
   "source": [
    "# Sorting the surfaces and defining a serie for them (Stratigraphy - Top to Bottom)\n",
    "gp.map_stack_to_surfaces(geo_model,                         \n",
    "                         {\"Strat_Series_1\": ('ARIRI', 'CAMBURI_II', 'CAMBURI_I'),\n",
    "                          \"Fault_series\": ('FALHA'),\n",
    "                          \"Strat_Series_2\": ('BV_II', 'BV_I', 'ITAPEMA', 'CAMBORIU', 'basement')})\n",
    "\n",
    "# Ver o grid do modelo\n",
    "geo_model.grid"
   ]
  },
  {
   "cell_type": "code",
   "execution_count": null,
   "metadata": {},
   "outputs": [],
   "source": [
    "# Sorting the surfaces and defining a serie for them (Stratigraphy - Top to Bottom)\n",
    "gp.map_stack_to_surfaces(geo_model,                         \n",
    "                         {\"Strat_Series_1\": ('CAMBURI_II', 'CAMBURI_I'),\n",
    "                          \"Strat_Series_2\": ('ARIRI'),\n",
    "                          \"Fault_series\": ('FALHA'),\n",
    "                          \"Strat_Series_3\": ('BV_II', 'BV_I', 'ITAPEMA', 'CAMBORIU', 'basement')})\n",
    "\n",
    "# Ver o grid do modelo\n",
    "geo_model.grid\n"
   ]
  },
  {
   "cell_type": "code",
   "execution_count": null,
   "metadata": {},
   "outputs": [],
   "source": [
    "# Sorting the surfaces and defining a serie for them (Stratigraphy - Top to Bottom)\n",
    "gp.map_stack_to_surfaces(geo_model,                         \n",
    "                         {\"Strat_Series_1\": ('CAMBURI_II', 'CAMBURI_I'),\n",
    "                          \"Strat_Series_2\": ('ARIRI'),\n",
    "                          \"Fault_series\": ('FALHA'),\n",
    "                          \"Strat_Series_3\": ('BV_II', 'BV_I', 'ITAPEMA', 'CAMBORIU', 'basement')})\n",
    "\n",
    "# Ver o grid do modelo\n",
    "geo_model.grid\n"
   ]
  },
  {
   "cell_type": "code",
   "execution_count": null,
   "metadata": {},
   "outputs": [],
   "source": [
    "# Sorting the surfaces and defining a serie for them (Stratigraphy - Top to Bottom)\n",
    "gp.map_stack_to_surfaces(geo_model,                         \n",
    "                         {\"Fault_series\": ('FALHA'),\n",
    "                          \"Strat_Series\": ('CAMBURI_II', \n",
    "                                           'CAMBURI_I', \n",
    "                                           'ARIRI', \n",
    "                                           'BV_II', \n",
    "                                           'BV_I', \n",
    "                                           'ITAPEMA', \n",
    "                                           'CAMBORIU', \n",
    "                                           'basement',\n",
    "                                           )})\n",
    "\n",
    "# Ver o grid do modelo\n",
    "geo_model.grid\n"
   ]
  },
  {
   "cell_type": "code",
   "execution_count": 5,
   "metadata": {},
   "outputs": [
    {
     "name": "stdout",
     "output_type": "stream",
     "text": [
      "Fault colors changed. If you do not like this behavior, set change_color to False.\n"
     ]
    },
    {
     "data": {
      "text/html": [
       "<table border=\"1\" class=\"dataframe\">\n",
       "  <thead>\n",
       "    <tr style=\"text-align: right;\">\n",
       "      <th></th>\n",
       "      <th>order_series</th>\n",
       "      <th>BottomRelation</th>\n",
       "      <th>isActive</th>\n",
       "      <th>isFault</th>\n",
       "      <th>isFinite</th>\n",
       "    </tr>\n",
       "  </thead>\n",
       "  <tbody>\n",
       "    <tr>\n",
       "      <th>Strat_Series_1</th>\n",
       "      <td>1</td>\n",
       "      <td>Erosion</td>\n",
       "      <td>True</td>\n",
       "      <td>False</td>\n",
       "      <td>False</td>\n",
       "    </tr>\n",
       "    <tr>\n",
       "      <th>Strat_series_2</th>\n",
       "      <td>2</td>\n",
       "      <td>Erosion</td>\n",
       "      <td>True</td>\n",
       "      <td>False</td>\n",
       "      <td>False</td>\n",
       "    </tr>\n",
       "    <tr>\n",
       "      <th>Strat_series_3</th>\n",
       "      <td>3</td>\n",
       "      <td>Erosion</td>\n",
       "      <td>True</td>\n",
       "      <td>False</td>\n",
       "      <td>False</td>\n",
       "    </tr>\n",
       "    <tr>\n",
       "      <th>Fault_series</th>\n",
       "      <td>4</td>\n",
       "      <td>Fault</td>\n",
       "      <td>True</td>\n",
       "      <td>True</td>\n",
       "      <td>False</td>\n",
       "    </tr>\n",
       "    <tr>\n",
       "      <th>Strat_series_4</th>\n",
       "      <td>5</td>\n",
       "      <td>Erosion</td>\n",
       "      <td>True</td>\n",
       "      <td>False</td>\n",
       "      <td>False</td>\n",
       "    </tr>\n",
       "    <tr>\n",
       "      <th>Strat_series_5</th>\n",
       "      <td>6</td>\n",
       "      <td>Erosion</td>\n",
       "      <td>True</td>\n",
       "      <td>False</td>\n",
       "      <td>False</td>\n",
       "    </tr>\n",
       "  </tbody>\n",
       "</table>"
      ],
      "text/plain": [
       "                order_series BottomRelation  isActive  isFault  isFinite\n",
       "Strat_Series_1             1        Erosion      True    False     False\n",
       "Strat_series_2             2        Erosion      True    False     False\n",
       "Strat_series_3             3        Erosion      True    False     False\n",
       "Fault_series               4          Fault      True     True     False\n",
       "Strat_series_4             5        Erosion      True    False     False\n",
       "Strat_series_5             6        Erosion      True    False     False"
      ]
     },
     "execution_count": 5,
     "metadata": {},
     "output_type": "execute_result"
    }
   ],
   "source": [
    "# Declaring the fault serie\n",
    "geo_model.set_is_fault(['Fault_series'])"
   ]
  },
  {
   "cell_type": "code",
   "execution_count": 6,
   "metadata": {},
   "outputs": [
    {
     "data": {
      "text/html": [
       "<style type=\"text/css\">\n",
       "#T_56d5b_row0_col3 {\n",
       "  background-color: #015482;\n",
       "}\n",
       "#T_56d5b_row1_col3 {\n",
       "  background-color: #9f0052;\n",
       "}\n",
       "#T_56d5b_row2_col3 {\n",
       "  background-color: #ffbe00;\n",
       "}\n",
       "#T_56d5b_row3_col3 {\n",
       "  background-color: #527682;\n",
       "}\n",
       "#T_56d5b_row4_col3 {\n",
       "  background-color: #728f02;\n",
       "}\n",
       "#T_56d5b_row5_col3 {\n",
       "  background-color: #443988;\n",
       "}\n",
       "#T_56d5b_row6_col3 {\n",
       "  background-color: #ff3f20;\n",
       "}\n",
       "#T_56d5b_row7_col3 {\n",
       "  background-color: #5DA629;\n",
       "}\n",
       "#T_56d5b_row8_col3 {\n",
       "  background-color: #ee854a;\n",
       "}\n",
       "</style>\n",
       "<table id=\"T_56d5b_\">\n",
       "  <thead>\n",
       "    <tr>\n",
       "      <th class=\"blank level0\" >&nbsp;</th>\n",
       "      <th class=\"col_heading level0 col0\" >surface</th>\n",
       "      <th class=\"col_heading level0 col1\" >series</th>\n",
       "      <th class=\"col_heading level0 col2\" >order_surfaces</th>\n",
       "      <th class=\"col_heading level0 col3\" >color</th>\n",
       "      <th class=\"col_heading level0 col4\" >id</th>\n",
       "    </tr>\n",
       "  </thead>\n",
       "  <tbody>\n",
       "    <tr>\n",
       "      <th id=\"T_56d5b_level0_row0\" class=\"row_heading level0 row0\" >0</th>\n",
       "      <td id=\"T_56d5b_row0_col0\" class=\"data row0 col0\" >CAMBURI_II</td>\n",
       "      <td id=\"T_56d5b_row0_col1\" class=\"data row0 col1\" >Strat_Series_1</td>\n",
       "      <td id=\"T_56d5b_row0_col2\" class=\"data row0 col2\" >1</td>\n",
       "      <td id=\"T_56d5b_row0_col3\" class=\"data row0 col3\" >#015482</td>\n",
       "      <td id=\"T_56d5b_row0_col4\" class=\"data row0 col4\" >1</td>\n",
       "    </tr>\n",
       "    <tr>\n",
       "      <th id=\"T_56d5b_level0_row1\" class=\"row_heading level0 row1\" >1</th>\n",
       "      <td id=\"T_56d5b_row1_col0\" class=\"data row1 col0\" >CAMBURI_I</td>\n",
       "      <td id=\"T_56d5b_row1_col1\" class=\"data row1 col1\" >Strat_series_2</td>\n",
       "      <td id=\"T_56d5b_row1_col2\" class=\"data row1 col2\" >1</td>\n",
       "      <td id=\"T_56d5b_row1_col3\" class=\"data row1 col3\" >#9f0052</td>\n",
       "      <td id=\"T_56d5b_row1_col4\" class=\"data row1 col4\" >2</td>\n",
       "    </tr>\n",
       "    <tr>\n",
       "      <th id=\"T_56d5b_level0_row2\" class=\"row_heading level0 row2\" >2</th>\n",
       "      <td id=\"T_56d5b_row2_col0\" class=\"data row2 col0\" >ARIRI</td>\n",
       "      <td id=\"T_56d5b_row2_col1\" class=\"data row2 col1\" >Strat_series_3</td>\n",
       "      <td id=\"T_56d5b_row2_col2\" class=\"data row2 col2\" >1</td>\n",
       "      <td id=\"T_56d5b_row2_col3\" class=\"data row2 col3\" >#ffbe00</td>\n",
       "      <td id=\"T_56d5b_row2_col4\" class=\"data row2 col4\" >3</td>\n",
       "    </tr>\n",
       "    <tr>\n",
       "      <th id=\"T_56d5b_level0_row3\" class=\"row_heading level0 row3\" >7</th>\n",
       "      <td id=\"T_56d5b_row3_col0\" class=\"data row3 col0\" >FALHA</td>\n",
       "      <td id=\"T_56d5b_row3_col1\" class=\"data row3 col1\" >Fault_series</td>\n",
       "      <td id=\"T_56d5b_row3_col2\" class=\"data row3 col2\" >1</td>\n",
       "      <td id=\"T_56d5b_row3_col3\" class=\"data row3 col3\" >#527682</td>\n",
       "      <td id=\"T_56d5b_row3_col4\" class=\"data row3 col4\" >4</td>\n",
       "    </tr>\n",
       "    <tr>\n",
       "      <th id=\"T_56d5b_level0_row4\" class=\"row_heading level0 row4\" >3</th>\n",
       "      <td id=\"T_56d5b_row4_col0\" class=\"data row4 col0\" >BV_II</td>\n",
       "      <td id=\"T_56d5b_row4_col1\" class=\"data row4 col1\" >Strat_series_4</td>\n",
       "      <td id=\"T_56d5b_row4_col2\" class=\"data row4 col2\" >1</td>\n",
       "      <td id=\"T_56d5b_row4_col3\" class=\"data row4 col3\" >#728f02</td>\n",
       "      <td id=\"T_56d5b_row4_col4\" class=\"data row4 col4\" >5</td>\n",
       "    </tr>\n",
       "    <tr>\n",
       "      <th id=\"T_56d5b_level0_row5\" class=\"row_heading level0 row5\" >4</th>\n",
       "      <td id=\"T_56d5b_row5_col0\" class=\"data row5 col0\" >BV_I</td>\n",
       "      <td id=\"T_56d5b_row5_col1\" class=\"data row5 col1\" >Strat_series_5</td>\n",
       "      <td id=\"T_56d5b_row5_col2\" class=\"data row5 col2\" >1</td>\n",
       "      <td id=\"T_56d5b_row5_col3\" class=\"data row5 col3\" >#443988</td>\n",
       "      <td id=\"T_56d5b_row5_col4\" class=\"data row5 col4\" >6</td>\n",
       "    </tr>\n",
       "    <tr>\n",
       "      <th id=\"T_56d5b_level0_row6\" class=\"row_heading level0 row6\" >5</th>\n",
       "      <td id=\"T_56d5b_row6_col0\" class=\"data row6 col0\" >ITAPEMA</td>\n",
       "      <td id=\"T_56d5b_row6_col1\" class=\"data row6 col1\" >Strat_series_5</td>\n",
       "      <td id=\"T_56d5b_row6_col2\" class=\"data row6 col2\" >2</td>\n",
       "      <td id=\"T_56d5b_row6_col3\" class=\"data row6 col3\" >#ff3f20</td>\n",
       "      <td id=\"T_56d5b_row6_col4\" class=\"data row6 col4\" >7</td>\n",
       "    </tr>\n",
       "    <tr>\n",
       "      <th id=\"T_56d5b_level0_row7\" class=\"row_heading level0 row7\" >6</th>\n",
       "      <td id=\"T_56d5b_row7_col0\" class=\"data row7 col0\" >CAMBORIU</td>\n",
       "      <td id=\"T_56d5b_row7_col1\" class=\"data row7 col1\" >Strat_series_5</td>\n",
       "      <td id=\"T_56d5b_row7_col2\" class=\"data row7 col2\" >3</td>\n",
       "      <td id=\"T_56d5b_row7_col3\" class=\"data row7 col3\" >#5DA629</td>\n",
       "      <td id=\"T_56d5b_row7_col4\" class=\"data row7 col4\" >8</td>\n",
       "    </tr>\n",
       "    <tr>\n",
       "      <th id=\"T_56d5b_level0_row8\" class=\"row_heading level0 row8\" >8</th>\n",
       "      <td id=\"T_56d5b_row8_col0\" class=\"data row8 col0\" >basement</td>\n",
       "      <td id=\"T_56d5b_row8_col1\" class=\"data row8 col1\" >Strat_series_5</td>\n",
       "      <td id=\"T_56d5b_row8_col2\" class=\"data row8 col2\" >4</td>\n",
       "      <td id=\"T_56d5b_row8_col3\" class=\"data row8 col3\" >#ee854a</td>\n",
       "      <td id=\"T_56d5b_row8_col4\" class=\"data row8 col4\" >9</td>\n",
       "    </tr>\n",
       "  </tbody>\n",
       "</table>\n"
      ],
      "text/plain": [
       "      surface          series  order_surfaces    color  id\n",
       "0  CAMBURI_II  Strat_Series_1               1  #015482   1\n",
       "1   CAMBURI_I  Strat_series_2               1  #9f0052   2\n",
       "2       ARIRI  Strat_series_3               1  #ffbe00   3\n",
       "7       FALHA    Fault_series               1  #527682   4\n",
       "3       BV_II  Strat_series_4               1  #728f02   5\n",
       "4        BV_I  Strat_series_5               1  #443988   6\n",
       "5     ITAPEMA  Strat_series_5               2  #ff3f20   7\n",
       "6    CAMBORIU  Strat_series_5               3  #5DA629   8\n",
       "8    basement  Strat_series_5               4  #ee854a   9"
      ]
     },
     "execution_count": 6,
     "metadata": {},
     "output_type": "execute_result"
    }
   ],
   "source": [
    "geo_model.surfaces"
   ]
  },
  {
   "cell_type": "code",
   "execution_count": 7,
   "metadata": {},
   "outputs": [
    {
     "data": {
      "text/plain": [
       "<gempy.plot.visualization_2d.Plot2D at 0x1a98c1ab4c8>"
      ]
     },
     "execution_count": 7,
     "metadata": {},
     "output_type": "execute_result"
    },
    {
     "data": {
      "image/png": "[encoded data removed]",
      "text/plain": [
       "<Figure size 1040x715 with 1 Axes>"
      ]
     },
     "metadata": {},
     "output_type": "display_data"
    }
   ],
   "source": [
    "# Plot 2D of the data in X, Y and Z direction\n",
    "gp.plot_2d(geo_model, direction=['x'], show_data=True, show_boundaries=True, legend=False, show=True)\n",
    "\n",
    "#gp.plot_2d(geo_model, direction=['y'], show_data=True, show_boundaries=True, legend=False, show=True)\n",
    "\n",
    "#gp.plot_2d(geo_model, direction=['z'], show_data=True)"
   ]
  },
  {
   "cell_type": "code",
   "execution_count": 8,
   "metadata": {},
   "outputs": [],
   "source": [
    "# Plot in 3D\n",
    "gpv = gp.plot_3d(geo_model, plotter_type='basic', image=False, show_data=True, show_surfaces=True, show_scalar=True, show_boundaries=True)"
   ]
  },
  {
   "cell_type": "code",
   "execution_count": null,
   "metadata": {},
   "outputs": [],
   "source": [
    "%%time\n",
    "# Interpolating\n",
    "gp.set_interpolator(geo_model,\n",
    "                    theano_optimizer='fast_run',\n",
    "                    compile_theano=True\n",
    "                    )"
   ]
  },
  {
   "cell_type": "code",
   "execution_count": null,
   "metadata": {},
   "outputs": [],
   "source": [
    "%%time\n",
    "# Computing a solution for the model\n",
    "sol = gp.compute_model(geo_model, compute_mesh=True)"
   ]
  },
  {
   "cell_type": "code",
   "execution_count": null,
   "metadata": {},
   "outputs": [],
   "source": [
    "# Plot 2D of Y and X\n",
    "#gp.plot_2d(geo_model, direction=\"y\", show_data=False, show_lith=True)\n",
    "gp.plot_2d(geo_model, direction=\"x\", show_data=False, show_lith=True)"
   ]
  },
  {
   "cell_type": "code",
   "execution_count": null,
   "metadata": {},
   "outputs": [],
   "source": [
    "# Plot 3D\n",
    "ver, sim = gp.get_surfaces(geo_model)\n",
    "gpv = gp.plot_3d(geo_model, image=False, plotter_type='basic', show_data=False, show_results=True, show_lith=True, show_boundaries=True)"
   ]
  },
  {
   "cell_type": "code",
   "execution_count": null,
   "metadata": {},
   "outputs": [],
   "source": [
    "# Saving the model in a .zip file\n",
    "'''\n",
    "This code saves the model in a .zip file in \n",
    "the same folder that the .ipynb file is located\n",
    "'''\n",
    "\n",
    "#gp.save_model(geo_model, compress=True)"
   ]
  }
 ],
 "metadata": {
  "kernelspec": {
   "display_name": "Python 3 (ipykernel)",
   "language": "python",
   "name": "python3"
  },
  "language_info": {
   "codemirror_mode": {
    "name": "ipython",
    "version": 3
   },
   "file_extension": ".py",
   "mimetype": "text/x-python",
   "name": "python",
   "nbconvert_exporter": "python",
   "pygments_lexer": "ipython3",
   "version": "3.7.12"
  }
 },
 "nbformat": 4,
 "nbformat_minor": 2
}
