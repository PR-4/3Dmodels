{
 "cells": [
  {
   "cell_type": "markdown",
   "metadata": {},
   "source": [
    "### (3) Geostatistical modeling\n",
    "\n",
    "This notebook will combine the Geo-structural model (2) and the results of the variogram analysis (3) to create a full 3D porosity model of the New Jersey Shelf using Gaussian simulation. The result will be a single realization of this model. Resolution can be adjusted."
   ]
  },
  {
   "cell_type": "code",
   "execution_count": 1,
   "metadata": {},
   "outputs": [
    {
     "name": "stdout",
     "output_type": "stream",
     "text": [
      "No module named 'osgeo'\n"
     ]
    }
   ],
   "source": [
    "# Import dependencies\n",
    "import gempy as gp\n",
    "import numpy as np\n",
    "import pandas as pd\n",
    "import matplotlib.pyplot as plt\n",
    "import copy\n",
    "import gstools as gs\n",
    "import pyvista as pv\n",
    "import pyvistaqt as pvqt\n",
    "import PVGeo\n",
    "import scipy.spatial.distance as dist\n",
    "import scipy\n",
    "from scipy.optimize import curve_fit\n",
    "import datetime\n",
    "\n",
    "import warnings\n",
    "warnings.filterwarnings(\"ignore\")\n",
    "\n",
    "pd.set_option(\"display.precision\", 2)"
   ]
  },
  {
   "cell_type": "code",
   "execution_count": 2,
   "metadata": {},
   "outputs": [],
   "source": [
    "### User-defined functions\n",
    "def perform_SGS(x, y, z, strike_angle, dip_angle, cond_data, x_range, y_range, z_range):\n",
    "    '''\n",
    "    Function to create Random field based on GSTools routines.\n",
    "    \n",
    "        Arguments:\n",
    "            x,y,z: Grid coordinates to estimate over.\n",
    "            strike_angle, dip_angle: Rotational angles of Shelf system in degrees.\n",
    "            cond_data: Conditioning data for Random field.\n",
    "            x_range, y_range, z_range: directional variogram ranges.\n",
    "        Returns:\n",
    "            cond_srf: GSTools Spatial Random field object (3D)\n",
    "    '''\n",
    "    \n",
    "    # Convert given rotation angle to radians\n",
    "    strike_angle = np.deg2rad(strike_angle)\n",
    "    dip_angle = np.deg2rad(dip_angle)\n",
    "    \n",
    "    # Angle naming to GSTools\n",
    "    alpha = 0\n",
    "    beta = strike_angle\n",
    "    gamma = dip_angle\n",
    "    \n",
    "    # Coordinate preparation\n",
    "    coordinates = np.array([x,y,z])\n",
    "    coordinates = coordinates.swapaxes(0,1)\n",
    "    \n",
    "    # Conditioning data preparation\n",
    "    cond_pos = cond_data[:,:3]\n",
    "    cond_pos = cond_pos.transpose(1,0)\n",
    "    cond_val = cond_data[:,3]\n",
    "    \n",
    "    # Set conditioning data and anisotropies\n",
    "    model = gs.Exponential(dim=3, var=np.var(cond_val), len_scale=[x_range, y_range, z_range], angles=[alpha, beta, gamma])\n",
    "    krige = gs.krige.Ordinary(model, cond_pos, cond_val)\n",
    "    cond_srf = gs.CondSRF(krige)\n",
    "   \n",
    "    # Perform SGS \n",
    "    cond_srf((coordinates[:,0],coordinates[:,1], coordinates[:,2]), mesh_type='unstructured')\n",
    "    \n",
    "    return cond_srf\n",
    "\n",
    "def plot_block_model(field):\n",
    "    '''\n",
    "    Function for plotting 3D Block Model based on GStools result\n",
    "    \n",
    "    Arguments:\n",
    "        field: GSTools Spatial Random Field object (3D)\n",
    "    Returns:\n",
    "        p: pyvista plotter with voxel model\n",
    "    '''\n",
    "    \n",
    "    # Create pyvista mesh for field\n",
    "    pc = field.to_pyvista()\n",
    "    \n",
    "    # Find voxel size\n",
    "    spacing = lambda arr: np.unique(np.diff(np.unique(arr)))\n",
    "    voxelsize = spacing(pc.points[:,0]), spacing(pc.points[:,1]), spacing(pc.points[:,2])\n",
    "\n",
    "    # Pvgeo way of voxelizing semi-unstructured grid\n",
    "    grid = PVGeo.filters.VoxelizePoints(dx=voxelsize[0][0], dy=voxelsize[1][0], dz=voxelsize[2][0], estimate=False).apply(pc)\n",
    "\n",
    "    # Plotting\n",
    "    #p = pv.Plotter(notebook=True)\n",
    "    p = pvqt.BackgroundPlotter()\n",
    "    #p.add_mesh(grid, opacity=1, show_edges=True)\n",
    "    cmap = plt.cm.get_cmap(\"viridis\", 5)\n",
    "    #p.add_mesh(grid, opacity=1, show_edges=False, lighting=False, cmap=cmap)\n",
    "    p.add_mesh(grid, opacity=1, show_edges=False, lighting=False, cmap=\"viridis\") # continuous cmap\n",
    "    #p.add_mesh(pc, point_size=5, cmap='viridis')\n",
    "    \n",
    "    return p\n",
    "\n",
    "def extract_domain(sol, unit):\n",
    "    '''\n",
    "    Extract domain coordinates from gempy model by unit name\n",
    "    \n",
    "    Arguments:\n",
    "        sol: Gempy solution object.\n",
    "        unit: string name of gempy surface\n",
    "    Returns:\n",
    "        dom_x, dom_y, dom_z: coordinates of domain\n",
    "    '''\n",
    "\n",
    "    # Round Lithlogy block from gempy\n",
    "    rounded_lithblock = sol.lith_block.round(0)\n",
    "    rounded_lithblock = rounded_lithblock.astype(int)\n",
    "\n",
    "    # Mask by array of input surfaces (by id, can be from different series)\n",
    "    mask = np.isin(rounded_lithblock, [ref_dict[unit]])\n",
    "\n",
    "    # Get coordinates by mask\n",
    "    dom_grid = sol.grid.values[mask]\n",
    "\n",
    "    # Split coordiantes\n",
    "    dom_x = dom_grid[:,0]\n",
    "    dom_y = dom_grid[:,1]\n",
    "    dom_z = dom_grid[:,2]\n",
    "\n",
    "    return dom_x, dom_y, dom_z"
   ]
  },
  {
   "cell_type": "markdown",
   "metadata": {},
   "source": [
    "### 1. Reload and recalcualte Geo-structural model"
   ]
  },
  {
   "cell_type": "code",
   "execution_count": 3,
   "metadata": {
    "scrolled": true
   },
   "outputs": [
    {
     "name": "stdout",
     "output_type": "stream",
     "text": [
      "Active grids: ['regular']\n"
     ]
    }
   ],
   "source": [
    "# Load model from notebook (2)\n",
    "geo_data = gp.load_model('Geo-structural model NJ shelf')"
   ]
  },
  {
   "cell_type": "code",
   "execution_count": 4,
   "metadata": {},
   "outputs": [
    {
     "name": "stdout",
     "output_type": "stream",
     "text": [
      "Setting kriging parameters to their default values.\n",
      "Compiling aesara function...\n",
      "Level of Optimization:  fast_compile\n",
      "Device:  cpu\n",
      "Precision:  float64\n",
      "Number of faults:  0\n",
      "Compilation Done!\n",
      "Kriging values: \n",
      "                                       values\n",
      "range                              150731.18\n",
      "$C_o$                            540949761.9\n",
      "drift equations  [3, 3, 3, 3, 3, 3, 3, 3, 3]\n",
      "CPU times: total: 20.9 s\n",
      "Wall time: 21.8 s\n"
     ]
    }
   ],
   "source": [
    "%%time\n",
    "# Set interpolator\n",
    "interp_data = gp.set_interpolator(geo_data, compile_theano=True,\n",
    "                                  theano_optimizer='fast_compile')"
   ]
  },
  {
   "cell_type": "code",
   "execution_count": 17,
   "metadata": {},
   "outputs": [
    {
     "name": "stdout",
     "output_type": "stream",
     "text": [
      "Active grids: ['regular']\n"
     ]
    }
   ],
   "source": [
    "# Ajdust resolution here if necessary\n",
    "geo_data.set_regular_grid([0, 69000, 0, 134000, -1700, 0], [138,268,85]);\n",
    "\n",
    "# Alternatives \n",
    "#geo_data.set_regular_grid([0, 69000, 0, 134000, -1700, 0], [69,134,42]) # Half resolution\n",
    "#geo_data.set_regular_grid([41999, 42000, 0, 134000, -1700, 0], [2,1600,320]) # 2.5D model"
   ]
  },
  {
   "cell_type": "code",
   "execution_count": 18,
   "metadata": {},
   "outputs": [],
   "source": [
    "#%%time\n",
    "# Compute model solution\n",
    "sol = gp.compute_model(geo_data)"
   ]
  },
  {
   "cell_type": "code",
   "execution_count": 5,
   "metadata": {},
   "outputs": [],
   "source": [
    "import pickle\n",
    "save_path_model = \"Data/Geo-structural model/Geo-structural_model_NJ_shelf.pkl\"\n",
    "# Load geo_model from a file\n",
    "with open(save_path_model, 'rb') as f:\n",
    "    geo_data = pickle.load(f)"
   ]
  },
  {
   "cell_type": "code",
   "execution_count": 6,
   "metadata": {
    "collapsed": true
   },
   "outputs": [],
   "source": [
    "# View model 3D \n",
    "gpv = gp.plot_3d(geo_data, ve=30, plotter_type='background', show_data=False)\n",
    "gpv.p.camera_position = (320, 200, 3)"
   ]
  },
  {
   "cell_type": "markdown",
   "metadata": {},
   "source": [
    "### 2. Loading and preparing conditioning data (Porosity well data)"
   ]
  },
  {
   "cell_type": "code",
   "execution_count": 7,
   "metadata": {},
   "outputs": [
    {
     "data": {
      "text/html": [
       "<div>\n",
       "<style scoped>\n",
       "    .dataframe tbody tr th:only-of-type {\n",
       "        vertical-align: middle;\n",
       "    }\n",
       "\n",
       "    .dataframe tbody tr th {\n",
       "        vertical-align: top;\n",
       "    }\n",
       "\n",
       "    .dataframe thead th {\n",
       "        text-align: right;\n",
       "    }\n",
       "</style>\n",
       "<table border=\"1\" class=\"dataframe\">\n",
       "  <thead>\n",
       "    <tr style=\"text-align: right;\">\n",
       "      <th></th>\n",
       "      <th>X</th>\n",
       "      <th>Y</th>\n",
       "      <th>Z</th>\n",
       "      <th>Porosity</th>\n",
       "      <th>Sequence</th>\n",
       "      <th>Well</th>\n",
       "    </tr>\n",
       "  </thead>\n",
       "  <tbody>\n",
       "    <tr>\n",
       "      <th>0</th>\n",
       "      <td>28200</td>\n",
       "      <td>76200</td>\n",
       "      <td>-372.13</td>\n",
       "      <td>10.7</td>\n",
       "      <td>m54</td>\n",
       "      <td>m28</td>\n",
       "    </tr>\n",
       "    <tr>\n",
       "      <th>1</th>\n",
       "      <td>28200</td>\n",
       "      <td>76200</td>\n",
       "      <td>-568.73</td>\n",
       "      <td>13.3</td>\n",
       "      <td>m58</td>\n",
       "      <td>m28</td>\n",
       "    </tr>\n",
       "    <tr>\n",
       "      <th>2</th>\n",
       "      <td>28200</td>\n",
       "      <td>76200</td>\n",
       "      <td>-671.83</td>\n",
       "      <td>15.0</td>\n",
       "      <td>m58</td>\n",
       "      <td>m28</td>\n",
       "    </tr>\n",
       "    <tr>\n",
       "      <th>3</th>\n",
       "      <td>28200</td>\n",
       "      <td>76200</td>\n",
       "      <td>-693.95</td>\n",
       "      <td>15.6</td>\n",
       "      <td>m58</td>\n",
       "      <td>m28</td>\n",
       "    </tr>\n",
       "    <tr>\n",
       "      <th>4</th>\n",
       "      <td>28200</td>\n",
       "      <td>76200</td>\n",
       "      <td>-692.00</td>\n",
       "      <td>16.0</td>\n",
       "      <td>m58</td>\n",
       "      <td>m28</td>\n",
       "    </tr>\n",
       "  </tbody>\n",
       "</table>\n",
       "</div>"
      ],
      "text/plain": [
       "       X      Y       Z  Porosity Sequence Well\n",
       "0  28200  76200 -372.13      10.7      m54  m28\n",
       "1  28200  76200 -568.73      13.3      m58  m28\n",
       "2  28200  76200 -671.83      15.0      m58  m28\n",
       "3  28200  76200 -693.95      15.6      m58  m28\n",
       "4  28200  76200 -692.00      16.0      m58  m28"
      ]
     },
     "execution_count": 7,
     "metadata": {},
     "output_type": "execute_result"
    }
   ],
   "source": [
    "# Load data \n",
    "df = pd.read_csv(\"Data/Wells/Complete_set_corrected.csv\")\n",
    "#df = pd.read_csv(\"Data/Wells/Complete_set_corrected_M28blind.csv\")  #uncomment for blind test data\n",
    "\n",
    "df.head()"
   ]
  },
  {
   "cell_type": "markdown",
   "metadata": {},
   "source": [
    "### 2.1 Detrend"
   ]
  },
  {
   "cell_type": "code",
   "execution_count": 8,
   "metadata": {},
   "outputs": [
    {
     "data": {
      "text/html": [
       "<div>\n",
       "<style scoped>\n",
       "    .dataframe tbody tr th:only-of-type {\n",
       "        vertical-align: middle;\n",
       "    }\n",
       "\n",
       "    .dataframe tbody tr th {\n",
       "        vertical-align: top;\n",
       "    }\n",
       "\n",
       "    .dataframe thead th {\n",
       "        text-align: right;\n",
       "    }\n",
       "</style>\n",
       "<table border=\"1\" class=\"dataframe\">\n",
       "  <thead>\n",
       "    <tr style=\"text-align: right;\">\n",
       "      <th></th>\n",
       "      <th>X</th>\n",
       "      <th>Y</th>\n",
       "      <th>Z</th>\n",
       "      <th>Porosity</th>\n",
       "      <th>Sequence</th>\n",
       "      <th>Well</th>\n",
       "      <th>Residuals_temp</th>\n",
       "      <th>Residuals</th>\n",
       "    </tr>\n",
       "  </thead>\n",
       "  <tbody>\n",
       "    <tr>\n",
       "      <th>0</th>\n",
       "      <td>28200</td>\n",
       "      <td>76200</td>\n",
       "      <td>-372.13</td>\n",
       "      <td>10.7</td>\n",
       "      <td>m54</td>\n",
       "      <td>m28</td>\n",
       "      <td>-35.98</td>\n",
       "      <td>-34.42</td>\n",
       "    </tr>\n",
       "    <tr>\n",
       "      <th>1</th>\n",
       "      <td>28200</td>\n",
       "      <td>76200</td>\n",
       "      <td>-568.73</td>\n",
       "      <td>13.3</td>\n",
       "      <td>m58</td>\n",
       "      <td>m28</td>\n",
       "      <td>-33.72</td>\n",
       "      <td>-32.16</td>\n",
       "    </tr>\n",
       "    <tr>\n",
       "      <th>2</th>\n",
       "      <td>28200</td>\n",
       "      <td>76200</td>\n",
       "      <td>-671.83</td>\n",
       "      <td>15.0</td>\n",
       "      <td>m58</td>\n",
       "      <td>m28</td>\n",
       "      <td>-32.20</td>\n",
       "      <td>-30.64</td>\n",
       "    </tr>\n",
       "    <tr>\n",
       "      <th>3</th>\n",
       "      <td>28200</td>\n",
       "      <td>76200</td>\n",
       "      <td>-693.95</td>\n",
       "      <td>15.6</td>\n",
       "      <td>m58</td>\n",
       "      <td>m28</td>\n",
       "      <td>-31.64</td>\n",
       "      <td>-30.08</td>\n",
       "    </tr>\n",
       "    <tr>\n",
       "      <th>4</th>\n",
       "      <td>28200</td>\n",
       "      <td>76200</td>\n",
       "      <td>-692.00</td>\n",
       "      <td>16.0</td>\n",
       "      <td>m58</td>\n",
       "      <td>m28</td>\n",
       "      <td>-31.24</td>\n",
       "      <td>-29.68</td>\n",
       "    </tr>\n",
       "  </tbody>\n",
       "</table>\n",
       "</div>"
      ],
      "text/plain": [
       "       X      Y       Z  Porosity Sequence Well  Residuals_temp  Residuals\n",
       "0  28200  76200 -372.13      10.7      m54  m28          -35.98     -34.42\n",
       "1  28200  76200 -568.73      13.3      m58  m28          -33.72     -32.16\n",
       "2  28200  76200 -671.83      15.0      m58  m28          -32.20     -30.64\n",
       "3  28200  76200 -693.95      15.6      m58  m28          -31.64     -30.08\n",
       "4  28200  76200 -692.00      16.0      m58  m28          -31.24     -29.68"
      ]
     },
     "execution_count": 8,
     "metadata": {},
     "output_type": "execute_result"
    }
   ],
   "source": [
    "# Routine for detrending from notebook (3)\n",
    "\n",
    "# Trend models\n",
    "def exponential_trend(x, a, b):\n",
    "    return a*np.exp(b*x)\n",
    "\n",
    "def linear_trend(x, a, b):\n",
    "    return a+b*x\n",
    "\n",
    "# Vertical trend\n",
    "xdata = df[\"Z\"].values*(-1)# make depth positve\n",
    "ydata = df[\"Porosity\"].values\n",
    "\n",
    "p0 = [41,0.001]\n",
    "popt_exp, pcov_exp = curve_fit(exponential_trend, xdata, ydata, p0)\n",
    "\n",
    "df[\"Residuals_temp\"] = df[\"Porosity\"].values - exponential_trend(df[\"Z\"].values, *popt_exp)\n",
    "df.head()\n",
    "\n",
    "# Horizontal trend\n",
    "xdata = np.unique(df[\"Y\"].values)\n",
    "ydata = np.array([np.mean(df[df[\"Well\"]==\"m27\"][\"Residuals_temp\"]), \n",
    "                  np.mean(df[df[\"Well\"]==\"m28\"][\"Residuals_temp\"]), \n",
    "                  np.mean(df[df[\"Well\"]==\"m29\"][\"Residuals_temp\"])])\n",
    "#ydata = np.array([np.mean(df[df[\"Well\"]==\"m27\"][\"Residuals_temp\"]),  \n",
    "#                  np.mean(df[df[\"Well\"]==\"m29\"][\"Residuals_temp\"])])\n",
    "popt_lin, pcov_lin = curve_fit(linear_trend, xdata, ydata)\n",
    "\n",
    "\n",
    "df[\"Residuals\"] = df[\"Residuals_temp\"].values - linear_trend(df[\"Y\"].values, *popt_lin)\n",
    "\n",
    "df.head()"
   ]
  },
  {
   "cell_type": "markdown",
   "metadata": {},
   "source": [
    "### 2.2 n-score transform"
   ]
  },
  {
   "cell_type": "code",
   "execution_count": 10,
   "metadata": {},
   "outputs": [],
   "source": [
    "# Routine for n-score transform from notebook (3)\n",
    "\n",
    "def cdf(d, bins=12 ):\n",
    "    N = len( d )\n",
    "    counts, intervals = np.histogram( d, bins=bins )\n",
    "    h = np.diff( intervals ) / 2.0\n",
    "    f, finv = np.zeros((N,2)), np.zeros((N,2))\n",
    "    idx, k, T = 0, 0, float( np.sum( counts ) )\n",
    "    for count in counts:\n",
    "        for i in range( count ):\n",
    "            x = intervals[idx]+h[0]\n",
    "            y = np.cumsum( counts[:idx+1] )[-1] / T\n",
    "            f[k,:] = x, y \n",
    "            finv[k,:] = y, x\n",
    "            k += 1\n",
    "        idx += 1\n",
    "    return f, finv\n",
    "\n",
    "def fit(d):\n",
    "    x, y = d[:,0], d[:,1]\n",
    "    def f(t):\n",
    "        if t <= x.min():\n",
    "            return y[ np.argmin(x) ]\n",
    "        elif t >= x.max():\n",
    "            return y[ np.argmax(x) ]\n",
    "        else:\n",
    "            intr = scipy.interpolate.interp1d( x, y )\n",
    "            return intr(t)\n",
    "    return f\n",
    "\n",
    "# transform data to normal dist\n",
    "def to_norm( data, bins=10000):\n",
    "    mu = np.mean( data )\n",
    "    sd = np.std( data )\n",
    "    z = ( data - mu ) / sd\n",
    "    f, inv = cdf( z, bins=bins )\n",
    "    z = scipy.stats.norm(0,1).ppf( f[:,1] )\n",
    "    z = np.where( z==np.inf, np.nan, z )\n",
    "    z = np.where( np.isnan( z ), np.nanmax( z ), z )\n",
    "    param = ( mu, sd )\n",
    "    return z, inv, param, mu, sd\n",
    " \n",
    "# transform data from normal dist back\n",
    "def from_norm( data, inv, param, mu, sd ):\n",
    "    h = fit( inv )\n",
    "    f = scipy.stats.norm(0,1).cdf( data )\n",
    "    z = [ h(i)*sd + mu for i in f ]\n",
    "    return z"
   ]
  },
  {
   "cell_type": "code",
   "execution_count": 11,
   "metadata": {},
   "outputs": [
    {
     "data": {
      "text/html": [
       "<div>\n",
       "<style scoped>\n",
       "    .dataframe tbody tr th:only-of-type {\n",
       "        vertical-align: middle;\n",
       "    }\n",
       "\n",
       "    .dataframe tbody tr th {\n",
       "        vertical-align: top;\n",
       "    }\n",
       "\n",
       "    .dataframe thead th {\n",
       "        text-align: right;\n",
       "    }\n",
       "</style>\n",
       "<table border=\"1\" class=\"dataframe\">\n",
       "  <thead>\n",
       "    <tr style=\"text-align: right;\">\n",
       "      <th></th>\n",
       "      <th>X</th>\n",
       "      <th>Y</th>\n",
       "      <th>Z</th>\n",
       "      <th>Porosity</th>\n",
       "      <th>Sequence</th>\n",
       "      <th>Well</th>\n",
       "      <th>Residuals_temp</th>\n",
       "      <th>Residuals</th>\n",
       "      <th>Nscore Residuals</th>\n",
       "    </tr>\n",
       "  </thead>\n",
       "  <tbody>\n",
       "    <tr>\n",
       "      <th>0</th>\n",
       "      <td>28200</td>\n",
       "      <td>76200</td>\n",
       "      <td>-372.13</td>\n",
       "      <td>10.7</td>\n",
       "      <td>m54</td>\n",
       "      <td>m28</td>\n",
       "      <td>-35.98</td>\n",
       "      <td>-34.42</td>\n",
       "      <td>-3.07</td>\n",
       "    </tr>\n",
       "    <tr>\n",
       "      <th>1</th>\n",
       "      <td>28200</td>\n",
       "      <td>76200</td>\n",
       "      <td>-568.73</td>\n",
       "      <td>13.3</td>\n",
       "      <td>m58</td>\n",
       "      <td>m28</td>\n",
       "      <td>-33.72</td>\n",
       "      <td>-32.16</td>\n",
       "      <td>-2.86</td>\n",
       "    </tr>\n",
       "    <tr>\n",
       "      <th>2</th>\n",
       "      <td>28200</td>\n",
       "      <td>76200</td>\n",
       "      <td>-671.83</td>\n",
       "      <td>15.0</td>\n",
       "      <td>m58</td>\n",
       "      <td>m28</td>\n",
       "      <td>-32.20</td>\n",
       "      <td>-30.64</td>\n",
       "      <td>-2.73</td>\n",
       "    </tr>\n",
       "    <tr>\n",
       "      <th>3</th>\n",
       "      <td>28200</td>\n",
       "      <td>76200</td>\n",
       "      <td>-693.95</td>\n",
       "      <td>15.6</td>\n",
       "      <td>m58</td>\n",
       "      <td>m28</td>\n",
       "      <td>-31.64</td>\n",
       "      <td>-30.08</td>\n",
       "      <td>-2.63</td>\n",
       "    </tr>\n",
       "    <tr>\n",
       "      <th>4</th>\n",
       "      <td>28200</td>\n",
       "      <td>76200</td>\n",
       "      <td>-692.00</td>\n",
       "      <td>16.0</td>\n",
       "      <td>m58</td>\n",
       "      <td>m28</td>\n",
       "      <td>-31.24</td>\n",
       "      <td>-29.68</td>\n",
       "      <td>-2.55</td>\n",
       "    </tr>\n",
       "  </tbody>\n",
       "</table>\n",
       "</div>"
      ],
      "text/plain": [
       "       X      Y       Z  Porosity Sequence Well  Residuals_temp  Residuals   \n",
       "0  28200  76200 -372.13      10.7      m54  m28          -35.98     -34.42  \\\n",
       "1  28200  76200 -568.73      13.3      m58  m28          -33.72     -32.16   \n",
       "2  28200  76200 -671.83      15.0      m58  m28          -32.20     -30.64   \n",
       "3  28200  76200 -693.95      15.6      m58  m28          -31.64     -30.08   \n",
       "4  28200  76200 -692.00      16.0      m58  m28          -31.24     -29.68   \n",
       "\n",
       "   Nscore Residuals  \n",
       "0             -3.07  \n",
       "1             -2.86  \n",
       "2             -2.73  \n",
       "3             -2.63  \n",
       "4             -2.55  "
      ]
     },
     "execution_count": 11,
     "metadata": {},
     "output_type": "execute_result"
    }
   ],
   "source": [
    "# N-score transformation all\n",
    "por_residuals_norm_transform, inv, param, m, sd = to_norm(df[\"Residuals\"].values)\n",
    "\n",
    "# Add to dataframe\n",
    "df[\"Nscore Residuals\"]=por_residuals_norm_transform\n",
    "\n",
    "df.head()"
   ]
  },
  {
   "cell_type": "markdown",
   "metadata": {},
   "source": [
    "### 2.3 Reference dictionary (between Geo-strucutral model and borehole data)"
   ]
  },
  {
   "cell_type": "code",
   "execution_count": 12,
   "metadata": {},
   "outputs": [
    {
     "name": "stdout",
     "output_type": "stream",
     "text": [
      "{'SeaFloor': 1, 'm1': 2, 'm4_1': 3, 'm5': 4, 'm5_4': 5, 'm5_8': 6, 'm6': 7, 'o1': 8, 'basement': 9}\n"
     ]
    }
   ],
   "source": [
    "# Dictionary reference between unit name and gempy reference id\n",
    "ref_dict = dict(geo_data.surfaces.df[['surface', 'id']].values)\n",
    "ref_dict2 = {\n",
    "    \"m1\": \"m1\",\n",
    "    \"m41\": \"m4_1\",\n",
    "    \"m5\": \"m5\",\n",
    "    \"m54\": \"m5_4\",\n",
    "    \"m58\": \"m5_8\",\n",
    "    \"m6\": \"m6\",\n",
    "    \"o1\": \"o1\",}\n",
    "\n",
    "print(ref_dict)\n"
   ]
  },
  {
   "cell_type": "markdown",
   "metadata": {},
   "source": [
    "### 3. Loading variogram parameters"
   ]
  },
  {
   "cell_type": "code",
   "execution_count": 13,
   "metadata": {},
   "outputs": [
    {
     "data": {
      "text/html": [
       "<div>\n",
       "<style scoped>\n",
       "    .dataframe tbody tr th:only-of-type {\n",
       "        vertical-align: middle;\n",
       "    }\n",
       "\n",
       "    .dataframe tbody tr th {\n",
       "        vertical-align: top;\n",
       "    }\n",
       "\n",
       "    .dataframe thead th {\n",
       "        text-align: right;\n",
       "    }\n",
       "</style>\n",
       "<table border=\"1\" class=\"dataframe\">\n",
       "  <thead>\n",
       "    <tr style=\"text-align: right;\">\n",
       "      <th></th>\n",
       "      <th>Sequence</th>\n",
       "      <th>Model</th>\n",
       "      <th>Z Range (Well Data)</th>\n",
       "      <th>Y Angle (Attr)</th>\n",
       "      <th>Y Range (Attr)</th>\n",
       "      <th>X Angle (Attr)</th>\n",
       "      <th>X Range (Attr)</th>\n",
       "      <th>Anisotropy Ratio (X/Y/Z)</th>\n",
       "      <th>Comment</th>\n",
       "    </tr>\n",
       "  </thead>\n",
       "  <tbody>\n",
       "    <tr>\n",
       "      <th>0</th>\n",
       "      <td>m1</td>\n",
       "      <td>Exponential</td>\n",
       "      <td>13.67</td>\n",
       "      <td>-0.12</td>\n",
       "      <td>2403.51</td>\n",
       "      <td>0.00</td>\n",
       "      <td>3796.74</td>\n",
       "      <td>[278 176   1]</td>\n",
       "      <td>*Strike direction corrected (underlying sequen...</td>\n",
       "    </tr>\n",
       "    <tr>\n",
       "      <th>1</th>\n",
       "      <td>m41</td>\n",
       "      <td>Exponential</td>\n",
       "      <td>13.67</td>\n",
       "      <td>-0.19</td>\n",
       "      <td>2393.22</td>\n",
       "      <td>-0.01</td>\n",
       "      <td>3796.74</td>\n",
       "      <td>[278 175   1]</td>\n",
       "      <td>NaN</td>\n",
       "    </tr>\n",
       "    <tr>\n",
       "      <th>2</th>\n",
       "      <td>m5</td>\n",
       "      <td>Exponential</td>\n",
       "      <td>13.67</td>\n",
       "      <td>-0.11</td>\n",
       "      <td>3446.76</td>\n",
       "      <td>-0.00</td>\n",
       "      <td>4180.39</td>\n",
       "      <td>[306 252   1]</td>\n",
       "      <td>*Strike direction corrected (underlying sequen...</td>\n",
       "    </tr>\n",
       "    <tr>\n",
       "      <th>3</th>\n",
       "      <td>m54</td>\n",
       "      <td>Exponential</td>\n",
       "      <td>13.67</td>\n",
       "      <td>-0.07</td>\n",
       "      <td>2433.96</td>\n",
       "      <td>0.08</td>\n",
       "      <td>4180.39</td>\n",
       "      <td>[306 178   1]</td>\n",
       "      <td>NaN</td>\n",
       "    </tr>\n",
       "    <tr>\n",
       "      <th>4</th>\n",
       "      <td>m58</td>\n",
       "      <td>Exponential</td>\n",
       "      <td>13.67</td>\n",
       "      <td>-0.55</td>\n",
       "      <td>1822.08</td>\n",
       "      <td>0.18</td>\n",
       "      <td>3075.89</td>\n",
       "      <td>[225 133   1]</td>\n",
       "      <td>NaN</td>\n",
       "    </tr>\n",
       "    <tr>\n",
       "      <th>5</th>\n",
       "      <td>m6</td>\n",
       "      <td>Exponential</td>\n",
       "      <td>13.67</td>\n",
       "      <td>-0.58</td>\n",
       "      <td>2271.58</td>\n",
       "      <td>0.06</td>\n",
       "      <td>4398.60</td>\n",
       "      <td>[322 166   1]</td>\n",
       "      <td>NaN</td>\n",
       "    </tr>\n",
       "    <tr>\n",
       "      <th>6</th>\n",
       "      <td>o1</td>\n",
       "      <td>Exponential</td>\n",
       "      <td>13.67</td>\n",
       "      <td>-0.34</td>\n",
       "      <td>1364.54</td>\n",
       "      <td>0.47</td>\n",
       "      <td>7425.56</td>\n",
       "      <td>[543 100   1]</td>\n",
       "      <td>NaN</td>\n",
       "    </tr>\n",
       "  </tbody>\n",
       "</table>\n",
       "</div>"
      ],
      "text/plain": [
       "  Sequence        Model  Z Range (Well Data)  Y Angle (Attr)  Y Range (Attr)   \n",
       "0       m1  Exponential                13.67           -0.12         2403.51  \\\n",
       "1      m41  Exponential                13.67           -0.19         2393.22   \n",
       "2       m5  Exponential                13.67           -0.11         3446.76   \n",
       "3      m54  Exponential                13.67           -0.07         2433.96   \n",
       "4      m58  Exponential                13.67           -0.55         1822.08   \n",
       "5       m6  Exponential                13.67           -0.58         2271.58   \n",
       "6       o1  Exponential                13.67           -0.34         1364.54   \n",
       "\n",
       "   X Angle (Attr)  X Range (Attr) Anisotropy Ratio (X/Y/Z)   \n",
       "0            0.00         3796.74            [278 176   1]  \\\n",
       "1           -0.01         3796.74            [278 175   1]   \n",
       "2           -0.00         4180.39            [306 252   1]   \n",
       "3            0.08         4180.39            [306 178   1]   \n",
       "4            0.18         3075.89            [225 133   1]   \n",
       "5            0.06         4398.60            [322 166   1]   \n",
       "6            0.47         7425.56            [543 100   1]   \n",
       "\n",
       "                                             Comment  \n",
       "0  *Strike direction corrected (underlying sequen...  \n",
       "1                                                NaN  \n",
       "2  *Strike direction corrected (underlying sequen...  \n",
       "3                                                NaN  \n",
       "4                                                NaN  \n",
       "5                                                NaN  \n",
       "6                                                NaN  "
      ]
     },
     "execution_count": 13,
     "metadata": {},
     "output_type": "execute_result"
    }
   ],
   "source": [
    "# Getting varigoram parameters from (3)\n",
    "variogram_results = pd.read_csv(\"Results/Variogram results table.csv\", index_col=0)\n",
    "variogram_results"
   ]
  },
  {
   "cell_type": "markdown",
   "metadata": {},
   "source": [
    "### 4. Geostatistics on single domains"
   ]
  },
  {
   "cell_type": "code",
   "execution_count": 14,
   "metadata": {},
   "outputs": [],
   "source": [
    "# Defining unit for analysis\n",
    "unit=\"m41\""
   ]
  },
  {
   "cell_type": "code",
   "execution_count": 15,
   "metadata": {},
   "outputs": [],
   "source": [
    "# Check drillhole locations in 3D plot\n",
    "\n",
    "# Create plotter object with gempy model\n",
    "gpv = gp.plot_3d(geo_data, plotter_type='background', show_data=False)\n",
    "\n",
    "# Add conditioning data for specific sequence\n",
    "poly = pv.PolyData(df[df[\"Sequence\"]==unit].values[:,:3].astype(\"float64\"))\n",
    "poly[\"My Labels\"] = df[df[\"Sequence\"]==unit].values[:,3].astype(\"float64\")\n",
    "gpv.p.add_point_labels(poly, \"My Labels\", point_size=10, font_size=36, point_color='black')\n",
    "\n",
    "# Vertical exaggeration\n",
    "gpv.p.set_scale(zscale=30)\n",
    "\n",
    "gpv.p.show()"
   ]
  },
  {
   "cell_type": "code",
   "execution_count": 19,
   "metadata": {
    "collapsed": true
   },
   "outputs": [],
   "source": [
    "# Extract domain from gempy model\n",
    "domain_x, domain_y, domain_z = extract_domain(sol, ref_dict2[unit])"
   ]
  },
  {
   "cell_type": "markdown",
   "metadata": {},
   "source": [
    "### 4.1 Gaussian simulation"
   ]
  },
  {
   "cell_type": "code",
   "execution_count": 20,
   "metadata": {},
   "outputs": [
    {
     "name": "stdout",
     "output_type": "stream",
     "text": [
      "CPU times: total: 11.2 s\n",
      "Wall time: 11.2 s\n"
     ]
    }
   ],
   "source": [
    "%%time\n",
    "\n",
    "# Performing the SGS with specified directional ranges and angle for rotation around x-axis\n",
    "field = perform_SGS(domain_x, domain_y, domain_z, \n",
    "                    strike_angle=variogram_results[variogram_results[\"Sequence\"]==unit][\"X Angle (Attr)\"].values[0], \n",
    "                    dip_angle=variogram_results[variogram_results[\"Sequence\"]==unit][\"Y Angle (Attr)\"].values[0], \n",
    "                    cond_data=np.hstack((df[df[\"Sequence\"]==unit].values[:,:3].astype(\"float64\"), \n",
    "                                df[\"Nscore Residuals\"][df[\"Sequence\"]==unit].values.astype(\"float64\").reshape(-1,1))), \n",
    "                    x_range=variogram_results[variogram_results[\"Sequence\"]==unit][\"X Range (Attr)\"].values[0], \n",
    "                    y_range=variogram_results[variogram_results[\"Sequence\"]==unit][\"Y Range (Attr)\"].values[0], \n",
    "                    z_range=variogram_results[variogram_results[\"Sequence\"]==unit][\"Z Range (Well Data)\"].values[0])"
   ]
  },
  {
   "cell_type": "markdown",
   "metadata": {},
   "source": [
    "### 4.2 Back-transformation and adding trends"
   ]
  },
  {
   "cell_type": "code",
   "execution_count": 21,
   "metadata": {},
   "outputs": [
    {
     "data": {
      "image/png": "[encoded data removed]",
      "text/plain": [
       "<Figure size 1040x715 with 1 Axes>"
      ]
     },
     "metadata": {},
     "output_type": "display_data"
    }
   ],
   "source": [
    "# Plot histogram of Random field result\n",
    "plt.hist(field.field, bins='fd', density=True);"
   ]
  },
  {
   "cell_type": "code",
   "execution_count": 22,
   "metadata": {},
   "outputs": [
    {
     "data": {
      "image/png": "[encoded data removed]",
      "text/plain": [
       "<Figure size 1040x715 with 1 Axes>"
      ]
     },
     "metadata": {},
     "output_type": "display_data"
    }
   ],
   "source": [
    "# N-score back-transform\n",
    "back_transformed = from_norm(field.field, inv, param, m, sd)\n",
    "plt.hist(back_transformed, bins='fd', density=True);"
   ]
  },
  {
   "cell_type": "code",
   "execution_count": 23,
   "metadata": {},
   "outputs": [
    {
     "data": {
      "image/png": "[encoded data removed]",
      "text/plain": [
       "<Figure size 1040x715 with 1 Axes>"
      ]
     },
     "metadata": {},
     "output_type": "display_data"
    }
   ],
   "source": [
    "# Reapply trends\n",
    "# Add linear y trend back\n",
    "retrended_temp = back_transformed + linear_trend(field.pos[1,:], *popt_lin)\n",
    "# Add exponential z trend back\n",
    "retrended = retrended_temp + exponential_trend(field.pos[2,:], *popt_exp)\n",
    "\n",
    "plt.hist(retrended, bins='fd', density=True);"
   ]
  },
  {
   "cell_type": "code",
   "execution_count": 24,
   "metadata": {},
   "outputs": [],
   "source": [
    "# Overwrite field result with back_transformed and retrended data\n",
    "field.field=retrended"
   ]
  },
  {
   "cell_type": "code",
   "execution_count": 25,
   "metadata": {},
   "outputs": [],
   "source": [
    "# Plot simulated field and drillhole data\n",
    "p = plot_block_model(field)\n",
    "\n",
    "# Vertical exaggeration\n",
    "p.set_scale(zscale=30)\n",
    "\n",
    "p.show()"
   ]
  },
  {
   "cell_type": "markdown",
   "metadata": {},
   "source": [
    "### 5. Complete Model\n",
    "\n"
   ]
  },
  {
   "cell_type": "code",
   "execution_count": 26,
   "metadata": {},
   "outputs": [
    {
     "name": "stdout",
     "output_type": "stream",
     "text": [
      "CPU times: total: 2min 41s\n",
      "Wall time: 2min 41s\n"
     ]
    }
   ],
   "source": [
    "%%time\n",
    "# Routine to calculate for all sequences:\n",
    "\n",
    "# Empty dict for results\n",
    "res_dict = {}\n",
    "\n",
    "# Calculate model for each sequence\n",
    "for unit in variogram_results[\"Sequence\"].values:\n",
    "    \n",
    "    # Extract domain\n",
    "    domain_x, domain_y, domain_z = extract_domain(sol, ref_dict2[unit])\n",
    "    \n",
    "    # Create Gaussian field\n",
    "    field = perform_SGS(domain_x, domain_y, domain_z, \n",
    "                    strike_angle=variogram_results[variogram_results[\"Sequence\"]==unit][\"X Angle (Attr)\"].values[0], \n",
    "                    dip_angle=variogram_results[variogram_results[\"Sequence\"]==unit][\"Y Angle (Attr)\"].values[0], \n",
    "                    cond_data=np.hstack((df[df[\"Sequence\"]==unit].values[:,:3].astype(\"float64\"), \n",
    "                                df[\"Nscore Residuals\"][df[\"Sequence\"]==unit].values.astype(\"float64\").reshape(-1,1))), \n",
    "                    x_range=variogram_results[variogram_results[\"Sequence\"]==unit][\"X Range (Attr)\"].values[0], \n",
    "                    y_range=variogram_results[variogram_results[\"Sequence\"]==unit][\"Y Range (Attr)\"].values[0], \n",
    "                    z_range=variogram_results[variogram_results[\"Sequence\"]==unit][\"Z Range (Well Data)\"].values[0])\n",
    "    \n",
    "    # Back-transform and reapply trends\n",
    "    back_transformed = from_norm(field.field, inv, param, m, sd)\n",
    "    retrended_temp = back_transformed + linear_trend(field.pos[1,:], *popt_lin)\n",
    "    retrended = retrended_temp + exponential_trend(field.pos[2,:], *popt_exp)\n",
    "    \n",
    "    field.field=retrended\n",
    "    \n",
    "    res_dict[unit]=field\n",
    "    \n",
    "\n",
    "    \n",
    "    "
   ]
  },
  {
   "cell_type": "code",
   "execution_count": 28,
   "metadata": {},
   "outputs": [
    {
     "data": {
      "text/html": [
       "<div>\n",
       "<style scoped>\n",
       "    .dataframe tbody tr th:only-of-type {\n",
       "        vertical-align: middle;\n",
       "    }\n",
       "\n",
       "    .dataframe tbody tr th {\n",
       "        vertical-align: top;\n",
       "    }\n",
       "\n",
       "    .dataframe thead th {\n",
       "        text-align: right;\n",
       "    }\n",
       "</style>\n",
       "<table border=\"1\" class=\"dataframe\">\n",
       "  <thead>\n",
       "    <tr style=\"text-align: right;\">\n",
       "      <th></th>\n",
       "      <th>X</th>\n",
       "      <th>Y</th>\n",
       "      <th>Z</th>\n",
       "      <th>Porosity</th>\n",
       "      <th>Sequence</th>\n",
       "    </tr>\n",
       "  </thead>\n",
       "  <tbody>\n",
       "    <tr>\n",
       "      <th>0</th>\n",
       "      <td>250.0</td>\n",
       "      <td>250.0</td>\n",
       "      <td>-30.0</td>\n",
       "      <td>39.13</td>\n",
       "      <td>m1</td>\n",
       "    </tr>\n",
       "    <tr>\n",
       "      <th>1</th>\n",
       "      <td>250.0</td>\n",
       "      <td>750.0</td>\n",
       "      <td>-30.0</td>\n",
       "      <td>41.20</td>\n",
       "      <td>m1</td>\n",
       "    </tr>\n",
       "    <tr>\n",
       "      <th>2</th>\n",
       "      <td>250.0</td>\n",
       "      <td>1250.0</td>\n",
       "      <td>-30.0</td>\n",
       "      <td>37.52</td>\n",
       "      <td>m1</td>\n",
       "    </tr>\n",
       "    <tr>\n",
       "      <th>3</th>\n",
       "      <td>250.0</td>\n",
       "      <td>1750.0</td>\n",
       "      <td>-30.0</td>\n",
       "      <td>34.10</td>\n",
       "      <td>m1</td>\n",
       "    </tr>\n",
       "    <tr>\n",
       "      <th>4</th>\n",
       "      <td>250.0</td>\n",
       "      <td>2250.0</td>\n",
       "      <td>-30.0</td>\n",
       "      <td>32.53</td>\n",
       "      <td>m1</td>\n",
       "    </tr>\n",
       "    <tr>\n",
       "      <th>...</th>\n",
       "      <td>...</td>\n",
       "      <td>...</td>\n",
       "      <td>...</td>\n",
       "      <td>...</td>\n",
       "      <td>...</td>\n",
       "    </tr>\n",
       "    <tr>\n",
       "      <th>253698</th>\n",
       "      <td>68750.0</td>\n",
       "      <td>133750.0</td>\n",
       "      <td>-1530.0</td>\n",
       "      <td>46.40</td>\n",
       "      <td>o1</td>\n",
       "    </tr>\n",
       "    <tr>\n",
       "      <th>253699</th>\n",
       "      <td>68750.0</td>\n",
       "      <td>133750.0</td>\n",
       "      <td>-1510.0</td>\n",
       "      <td>46.43</td>\n",
       "      <td>o1</td>\n",
       "    </tr>\n",
       "    <tr>\n",
       "      <th>253700</th>\n",
       "      <td>68750.0</td>\n",
       "      <td>133750.0</td>\n",
       "      <td>-1490.0</td>\n",
       "      <td>47.46</td>\n",
       "      <td>o1</td>\n",
       "    </tr>\n",
       "    <tr>\n",
       "      <th>253701</th>\n",
       "      <td>68750.0</td>\n",
       "      <td>133750.0</td>\n",
       "      <td>-1470.0</td>\n",
       "      <td>32.92</td>\n",
       "      <td>o1</td>\n",
       "    </tr>\n",
       "    <tr>\n",
       "      <th>253702</th>\n",
       "      <td>68750.0</td>\n",
       "      <td>133750.0</td>\n",
       "      <td>-1450.0</td>\n",
       "      <td>42.98</td>\n",
       "      <td>o1</td>\n",
       "    </tr>\n",
       "  </tbody>\n",
       "</table>\n",
       "<p>1412810 rows × 5 columns</p>\n",
       "</div>"
      ],
      "text/plain": [
       "              X         Y       Z  Porosity Sequence\n",
       "0         250.0     250.0   -30.0     39.13       m1\n",
       "1         250.0     750.0   -30.0     41.20       m1\n",
       "2         250.0    1250.0   -30.0     37.52       m1\n",
       "3         250.0    1750.0   -30.0     34.10       m1\n",
       "4         250.0    2250.0   -30.0     32.53       m1\n",
       "...         ...       ...     ...       ...      ...\n",
       "253698  68750.0  133750.0 -1530.0     46.40       o1\n",
       "253699  68750.0  133750.0 -1510.0     46.43       o1\n",
       "253700  68750.0  133750.0 -1490.0     47.46       o1\n",
       "253701  68750.0  133750.0 -1470.0     32.92       o1\n",
       "253702  68750.0  133750.0 -1450.0     42.98       o1\n",
       "\n",
       "[1412810 rows x 5 columns]"
      ]
     },
     "execution_count": 28,
     "metadata": {},
     "output_type": "execute_result"
    }
   ],
   "source": [
    "# Create single dataframe with unified results\n",
    "results_df  = pd.DataFrame(columns=(\"X\", \"Y\", \"Z\", \"Porosity\", \"Sequence\"))\n",
    "\n",
    "for unit in variogram_results[\"Sequence\"].values:\n",
    "    \n",
    "    temp_list =  np.empty(len(res_dict[unit].pos[0,:]), dtype='U100')\n",
    "    temp_list[:] = unit\n",
    "\n",
    "    temp_df = pd.DataFrame(\n",
    "        np.array([res_dict[unit].pos[0,:],\n",
    "        res_dict[unit].pos[1,:],\n",
    "        res_dict[unit].pos[2,:],\n",
    "        res_dict[unit].field,\n",
    "        temp_list]).T, columns=(\"X\", \"Y\", \"Z\", \"Porosity\", \"Sequence\"))\n",
    "    \n",
    "    results_df = pd.concat([results_df, temp_df])\n",
    "    \n",
    "\n",
    "results_df = results_df.astype({'X': 'float64', 'Y': 'float64', 'Z': 'float64', 'Porosity': 'float64',})\n",
    "\n",
    "results_df"
   ]
  },
  {
   "cell_type": "code",
   "execution_count": 29,
   "metadata": {},
   "outputs": [],
   "source": [
    "# Plot full model without gempy\n",
    "\n",
    "#cmap = plt.cm.get_cmap(\"viridis\", 6)\n",
    "p = pvqt.BackgroundPlotter()\n",
    "\n",
    "pc = pv.PolyData(np.c_[results_df[\"X\"].values, results_df[\"Y\"].values, results_df[\"Z\"].values])\n",
    "\n",
    "pc[\"Porosity\"]=results_df[\"Porosity\"].values\n",
    "\n",
    "spacing = lambda arr: np.unique(np.diff(np.unique(arr)))\n",
    "voxelsize = spacing(pc.points[:,0]), spacing(pc.points[:,1]), spacing(pc.points[:,2])\n",
    "\n",
    "pc = pc.cast_to_unstructured_grid()\n",
    "\n",
    "grid = PVGeo.filters.VoxelizePoints(dx=voxelsize[0][0], dy=voxelsize[1][0], dz=voxelsize[2][0], estimate=False).apply(pc)\n",
    "    \n",
    "#p.add_mesh(grid, opacity=1, show_edges=False, lighting=False, cmap=cmap)\n",
    "#p.add_mesh(grid, opacity=1, show_edges=False, lighting=False, cmap=\"viridis\")\n",
    "#p.add_mesh(grid, scalars=\"Porosity\", opacity=1, show_edges=False, lighting=False, cmap=\"viridis\")\n",
    "p.add_mesh(grid, scalars=\"Porosity\", opacity=1, show_edges=False, lighting=False, cmap=\"viridis\", clim=[results_df[\"Porosity\"].min(), results_df[\"Porosity\"].max()])\n",
    "\n",
    "p.set_scale(zscale=30)\n",
    "p.camera_position = (-320, -200, 3)\n",
    "p.show_grid(xlabel=\"X [m]\", ylabel=\"Y [m]\", zlabel=\"Z [m]\")\n",
    "\n",
    "p.show()"
   ]
  },
  {
   "cell_type": "code",
   "execution_count": 30,
   "metadata": {},
   "outputs": [],
   "source": [
    "# Save realization as result to csv \n",
    "realization_name = str(\"Model_realization_\"+datetime.datetime.now().strftime(\"%Y%m%d\"))\n",
    "results_df.to_csv(\"Results/\"+realization_name+\".csv\", index=False)"
   ]
  }
 ],
 "metadata": {
  "kernelspec": {
   "display_name": "Python 3 (ipykernel)",
   "language": "python",
   "name": "python3"
  },
  "language_info": {
   "codemirror_mode": {
    "name": "ipython",
    "version": 3
   },
   "file_extension": ".py",
   "mimetype": "text/x-python",
   "name": "python",
   "nbconvert_exporter": "python",
   "pygments_lexer": "ipython3",
   "version": "3.10.13"
  }
 },
 "nbformat": 4,
 "nbformat_minor": 4
}
