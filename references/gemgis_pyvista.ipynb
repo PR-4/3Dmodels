{
 "cells": [
  {
   "cell_type": "markdown",
   "metadata": {},
   "source": [
    "https://gemgis.readthedocs.io/en/latest/getting_started/tutorial/56_Displaying_Seismic_Data_in_Pyvista.html"
   ]
  },
  {
   "cell_type": "markdown",
   "metadata": {},
   "source": []
  }
 ],
 "metadata": {
  "language_info": {
   "name": "python"
  }
 },
 "nbformat": 4,
 "nbformat_minor": 2
}
