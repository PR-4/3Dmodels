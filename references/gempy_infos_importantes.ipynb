{
 "cells": [
  {
   "cell_type": "markdown",
   "metadata": {},
   "source": [
    "### **Criação de orientações pelo gempy e extração do gempy com subsurface**\n",
    "\n",
    "Aqui tem um exemplo do to_subsurface resultado e também a criação de orientation points pelo gempy.\n",
    "\n",
    "- https://docs.gempy.org/integrations/gempy_subsurface.html?highlight=select_nearest_surfaces_points#\n",
    "\n",
    "##### **Códigos:**\n",
    "\n",
    "```python\n",
    "-gp.compute_model(geo_model, to_subsurface=True)\n",
    "```\n",
    "```python\t\n",
    "\n",
    "neighbours = gp.select_nearest_surfaces_points(geo_model, geo_model._surface_points.df, 2)\n",
    "# calculate all fault orientations\n",
    "gp.set_orientation_from_neighbours_all(geo_model, neighbours)\n",
    "```"
   ]
  },
  {
   "cell_type": "markdown",
   "metadata": {},
   "source": [
    "---------------------"
   ]
  },
  {
   "cell_type": "markdown",
   "metadata": {},
   "source": []
  }
 ],
 "metadata": {
  "language_info": {
   "name": "python"
  }
 },
 "nbformat": 4,
 "nbformat_minor": 2
}
