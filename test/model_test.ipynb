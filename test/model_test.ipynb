{
 "cells": [
  {
   "cell_type": "code",
   "execution_count": null,
   "metadata": {},
   "outputs": [],
   "source": [
    "# Importing GemPy and viewer\n",
    "import gempy as gp\n",
    "import gempy_viewer as gpv\n",
    "\n",
    "# Auxiliary libraries\n",
    "import numpy as np\n",
    "import matplotlib.pyplot as plt\n",
    "import matplotlib.image as mpimg"
   ]
  },
  {
   "cell_type": "code",
   "execution_count": null,
   "metadata": {},
   "outputs": [],
   "source": [
    "geo_model: gp.data.GeoModel = gp.create_geomodel(\n",
    "    project_name='Model1',\n",
    "    extent=[0, 791, -200, 200, -582, 0],\n",
    "    resolution=[50, 50, 50],\n",
    "    refinement=4,\n",
    "    structural_frame=gp.data.StructuralFrame.initialize_default_structure()\n",
    ")\n",
    "geo_model"
   ]
  },
  {
   "cell_type": "code",
   "execution_count": null,
   "metadata": {},
   "outputs": [],
   "source": [
    "p2d = gpv.plot_2d(geo_model)"
   ]
  },
  {
   "cell_type": "code",
   "execution_count": null,
   "metadata": {},
   "outputs": [],
   "source": [
    "img = mpimg.imread('wells.png')\n",
    "p2d = gpv.plot_2d(geo_model, show=False)\n",
    "p2d.axes[0].imshow(img, origin='upper', alpha=.8, extent=(0, 791, -582, 0))\n",
    "plt.show()"
   ]
  },
  {
   "cell_type": "code",
   "execution_count": null,
   "metadata": {},
   "outputs": [],
   "source": [
    "p3d = gpv.plot_3d(geo_model, image=True)"
   ]
  },
  {
   "cell_type": "code",
   "execution_count": null,
   "metadata": {},
   "outputs": [],
   "source": [
    "gp.add_surface_points(\n",
    "    geo_model=geo_model,\n",
    "    x=[223],\n",
    "    y=[0.01],\n",
    "    z=[-94],\n",
    "    elements_names=['surface1']\n",
    ")\n",
    "\n",
    "gpv.plot_2d(geo_model, cell_number=11)\n",
    "gpv.plot_3d(geo_model, image=True)"
   ]
  },
  {
   "cell_type": "code",
   "execution_count": null,
   "metadata": {},
   "outputs": [],
   "source": []
  }
 ],
 "metadata": {
  "kernelspec": {
   "display_name": "gempy",
   "language": "python",
   "name": "python3"
  },
  "language_info": {
   "codemirror_mode": {
    "name": "ipython",
    "version": 3
   },
   "file_extension": ".py",
   "mimetype": "text/x-python",
   "name": "python",
   "nbconvert_exporter": "python",
   "pygments_lexer": "ipython3",
   "version": "3.10.0"
  }
 },
 "nbformat": 4,
 "nbformat_minor": 2
}
